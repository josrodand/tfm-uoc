{
 "cells": [
  {
   "cell_type": "code",
   "execution_count": 1,
   "metadata": {},
   "outputs": [],
   "source": [
    "from langchain_aws import ChatBedrock\n",
    "from bs4 import BeautifulSoup\n",
    "import pandas as pd\n",
    "import requests\n",
    "from selenium import webdriver\n",
    "from selenium.webdriver.chrome.service import Service\n",
    "from selenium.webdriver.common.by import By\n",
    "\n",
    "llm = ChatBedrock(\n",
    "    model_id=\"us.anthropic.claude-3-haiku-20240307-v1:0\",\n",
    "    region = \"us-east-1\",    \n",
    "    model_kwargs=dict(temperature=0)\n",
    ")\n",
    "\n"
   ]
  },
  {
   "cell_type": "code",
   "execution_count": 56,
   "metadata": {},
   "outputs": [],
   "source": [
    "from extractor.core.base_extractor import BaseExtractor\n",
    "from extractor.params.extraction_params import (\n",
    "    CDTI_MAIN_DIR, \n",
    "    IMPLICITY_WAIT_TIME\n",
    ")\n",
    "\n",
    "class CDTIAidExtractor(BaseExtractor):\n",
    "\n",
    "    def __init__(\n",
    "        self, \n",
    "        instrument,\n",
    "        support_ambit,\n",
    "        name,\n",
    "        url):\n",
    "\n",
    "        super().__init__()\n",
    "        self.instrument=instrument\n",
    "        self.support_ambit=support_ambit\n",
    "        self.name=name\n",
    "        self.url=url\n",
    "        self.persist_data_dir = self.persist_data_dir + \"/\" + CDTI_MAIN_DIR + \"/\" + self.get_name_parsed()\n",
    "\n",
    "        self.implicity_wait_time = IMPLICITY_WAIT_TIME\n",
    "\n",
    "\n",
    "    def get_name_parsed(self):\n",
    "        return self.name.replace(\" \", \"_\").lower()\n",
    "\n",
    "    \n",
    "    def extract_description(self, url = None):\n",
    "\n",
    "        url = url if url else self.url\n",
    "        \n",
    "        driver = cdti_aid_extractor.setup_driver()\n",
    "        driver.get(url)\n",
    "        driver.implicitly_wait(self.implicity_wait_time)\n",
    "\n",
    "        try:\n",
    "            aid_title = driver.find_element(By.CLASS_NAME, \"block-field-blocknodeayudastitle\")\n",
    "        except: \n",
    "            aid_title = None\n",
    "        try:\n",
    "            aid_description = driver.find_element(By.CLASS_NAME, \"block-field-blocknodeayudasbody\")\n",
    "        except:\n",
    "            aid_description = None\n",
    "\n",
    "        if aid_description:\n",
    "            aid_title_text = aid_title.text\n",
    "            aid_description_text = aid_description.text  \n",
    "            aid_description_md = \"\\n\".join([chunk.strip() for chunk in aid_description_text.split(\"\\n\")])\n",
    "            aid_description_md = \"# \" + aid_title.text + \"\\n\" + aid_description_text\n",
    "\n",
    "            driver.quit()\n",
    "\n",
    "            return aid_title_text, aid_description_md\n",
    "\n",
    "        else:\n",
    "            driver.quit()\n",
    "            return None, None\n",
    "\n",
    "\n",
    "    \n",
    "    def extract_aid_card(self, url=None):\n",
    "\n",
    "        url = url if url else self.url\n",
    "\n",
    "        driver = cdti_aid_extractor.setup_driver()\n",
    "        driver.get(url)\n",
    "        driver.implicitly_wait(self.implicity_wait_time)\n",
    "        try:\n",
    "            aid_card_element = driver.find_element(By.CLASS_NAME, \"card-body\")\n",
    "        except:\n",
    "            aid_card_element = None\n",
    "\n",
    "        if aid_card_element:\n",
    "        \n",
    "            aid_card_md = \"\"\n",
    "            card_fields = aid_card_element.find_elements(By.CLASS_NAME, \"ficha-field-wrapper\")\n",
    "\n",
    "            for card_field in card_fields:\n",
    "                field_title = card_field.find_element(By.CLASS_NAME, \"title\").text.strip()\n",
    "                field_text = card_field.find_element(By.CLASS_NAME, \"text\").text.strip()\n",
    "                aid_card_md += f\"# {field_title}\\n{field_text}\\n\\n\"\n",
    "\n",
    "            driver.quit()\n",
    "\n",
    "            return aid_card_md\n",
    "\n",
    "        else:\n",
    "            driver.quit()\n",
    "            return None\n",
    "        \n",
    "\n",
    "    def extract_aid_doc_url(self, url=None):\n",
    "\n",
    "        url = url if url else self.url\n",
    "\n",
    "        driver = cdti_aid_extractor.setup_driver()\n",
    "        driver.get(url)\n",
    "        driver.implicitly_wait(self.implicity_wait_time)\n",
    "\n",
    "        try:\n",
    "            aid_card_element = driver.find_element(By.CLASS_NAME, \"card-body-normativa\")\n",
    "        except:\n",
    "            aid_card_element = None\n",
    "            \n",
    "        if aid_card_element:\n",
    "            a_aid = aid_card_element.find_element(By.TAG_NAME, \"a\")\n",
    "            aid_url = a_aid.get_attribute(\"href\")\n",
    "\n",
    "            driver.quit()\n",
    "            return aid_url\n",
    "        else:\n",
    "            driver.quit()\n",
    "            return None\n",
    "\n",
    "\n",
    "    def extract_aid_subpage(self, url=None):\n",
    "\n",
    "        url = url if url else self.url\n",
    "\n",
    "        driver = cdti_aid_extractor.setup_driver()\n",
    "        driver.get(url)\n",
    "        driver.implicitly_wait(self.implicity_wait_time)\n",
    "\n",
    "        try:\n",
    "            aid_card_element = driver.find_element(By.CLASS_NAME, \"view-display-id-block_1\")\n",
    "        except:\n",
    "            aid_card_element = None\n",
    "\n",
    "        if aid_card_element:\n",
    "\n",
    "            try:\n",
    "                a_element = aid_card_element.find_elements(By.TAG_NAME, \"a\")\n",
    "            except:\n",
    "                a_element = None\n",
    "\n",
    "            subpage_name = a_element[0].text\n",
    "            subpage_url = a_element[0].get_attribute(\"href\")\n",
    "\n",
    "            driver.quit()\n",
    "\n",
    "            return subpage_name, subpage_url\n",
    "\n",
    "        else:\n",
    "            driver.quit()\n",
    "            return None, None\n",
    "\n",
    "\n",
    "\n",
    "    # def run_aid_extraction(self):\n",
    "\n",
    "    #     self.driver.get(self.url)\n",
    "    #     self.driver.implicitly_wait(5)\n",
    "\n",
    "    #     self.extract_description()\n",
    "    #     self.extract_aid_card()\n",
    "\n",
    "    #     return self\n",
    "\n"
   ]
  },
  {
   "cell_type": "code",
   "execution_count": 85,
   "metadata": {},
   "outputs": [
    {
     "data": {
      "text/plain": [
       "instrument       Ayuda parcialmente reembolsable\n",
       "support_ambit                         Innovación\n",
       "name                 Línea Directa de Innovación\n",
       "url               https://www.cdti.es/node/18458\n",
       "Name: 5, dtype: object"
      ]
     },
     "execution_count": 85,
     "metadata": {},
     "output_type": "execute_result"
    }
   ],
   "source": [
    "matrix_data = pd.read_csv('data/cdti/matrix_data/cdti_matrix_data.csv')\n",
    "aid_data = matrix_data.iloc[5]\n",
    "aid_data"
   ]
  },
  {
   "cell_type": "code",
   "execution_count": 86,
   "metadata": {},
   "outputs": [
    {
     "data": {
      "text/plain": [
       "'línea_directa_de_innovación'"
      ]
     },
     "execution_count": 86,
     "metadata": {},
     "output_type": "execute_result"
    }
   ],
   "source": [
    "cdti_aid_extractor = CDTIAidExtractor(\n",
    "    instrument=aid_data['instrument'],\n",
    "    support_ambit=aid_data['support_ambit'],\n",
    "    name=aid_data['name'],\n",
    "    url=aid_data['url']\n",
    ")\n",
    "cdti_aid_extractor.get_name_parsed()"
   ]
  },
  {
   "cell_type": "code",
   "execution_count": 87,
   "metadata": {},
   "outputs": [
    {
     "name": "stdout",
     "output_type": "stream",
     "text": [
      "extracting aid: Línea Directa de Innovación - Ayuda parcialmente reembolsable, Innovación\n",
      "extracted description: 298\n",
      "extracted card: 3601\n",
      "extracted aid_doc:  https://www.cdti.es/sites/default/files/2025-03/lic.pdf\n"
     ]
    }
   ],
   "source": [
    "# extract description\n",
    "extraction_data = {}\n",
    "\n",
    "print(f\"extracting aid: {cdti_aid_extractor.name} - {cdti_aid_extractor.instrument}, {cdti_aid_extractor.support_ambit}\")\n",
    "description_title, description_body = cdti_aid_extractor.extract_description()\n",
    "\n",
    "if description_title:\n",
    "    print(\"extracted description:\", len(description_body))\n",
    "    extraction_data['description'] = {\n",
    "        'description_title': description_title,\n",
    "        'description_body': description_body\n",
    "    }\n",
    "\n",
    "else:\n",
    "    print(\"No description found\")\n",
    "\n",
    "# extract card\n",
    "aid_card = cdti_aid_extractor.extract_aid_card()\n",
    "\n",
    "if aid_card:\n",
    "    print(\"extracted card:\", len(aid_card))\n",
    "    extraction_data['aid_card'] = aid_card\n",
    "else:\n",
    "    print(\"No card found\")\n",
    "\n",
    "# extract doc url\n",
    "aid_doc_url = cdti_aid_extractor.extract_aid_doc_url()\n",
    "if aid_doc_url:\n",
    "    print(\"extracted aid_doc: \", aid_doc_url)\n",
    "    extraction_data['aid_doc_url'] = aid_doc_url\n",
    "\n",
    "else:\n",
    "    print(\"No doc url found\")\n",
    "    print(\"Extracting subpage\")\n",
    "\n",
    "    # extract subpage\n",
    "    subpage_name, subpage_url = cdti_aid_extractor.extract_aid_subpage()\n",
    "\n",
    "    if subpage_name:\n",
    "        print(f\"found subpage: {subpage_name}, {subpage_url}\")\n",
    "        extraction_data['subpage'] = {\n",
    "            \"subpage_name\": subpage_name,\n",
    "            \"subpage_url\": subpage_url\n",
    "        }\n",
    "\n",
    "        print(\"extracting subpage\")\n",
    "        description_title_subpage, description_body_subpage = cdti_aid_extractor.extract_description(url=subpage_url)\n",
    "        if description_title_subpage:\n",
    "            print(\"extracted description:\", len(description_body_subpage))\n",
    "            extraction_data['subpage']['description_title_subpage'] = description_title_subpage\n",
    "            extraction_data['subpage']['description_body_subpage'] = description_body_subpage\n",
    "\n",
    "        else:\n",
    "            print(\"No description subpage found\")\n",
    "\n",
    "        # extract card\n",
    "        aid_card_subpage = cdti_aid_extractor.extract_aid_card(url=subpage_url)\n",
    "        if aid_card_subpage:\n",
    "            print(\"extracted card:\", len(aid_card_subpage))\n",
    "            extraction_data['subpage']['aid_card_subpage'] = aid_card_subpage\n",
    "        else:\n",
    "            print(\"No card subpage found\")\n",
    "\n",
    "        # extract doc url\n",
    "        aid_doc_subpage_url = cdti_aid_extractor.extract_aid_doc_url(url=subpage_url)\n",
    "        if aid_doc_subpage_url:\n",
    "            print(\"extracted aid_doc: \", aid_doc_subpage_url)\n",
    "            extraction_data['subpage']['aid_doc_subpage_url'] = aid_doc_subpage_url\n",
    "        else:\n",
    "            print(\"No doc subpage url found\")\n"
   ]
  },
  {
   "cell_type": "code",
   "execution_count": null,
   "metadata": {},
   "outputs": [
    {
     "data": {
      "text/plain": [
       "{'description': {'description_title': 'Línea Directa de Innovación',\n",
       "  'description_body': '# Línea Directa de Innovación\\nApoyo a proyectos de carácter aplicado, muy cercanos al mercado, con riesgo tecnológico medio/bajo y cortos períodos de recuperación de la inversión, que consigan mejorar la competitividad de la empresa mediante la incorporación de tecnologías emergentes en el sector.'},\n",
       " 'aid_card': '# Actuación\\nLínea Directa de Innovación (LIC)\\n\\n# Beneficiarios\\nEmpresas (proyectos individuales).\\n\\n# Tipo de convocatoria\\nAbierta todo el año.\\n\\n# Plazo de presentación\\nTodo el año.\\n\\n# Tipo de la ayuda\\nAyuda parcialmente reembolsable.\\n\\n# Características de la ayuda\\nAyuda de hasta el 75% del presupuesto aprobado (hasta al 85% si va cofinanciada con FEDER).\\nTramo no reembolsable (calculado sobre un máximo del 75% del presupuesto aprobado):\\nFondos CDTI: 7%\\nFondos Europeos: 10%\\nTipo de interés fijo con dos opciones en función del período de amortización elegido:\\nAmortización a 5 años: Euribor a un año +0,50%.\\nAmortización a 7 años: Euribor a un año +1%.\\nPrimera amortización de capital al año de la finalización prevista del proyecto.\\nEl CDTI podrá requerir la constitución de garantías para la devolución de la ayuda cuando el análisis económico financiero de la empresa así lo requiera.\\nEn su caso, el CDTI podrá aplicar una minoración o exención de las garantías solicitadas.\\nAnticipo de hasta el 50% de la ayuda con límite de 300.000 euros, sin exigencia de garantías adicionales a las condiciones financieras aprobadas por el Consejo de Administración, y de hasta el 75% con avales considerados suficientes por el CDTI por la diferencia.\\nLa empresa deberá aportar, al menos, el 15% del presupuesto del proyecto con recursos propios o financiación externa. No se permite la refinanciación.\\nAyuda sujeta al régimen de minimis.\\n\\n# Características del proyecto\\nPresupuesto mínimo elegible: 175.000 euros.\\nPresupuesto máximo financiable: 6.000.000 euros.\\nDuración: de 9 meses a 24 meses.\\n\\n# Puede incluir fondos de terceros\\nSí. Fondos Europeos: Fondos FEDER, MRR y otros.\\nLos proyectos cofinanciados con Fondos FEDER 21-27 deberán acreditar el cumplimiento del principio DNSH.\\n\\n# Permite generar informes motivados\\nNo.\\n\\n# Gastos elegibles\\nApoyo a empresas con proyectos de innovación tecnológica con alguno/s de los siguientes objetivos:\\nIncorporación y adaptación activa de tecnologías emergentes en la empresa, así como los procesos de adaptación y mejora de tecnologías a nuevos mercados.\\nAplicación del diseño industrial e ingeniería de producto y proceso para la mejora de los mismos.\\nAplicación de un método de producción o suministro nuevo o significativamente mejorado, incluidos cambios significativos en cuanto a técnicas, equipos y/o programas informáticos. \\nEn estos proyectos se apoya la adquisición de activos fijos nuevos que suponga un salto tecnológico importante para la empresa que realiza el proyecto. Son elegibles los costes de personal; materiales y consumibles; contratación de servicios externos y subcontrataciones; costes de auditoría y costes de la validación del cumplimiento del principio DNSH.\\nLa formalización de las inversiones y gastos deberán ser posteriores a la fecha de presentación de la solicitud.\\nUna vez completada, la inversión deberá mantenerse en el lugar de desarrollo del proyecto, al menos durante cinco años siempre que el proyecto haya sido cofinanciado con fondos FEDER.\\n\\n# Acumulación e incompatibilidades de percepción de ayudas adicionales\\nLas ayudas concedidas a través de esta línea sólo podrán acumularse con otras ayudas de minimis hasta el límite máximo establecido en el artículo 3.2 del Reglamento UE 2023/2831, salvo que financien los mismos gastos subvencionables.\\n\\n# Marco normativo\\nEstas ayudas se ajustarán a lo establecido en el Reglamento (UE) Nº. 2023/2831 de la Comisión, de 13 de diciembre de 2023, relativo a la aplicación de los artículos 107 y 108 del Tratado de Funcionamiento de la Unión Europea a las ayudas de minimis.\\n\\n',\n",
       " 'aid_doc_url': 'https://www.cdti.es/sites/default/files/2025-03/lic.pdf'}"
      ]
     },
     "execution_count": 88,
     "metadata": {},
     "output_type": "execute_result"
    }
   ],
   "source": [
    "# TODO: crear metodo en clase\n",
    "\n",
    "# formateo de datos de salida para que el contenido de subpage se meta dentro del main\n",
    "# si hay description en main y subpage, concatenarlo\n",
    "# lo que no haya en main y si en subpage, llevarselo ahi\n",
    "# el resultado tiene que ser:\n",
    "# {'description': {'description_title': '',\n",
    "#   'description_body': ''},\n",
    "#  'aid_card': '',\n",
    "#  'aid_doc_url': ''}\n",
    "\n",
    "# persistencia de datos\n",
    "# crear los ficheros con la info, texto plano en md y pdfs para los docs. buscar forma de\n",
    "# descargar en el directorio el pdf desde python\n",
    "\n",
    "extraction_data"
   ]
  },
  {
   "cell_type": "code",
   "execution_count": 64,
   "metadata": {},
   "outputs": [
    {
     "name": "stdout",
     "output_type": "stream",
     "text": [
      "# Actuación conjunta ISCIII-CDTI 2023\n",
      "El CDTI concederá ayudas parcialmente reembolsables a los proyectos de I+D desarrollados por empresas en cooperación con centros y organismos de investigación en el ámbito de la medicina personalizada y terapias emergentes.\n",
      "Los proyectos deberán encajar en la misión definida, sobre terapias avanzadas y medicina de precisión enfocadas a:\n",
      "Envejecimiento\n",
      "Enfermedades crónicas\n"
     ]
    }
   ],
   "source": [
    "print(description_body_subpage)"
   ]
  },
  {
   "cell_type": "code",
   "execution_count": 21,
   "metadata": {},
   "outputs": [
    {
     "name": "stdout",
     "output_type": "stream",
     "text": [
      "None\n"
     ]
    }
   ],
   "source": [
    "print(cdti_aid_extractor.extract_aid_card())"
   ]
  },
  {
   "cell_type": "code",
   "execution_count": 50,
   "metadata": {},
   "outputs": [
    {
     "name": "stdout",
     "output_type": "stream",
     "text": [
      "None\n"
     ]
    }
   ],
   "source": [
    "# busqueda de url de normativa\n",
    "print(cdti_aid_extractor.extract_aid_doc_url())"
   ]
  },
  {
   "cell_type": "code",
   "execution_count": null,
   "metadata": {},
   "outputs": [
    {
     "data": {
      "text/plain": [
       "('ACTUACIÓN CONJUNTA ISCIII-CDTI 2023',\n",
       " 'https://www.cdti.es/ayudas/actuacion-conjunta-isciii-cdti-2023')"
      ]
     },
     "execution_count": 51,
     "metadata": {},
     "output_type": "execute_result"
    }
   ],
   "source": [
    "cdti_aid_extractor.extract_aid_subpage()<"
   ]
  },
  {
   "cell_type": "code",
   "execution_count": null,
   "metadata": {},
   "outputs": [
    {
     "name": "stdout",
     "output_type": "stream",
     "text": [
      "ACTUACIÓN CONJUNTA ISCIII-CDTI 2023 https://www.cdti.es/ayudas/actuacion-conjunta-isciii-cdti-2023\n"
     ]
    }
   ],
   "source": [
    "# extraccion de subconvocatoria\n",
    "# view-id-ayudas\n",
    "# view-display-id-block_1\n",
    "driver = cdti_aid_extractor.setup_driver()\n",
    "driver.get(cdti_aid_extractor.url)\n",
    "driver.implicitly_wait(3)\n",
    "try:\n",
    "    aid_card_element = driver.find_element(By.CLASS_NAME, \"view-display-id-block_1\")\n",
    "except:\n",
    "    aid_card_element = None\n",
    "\n",
    "try:\n",
    "    a_element = aid_card_element.find_elements(By.TAG_NAME, \"a\")\n",
    "except:\n",
    "    a_element = None\n",
    "\n",
    "print(a_element[0].text, a_element[0].get_attribute(\"href\"))"
   ]
  },
  {
   "cell_type": "code",
   "execution_count": null,
   "metadata": {},
   "outputs": [
    {
     "name": "stdout",
     "output_type": "stream",
     "text": [
      "https://www.cdti.es/ayudas/actuacion-conjunta-isciii-cdti-2023\n"
     ]
    }
   ],
   "source": [
    "\n",
    "\n",
    "print(a_element[0].get_attribute(\"href\"))"
   ]
  },
  {
   "cell_type": "code",
   "execution_count": null,
   "metadata": {},
   "outputs": [],
   "source": [
    "try:\n",
    "    a_element = aid_card_element.find_elements(By.TAG_NAME, \"a\")\n",
    "except:\n",
    "    a_element = None"
   ]
  },
  {
   "cell_type": "code",
   "execution_count": null,
   "metadata": {},
   "outputs": [],
   "source": []
  },
  {
   "cell_type": "code",
   "execution_count": null,
   "metadata": {},
   "outputs": [],
   "source": []
  },
  {
   "cell_type": "code",
   "execution_count": null,
   "metadata": {},
   "outputs": [],
   "source": []
  },
  {
   "cell_type": "code",
   "execution_count": 16,
   "metadata": {},
   "outputs": [
    {
     "name": "stdout",
     "output_type": "stream",
     "text": [
      "https://www.cdti.es/node/115\n"
     ]
    }
   ],
   "source": [
    "print(cdti_aid_extractor.url)"
   ]
  },
  {
   "cell_type": "code",
   "execution_count": 28,
   "metadata": {},
   "outputs": [],
   "source": [
    "driver = cdti_aid_extractor.driver\n",
    "url = cdti_aid_extractor.url\n",
    "\n",
    "driver.get(url)\n",
    "driver.implicitly_wait(5)\n",
    "# find matrix block\n",
    "# div_element = driver.find_element(By.CLASS_NAME, \"block-field-blocknodeayudasbody\")"
   ]
  },
  {
   "cell_type": "code",
   "execution_count": 54,
   "metadata": {},
   "outputs": [
    {
     "name": "stdout",
     "output_type": "stream",
     "text": [
      "Los Proyectos de I+D son ayudas a proyectos de I+D desarrollados por empresas y destinados a la creación y mejora significativa de procesos productivos, productos o servicios.\n",
      "Se presentan en distintas modalidades:\n",
      "Proyectos de I+D individuales: presentados por una única empresa.\n",
      "Proyectos de I+D de Cooperación Nacional: presentados por un consorcio de un mínimo de dos y un máximo de seis empresas autónomas. Deberán suscribir un acuerdo privado de colaboración que rija el consorcio.\n",
      "Proyectos de I+D de Cooperación Tecnológica Internacional: presentados por empresas españolas participantes en programas de cooperación tecnológica internacional gestionados por el CDTI:\n",
      "Programas multilaterales EUREKA, IBEROEKA y PRIMA.\n",
      "Programas bilaterales establecidos por CDTI con Instituciones y Agencias de Financiación de otros países en virtud de acuerdos bilaterales.\n",
      "Programa de proyectos internacionales con certificación y seguimiento unilateral por CDTI.\n",
      "Proyectos de I+D de Cooperación Tecnológica Europea, relacionados con la potenciación de la capacidad tecnológica de las empresas españolas para participar en las siguientes iniciativas y proyectos:\n",
      "Proyectos Importantes de Interés Común Europeo (PIICE).\n",
      "Proyectos del Partenariado Institucional IHI (Innovative Health Initiative).\n",
      "Proyectos derivados de Partenariados de Horizonte Europa.\n",
      "Proyectos de I+D de Capacitación Tecnológica para la participación en licitaciones internacionales o nacionales, relacionados con la potenciación de la capacidad tecnológica de las empresas españolas para participar en licitaciones de proyectos y programas gestionados por organizaciones internacionales en las que el CDTI ostenta la representación española, así como la capacitación tecnológica para participar en las licitaciones de las Infraestructuras Científicas y Técnicas Singulares (ICTS).\n",
      "Grandes Instalaciones Científico-Tecnológicas Internacionales.\n",
      "Instalaciones Científicas y Técnicas Singulares (ICTS) recogidas en el Mapa de Infraestructuras Científicas y Técnicas Singulares vigente.\n",
      "Proyectos de I+D para el desarrollo de tecnologías duales: relacionados con la capacitación tecnológica de las empresas españolas para licitar en materia de Defensa y Seguridad.\n",
      "Proyectos de I+D Orientados, presentados por una única empresa, de gran tamaño y relevantes en ámbitos tecnológicos estratégicos.\n",
      "Puedes consultar a continuación la ficha resumen con las características de este instrumento.\n",
      "\n"
     ]
    }
   ],
   "source": [
    "# aid description\n",
    "\n",
    "aid_description = driver.find_element(By.CLASS_NAME, \"block-field-blocknodeayudasbody\").text\n",
    "aid_description = \"\\n\".join([chunk.strip() for chunk in aid_description.split(\"\\n\")])\n",
    "print(aid_description)"
   ]
  },
  {
   "cell_type": "code",
   "execution_count": null,
   "metadata": {},
   "outputs": [
    {
     "name": "stdout",
     "output_type": "stream",
     "text": [
      "# Actuación\n",
      "Proyectos CDTI de I+D\n",
      "\n",
      "# Objetivo general de la actuación\n",
      "Ayudas a proyectos de I+D desarrollados por empresas y destinados a la creación y mejora significativa de procesos productivos, productos o servicios.\n",
      "Pueden comprender tanto actividades de investigación industrial como de desarrollo experimental.\n",
      "No existe ninguna restricción en cuanto al sector o a la tecnología a desarrollar.\n",
      "\n",
      "# Beneficiarios\n",
      "Empresas.\n",
      "\n",
      "# Tipo de convocatoria\n",
      "Convocatoria abierta todo el año.\n",
      "\n",
      "# Plazo de presentación\n",
      "Todo el año.\n",
      "\n",
      "# Tipo de la ayuda\n",
      "Ayuda parcialmente reembolsable.\n",
      "\n",
      "# Características de la ayuda\n",
      "Tipo de interés fijo: Euribor a 1 año.\n",
      "Ayuda de hasta el 85% del presupuesto aprobado.\n",
      "La empresa deberá aportar, al menos, el 15% del presupuesto del proyecto con recursos propios.\n",
      "Anticipo de hasta el 50% de la ayuda con límite de 300.000 euros, sin exigencia de garantías adicionales.\n",
      "Tramo no reembolsable de entre el 10% y el 33% de la ayuda.\n",
      "Devolución: 10 o 15 años incluyendo una carencia entre 2 y 3 años.\n",
      "El CDTI podrá requerir la constitución de garantías para la devolución de la ayuda cuando el análisis económico financiero de la empresa así lo indique.\n",
      "En su caso, el CDTI podrá aplicar una minoración o exención de las garantías solicitadas.\n",
      "\n",
      "# Características del proyecto\n",
      "Presupuesto mínimo elegible: 175.000 euros \n",
      "Duración: 12 a 36 meses. De 12 a 48 meses en el caso de los proyectos de Cooperación Nacional.\n",
      "\n",
      "# Puede incluir fondos de terceros\n",
      "Sí, del FEDER y MRR.\n",
      "Los proyectos cofinanciados con Fondos FEDER deberán acreditar el cumplimiento del principio DNSH.\n",
      "No en el caso de los proyectos de desarrollo de tecnologías duales.\n",
      "\n",
      "# Permite generar informes motivados\n",
      "Sí\n",
      "\n",
      "# Gastos elegibles\n",
      "Todos los gastos apoyados se han de destinar en exclusiva o derivar directamente de la actividad de I+D apoyada.\n",
      "Son elegibles para la ayuda los gastos de personal; costes de instrumental y material; costes de investigación contractual, conocimientos técnicos y patentes adquiridas, consultoría y servicios equivalentes; gastos generales suplementarios y otros gastos derivados del proyecto. También son elegibles el gasto derivado del informe de auditor y el gasto del informe de valoración del cumplimiento del principio DNSH. \n",
      "Las colaboraciones externas no podrán superar el 65% del presupuesto elegible con carácter general.\n",
      "Se pueden subcontratar determinadas actividades del proyecto a otras empresas o a organismos de investigación.\n",
      "\n",
      "# Criterios de evaluación\n",
      "Criterios de evaluación técnica:\n",
      "- Plan de explotación comercial del proyecto.\n",
      "- Tecnología e innovación del proyecto.\n",
      "- Capacidad de la empresa o consorcio.\n",
      "- Valoración del impacto socioeconómico, perspectiva de género y sostenibilidad.\n",
      "Criterios de evaluación financiera:\n",
      "- Análisis de la consideración de empresa en crisis.\n",
      "- Análisis económico-financiero y de riesgo.\n",
      "- Análisis económico-financiero del proyecto.\n",
      "- Adecuación económico-financiera de cada empresa a las empresas que realiza en el proyecto.\n",
      "\n",
      "# Efecto incentivador\n",
      "Se considerará que la ayuda tienen un efecto incentivador si, antes de comenzar a trabajar en el proyecto, el beneficiario ha presentado por escrito su solicitud de ayuda al CDTI.\n",
      "\n",
      "# Acumulación e incompatibilidades de percepción de ayudas adicionales\n",
      "- En los proyectos financiados con fondos CDTI la ayuda es incompatible con cualesquiera otras ayudas públicas destinadas al mismo proyecto (salvo las excepciones contempladas en la ficha de detalle del instrumento).\n",
      "- En los proyectos cofinanciados con fondos europeos gestionados por el CDTI, la ayuda es compatible con cualesquiera otras ayudas públicas siempre que su fuente de financiación no proceda del presupuesto de la UE. \n",
      "- La ayuda es incompatible con cualquier ayuda privada cuya fuente de financiación provenga de fondos del Presupuesto de la UE.\n",
      "\n",
      "# Marco normativo\n",
      "Estas ayudas se ajustarán a lo establecido en el Reglamento (UE) n.º 651/2014, de la Comisión, de 17 de junio de 2014, por el que se declaran determinadas categorías de ayuda compatibles con el mercado interior en aplicación de los artículos 107 y 108 del Tratado (Reglamento general de exención por categorías).\n",
      "\n",
      "\n"
     ]
    }
   ],
   "source": [
    "aid_card = {}\n",
    "\n",
    "aid_card_element = driver.find_element(By.CLASS_NAME, \"card-body\")\n",
    "card_fields = aid_card_element.find_elements(By.CLASS_NAME, \"ficha-field-wrapper\")\n",
    "for card_field in card_fields:\n",
    "    field_title = card_field.find_element(By.CLASS_NAME, \"title\").text.strip()\n",
    "    field_text = card_field.find_element(By.CLASS_NAME, \"text\").text.strip()\n",
    "\n",
    "    aid_card[str(field_title)] = field_text\n",
    "    # print(field_title, \"\\n\", field_text, \"\\n\\n\")\n",
    "    aid_card += f\"# {field_title}\\n{field_text}\\n\\n\"\n",
    "\n",
    "print(aid_card)"
   ]
  },
  {
   "cell_type": "code",
   "execution_count": null,
   "metadata": {},
   "outputs": [
    {
     "data": {
      "text/plain": [
       "'Ficha resumen de la ayuda\\nActuación\\nProyectos CDTI de I+D\\nObjetivo general de la actuación\\nAyudas a proyectos de I+D desarrollados por empresas y destinados a la creación y mejora significativa de procesos productivos, productos o servicios.\\nPueden comprender tanto actividades de investigación industrial como de desarrollo experimental.\\nNo existe ninguna restricción en cuanto al sector o a la tecnología a desarrollar.\\nBeneficiarios\\nEmpresas.\\n  Tipo de convocatoria\\nConvocatoria abierta todo el año.\\nPlazo de presentación\\nTodo el año.\\nTipo de la ayuda\\nAyuda parcialmente reembolsable. \\nCaracterísticas de la ayuda\\nTipo de interés fijo: Euribor a 1 año.\\nAyuda de hasta el 85% del presupuesto aprobado.\\nLa empresa deberá aportar, al menos, el 15% del presupuesto del proyecto con recursos propios.\\nAnticipo de hasta el 50% de la ayuda con límite de 300.000 euros, sin exigencia de garantías adicionales.\\nTramo no reembolsable de entre el 10% y el 33% de la ayuda.\\nDevolución: 10 o 15 años incluyendo una carencia entre 2 y 3 años.\\nEl CDTI podrá requerir la constitución de garantías para la devolución de la ayuda cuando el análisis económico financiero de la empresa así lo indique.\\nEn su caso, el CDTI podrá aplicar una minoración o exención de las garantías solicitadas.\\nCaracterísticas del proyecto\\nPresupuesto mínimo elegible: 175.000 euros \\nDuración: 12 a 36 meses. De 12 a 48 meses en el caso de los proyectos de Cooperación Nacional.\\nPuede incluir fondos de terceros\\nSí, del FEDER y MRR.\\nLos proyectos cofinanciados con Fondos FEDER deberán acreditar el cumplimiento del principio DNSH.\\nNo en el caso de los proyectos de desarrollo de tecnologías duales.\\nPermite generar informes motivados\\nSí\\nGastos elegibles\\nTodos los gastos apoyados se han de destinar en exclusiva o derivar directamente de la actividad de I+D apoyada.\\nSon elegibles para la ayuda los gastos de personal; costes de instrumental y material; costes de investigación contractual, conocimientos técnicos y patentes adquiridas, consultoría y servicios equivalentes; gastos generales suplementarios y otros gastos derivados del proyecto. También son elegibles el gasto derivado del informe de auditor y el gasto del informe de valoración del cumplimiento del principio DNSH. \\nLas colaboraciones externas no podrán superar el 65% del presupuesto elegible con carácter general.\\nSe pueden subcontratar determinadas actividades del proyecto a otras empresas o a organismos de investigación.\\nCriterios de evaluación\\nCriterios de evaluación técnica:\\n- Plan de explotación comercial del proyecto.\\n- Tecnología e innovación del proyecto.\\n- Capacidad de la empresa o consorcio.\\n- Valoración del impacto socioeconómico, perspectiva de género y sostenibilidad.\\nCriterios de evaluación financiera:\\n- Análisis de la consideración de empresa en crisis.\\n- Análisis económico-financiero y de riesgo.\\n- Análisis económico-financiero del proyecto.\\n- Adecuación económico-financiera de cada empresa a las empresas que realiza en el proyecto.\\n  Efecto incentivador\\nSe considerará que la ayuda tienen un efecto incentivador si, antes de comenzar a trabajar en el proyecto, el beneficiario ha presentado por escrito su solicitud de ayuda al CDTI.\\nAcumulación e incompatibilidades de percepción de ayudas adicionales\\n- En los proyectos financiados con fondos CDTI la ayuda es incompatible con cualesquiera otras ayudas públicas destinadas al mismo proyecto (salvo las excepciones contempladas en la ficha de detalle del instrumento).\\n- En los proyectos cofinanciados con fondos europeos gestionados por el CDTI, la ayuda es compatible con cualesquiera otras ayudas públicas siempre que su fuente de financiación no proceda del presupuesto de la UE. \\n- La ayuda es incompatible con cualquier ayuda privada cuya fuente de financiación provenga de fondos del Presupuesto de la UE.\\nMarco normativo\\nEstas ayudas se ajustarán a lo establecido en el Reglamento (UE) n.º 651/2014, de la Comisión, de 17 de junio de 2014, por el que se declaran determinadas categorías de ayuda compatibles con el mercado interior en aplicación de los artículos 107 y 108 del Tratado (Reglamento general de exención por categorías).\\nSOLICITUD\\nAPLICACIÓN ONLINE CDTI\\nEMAIL CONSULTAS\\nINSTRUMENTOS_ID@CDTI.ES\\nMÁS INFORMACIÓN\\nFAQ EMPRESAS EN CRISIS\\nVIDEO\\nVER VIDEO'"
      ]
     },
     "execution_count": 71,
     "metadata": {},
     "output_type": "execute_result"
    }
   ],
   "source": [
    "# pdf convocatoria cuidaooo\n",
    "# a veces viene como ficha del instrumento y a veces como listado de convocatorias, que hay que coger la primera\n",
    "aid_call_document = driver.find_element(By.CLASS_NAME, \"view-id-ayudas\")\n",
    "aid_call_document.text\n"
   ]
  },
  {
   "cell_type": "code",
   "execution_count": null,
   "metadata": {},
   "outputs": [],
   "source": [
    "'''\n",
    "formato de enlaces\n",
    "\n",
    "* normal: como i+d: en el enlace principal viene:\n",
    "    * body\n",
    "    * ficha\n",
    "    * enlace a pdf: ficha del instrumento\n",
    "\n",
    "* caso 1: Actuación conjunta ISCIII-CDTI: \n",
    "    * hay un body\n",
    "    hay una lista de enlaces de convocatorias presentes y pasadas. Hay que coger la primera\n",
    "    * en ese enlace:\n",
    "        * otro body mas pequeño\n",
    "        * ficha\n",
    "        * enlace a pdf (ficha del instrumento)\n",
    "* caso 2: Programa Tecnológico de Automoción Sostenible (PTAS):\n",
    "    * no hay body, aunque podria haberlo\n",
    "    * ficha\n",
    "    * enlace a pdf: documentacion convocatorias\n",
    "* caso 3: CDTI-Era-Net:\n",
    "    * body\n",
    "    * ficha\n",
    "    * lista de enlaces a convocatorias. coger la primera.\n",
    "        * otro body\n",
    "        enlace a pdf: texto de la convocatoria\n",
    "'''"
   ]
  },
  {
   "cell_type": "code",
   "execution_count": null,
   "metadata": {},
   "outputs": [],
   "source": [
    "'''\n",
    "mas o menos generico:\n",
    "\n",
    "texto descripcion: \n",
    "block-field-blocknodeayudastitle\n",
    "block-field-blocknodeayudasbody\n",
    "\n",
    "ficha: card-body\n",
    "\n",
    "enlace documento pdf: card-body-normativa\n",
    "\n",
    "cuando hay varias opciones de convocatorias:\n",
    "view-id-ayudas\n",
    "view-display-id-block_1\n",
    "\n",
    "'''"
   ]
  },
  {
   "cell_type": "code",
   "execution_count": null,
   "metadata": {},
   "outputs": [],
   "source": [
    "'''\n",
    "flujo del scrapper\n",
    "\n",
    "entra en url desde matrix\n",
    "busca title y body de descripcion. \n",
    "pillar title para nombre documento\n",
    "Si existe el body, genera un md con el contenido\n",
    "busca ficha del documento. Si exsite, genera un md con el contenido\n",
    "busca enlace a pdf de convocatoria (card-body-normativa). \n",
    "if existe:\n",
    "    lo guarda en pdf\n",
    "else:\n",
    "    busca enlace de subpaginas: \n",
    "        view-id-ayudas\n",
    "        view-display-id-block_1\n",
    "    Sacar las url y pillar la primera que es la mas actual.\n",
    "    a esa url quizas haya que añadirle https://www.cdti.es/\n",
    "\n",
    "    en esa pagina repetimos:\n",
    "    busca title y body de descripcion. \n",
    "    pillar title para nombre documento\n",
    "    Si existe el body, genera un md con el contenido\n",
    "    busca ficha del documento. Si exsite, genera un md con el contenido\n",
    "\n",
    "'''"
   ]
  },
  {
   "cell_type": "code",
   "execution_count": null,
   "metadata": {},
   "outputs": [],
   "source": [
    "necesito un codigo en python con selenium que haga lo siguiente:\n",
    "\n",
    "rellena un diccionario con los siguiente:\n",
    "a partir de una url busca:\n",
    "comprueba si existen los elementos de clase block-field-blocknodeayudastitle yblock-field-blocknodeayudasbody\n",
    "En caso de existir, extrae el texto de ambos, los concatena y lo guarda en el diccionario con el nombre \"aid_description_1\"\n",
    "Busca el elemento de clase card-body, y si existe, extrae todo el texto que contiene concatenado, de todos los elementos de clase ficha-field-wrapper. Los concatena y lo guarda en el diccionario con el nombre \"aid_card_1\"\n",
    "ahora busca el elemento card-body-normativa\n",
    "si existe, almacena la url en el diccionario con el nombre \"aid_call_document_url\"\n",
    "si no existe:\n",
    "comprueba si hay mas enlaces a subdocumentos. busca el elemento view-id-ayudas y extrae la primera url que aparece.\n",
    "\n",
    "Con selenium, en esa url, repite el proceso de busqueda de los elementos block-field-blocknodeayudastitle, block-field-blocknodeayudasbody, card-body y card-body-normativa\n",
    "En caso de existir cada uno, los almacena en json de la misma forma, pero empleando el sufijo _2"
   ]
  },
  {
   "cell_type": "code",
   "execution_count": null,
   "metadata": {},
   "outputs": [],
   "source": []
  },
  {
   "cell_type": "code",
   "execution_count": null,
   "metadata": {},
   "outputs": [],
   "source": []
  },
  {
   "cell_type": "code",
   "execution_count": 47,
   "metadata": {},
   "outputs": [
    {
     "data": {
      "text/plain": [
       "'Estas ayudas se ajustarán a lo establecido en el Reglamento (UE) n.º 651/2014, de la Comisión, de 17 de junio de 2014, por el que se declaran determinadas categorías de ayuda compatibles con el mercado interior en aplicación de los artículos 107 y 108 del Tratado (Reglamento general de exención por categorías).'"
      ]
     },
     "execution_count": 47,
     "metadata": {},
     "output_type": "execute_result"
    }
   ],
   "source": [
    "field_text"
   ]
  },
  {
   "cell_type": "code",
   "execution_count": 37,
   "metadata": {},
   "outputs": [
    {
     "name": "stdout",
     "output_type": "stream",
     "text": [
      "Actuación \n",
      " Proyectos CDTI de I+D \n",
      "\n",
      "\n",
      "Objetivo general de la actuación \n",
      " Ayudas a proyectos de I+D desarrollados por empresas y destinados a la creación y mejora significativa de procesos productivos, productos o servicios.\n",
      "Pueden comprender tanto actividades de investigación industrial como de desarrollo experimental.\n",
      "No existe ninguna restricción en cuanto al sector o a la tecnología a desarrollar. \n",
      "\n",
      "\n",
      "Beneficiarios \n",
      " Empresas. \n",
      "\n",
      "\n",
      "Tipo de convocatoria \n",
      " Convocatoria abierta todo el año. \n",
      "\n",
      "\n",
      "Plazo de presentación \n",
      " Todo el año. \n",
      "\n",
      "\n",
      "Tipo de la ayuda \n",
      " Ayuda parcialmente reembolsable. \n",
      "\n",
      "\n",
      "Características de la ayuda \n",
      " Tipo de interés fijo: Euribor a 1 año.\n",
      "Ayuda de hasta el 85% del presupuesto aprobado.\n",
      "La empresa deberá aportar, al menos, el 15% del presupuesto del proyecto con recursos propios.\n",
      "Anticipo de hasta el 50% de la ayuda con límite de 300.000 euros, sin exigencia de garantías adicionales.\n",
      "Tramo no reembolsable de entre el 10% y el 33% de la ayuda.\n",
      "Devolución: 10 o 15 años incluyendo una carencia entre 2 y 3 años.\n",
      "El CDTI podrá requerir la constitución de garantías para la devolución de la ayuda cuando el análisis económico financiero de la empresa así lo indique.\n",
      "En su caso, el CDTI podrá aplicar una minoración o exención de las garantías solicitadas. \n",
      "\n",
      "\n",
      "Características del proyecto \n",
      " Presupuesto mínimo elegible: 175.000 euros \n",
      "Duración: 12 a 36 meses. De 12 a 48 meses en el caso de los proyectos de Cooperación Nacional. \n",
      "\n",
      "\n",
      "Puede incluir fondos de terceros \n",
      " Sí, del FEDER y MRR.\n",
      "Los proyectos cofinanciados con Fondos FEDER deberán acreditar el cumplimiento del principio DNSH.\n",
      "No en el caso de los proyectos de desarrollo de tecnologías duales. \n",
      "\n",
      "\n",
      "Permite generar informes motivados \n",
      " Sí \n",
      "\n",
      "\n",
      "Gastos elegibles \n",
      " Todos los gastos apoyados se han de destinar en exclusiva o derivar directamente de la actividad de I+D apoyada.\n",
      "Son elegibles para la ayuda los gastos de personal; costes de instrumental y material; costes de investigación contractual, conocimientos técnicos y patentes adquiridas, consultoría y servicios equivalentes; gastos generales suplementarios y otros gastos derivados del proyecto. También son elegibles el gasto derivado del informe de auditor y el gasto del informe de valoración del cumplimiento del principio DNSH. \n",
      "Las colaboraciones externas no podrán superar el 65% del presupuesto elegible con carácter general.\n",
      "Se pueden subcontratar determinadas actividades del proyecto a otras empresas o a organismos de investigación. \n",
      "\n",
      "\n",
      "Criterios de evaluación \n",
      " Criterios de evaluación técnica:\n",
      "- Plan de explotación comercial del proyecto.\n",
      "- Tecnología e innovación del proyecto.\n",
      "- Capacidad de la empresa o consorcio.\n",
      "- Valoración del impacto socioeconómico, perspectiva de género y sostenibilidad.\n",
      "Criterios de evaluación financiera:\n",
      "- Análisis de la consideración de empresa en crisis.\n",
      "- Análisis económico-financiero y de riesgo.\n",
      "- Análisis económico-financiero del proyecto.\n",
      "- Adecuación económico-financiera de cada empresa a las empresas que realiza en el proyecto. \n",
      "\n",
      "\n",
      "Efecto incentivador \n",
      " Se considerará que la ayuda tienen un efecto incentivador si, antes de comenzar a trabajar en el proyecto, el beneficiario ha presentado por escrito su solicitud de ayuda al CDTI. \n",
      "\n",
      "\n",
      "Acumulación e incompatibilidades de percepción de ayudas adicionales \n",
      " - En los proyectos financiados con fondos CDTI la ayuda es incompatible con cualesquiera otras ayudas públicas destinadas al mismo proyecto (salvo las excepciones contempladas en la ficha de detalle del instrumento).\n",
      "- En los proyectos cofinanciados con fondos europeos gestionados por el CDTI, la ayuda es compatible con cualesquiera otras ayudas públicas siempre que su fuente de financiación no proceda del presupuesto de la UE. \n",
      "- La ayuda es incompatible con cualquier ayuda privada cuya fuente de financiación provenga de fondos del Presupuesto de la UE. \n",
      "\n",
      "\n",
      "Marco normativo \n",
      " Estas ayudas se ajustarán a lo establecido en el Reglamento (UE) n.º 651/2014, de la Comisión, de 17 de junio de 2014, por el que se declaran determinadas categorías de ayuda compatibles con el mercado interior en aplicación de los artículos 107 y 108 del Tratado (Reglamento general de exención por categorías). \n",
      "\n",
      "\n"
     ]
    }
   ],
   "source": [
    "card_fields = aid_card.find_elements(By.CLASS_NAME, \"ficha-field-wrapper\")\n",
    "for card_field in card_fields:\n",
    "    field_title = card_field.find_element(By.CLASS_NAME, \"title\").text.strip()\n",
    "    field_text = card_field.find_element(By.CLASS_NAME, \"text\").text.strip()\n",
    "    print(field_title, \"\\n\", field_text, \"\\n\\n\")\n"
   ]
  },
  {
   "cell_type": "code",
   "execution_count": 35,
   "metadata": {},
   "outputs": [
    {
     "data": {
      "text/plain": [
       "'Proyectos CDTI de I+D'"
      ]
     },
     "execution_count": 35,
     "metadata": {},
     "output_type": "execute_result"
    }
   ],
   "source": [
    "card_field = card_fields[0]\n",
    "card_field.find_element(By.CLASS_NAME, \"title\").text\n",
    "card_field.find_element(By.CLASS_NAME, \"text\").text"
   ]
  },
  {
   "cell_type": "code",
   "execution_count": null,
   "metadata": {},
   "outputs": [],
   "source": [
    "url = \"https://ejemplo.com\"  # Reemplaza con la URL que necesitas\n",
    "driver.get(url)\n",
    "\n",
    "try:\n",
    "    # Encontrar el div por clase\n",
    "    div_element = driver.find_element(By.CLASS_NAME, \"block-field-blocknodeayudasbody\")\n",
    "    \n",
    "    # Obtener todos los elementos dentro del div\n",
    "    inner_elements = div_element.find_elements(By.XPATH, \".//*\")\n",
    "    \n",
    "    # Extraer y mostrar los textos\n",
    "    for element in inner_elements:\n",
    "        text = element.text.strip()\n",
    "        if text:\n",
    "            print(text)\n",
    "finally:\n",
    "    driver.quit()"
   ]
  },
  {
   "cell_type": "code",
   "execution_count": null,
   "metadata": {},
   "outputs": [],
   "source": []
  },
  {
   "cell_type": "code",
   "execution_count": null,
   "metadata": {},
   "outputs": [],
   "source": []
  },
  {
   "cell_type": "code",
   "execution_count": null,
   "metadata": {},
   "outputs": [],
   "source": []
  },
  {
   "cell_type": "code",
   "execution_count": null,
   "metadata": {},
   "outputs": [],
   "source": []
  },
  {
   "cell_type": "code",
   "execution_count": null,
   "metadata": {},
   "outputs": [],
   "source": []
  },
  {
   "cell_type": "code",
   "execution_count": null,
   "metadata": {},
   "outputs": [],
   "source": []
  },
  {
   "cell_type": "code",
   "execution_count": null,
   "metadata": {},
   "outputs": [],
   "source": []
  },
  {
   "cell_type": "code",
   "execution_count": null,
   "metadata": {},
   "outputs": [],
   "source": []
  },
  {
   "cell_type": "code",
   "execution_count": null,
   "metadata": {},
   "outputs": [],
   "source": []
  },
  {
   "cell_type": "code",
   "execution_count": null,
   "metadata": {},
   "outputs": [],
   "source": []
  },
  {
   "cell_type": "code",
   "execution_count": null,
   "metadata": {},
   "outputs": [],
   "source": []
  },
  {
   "cell_type": "code",
   "execution_count": null,
   "metadata": {},
   "outputs": [],
   "source": []
  },
  {
   "cell_type": "code",
   "execution_count": null,
   "metadata": {},
   "outputs": [],
   "source": []
  },
  {
   "cell_type": "code",
   "execution_count": null,
   "metadata": {},
   "outputs": [],
   "source": []
  },
  {
   "cell_type": "code",
   "execution_count": null,
   "metadata": {},
   "outputs": [],
   "source": []
  },
  {
   "cell_type": "code",
   "execution_count": null,
   "metadata": {},
   "outputs": [],
   "source": []
  },
  {
   "cell_type": "code",
   "execution_count": null,
   "metadata": {},
   "outputs": [],
   "source": []
  }
 ],
 "metadata": {
  "kernelspec": {
   "display_name": ".venv",
   "language": "python",
   "name": "python3"
  },
  "language_info": {
   "codemirror_mode": {
    "name": "ipython",
    "version": 3
   },
   "file_extension": ".py",
   "mimetype": "text/x-python",
   "name": "python",
   "nbconvert_exporter": "python",
   "pygments_lexer": "ipython3",
   "version": "3.12.0"
  }
 },
 "nbformat": 4,
 "nbformat_minor": 2
}
