{
 "cells": [
  {
   "cell_type": "code",
   "execution_count": 2,
   "metadata": {},
   "outputs": [],
   "source": [
    "from langchain_aws import ChatBedrock\n",
    "from bs4 import BeautifulSoup\n",
    "import pandas as pd\n",
    "import requests\n",
    "from selenium import webdriver\n",
    "from selenium.webdriver.chrome.service import Service\n",
    "from selenium.webdriver.common.by import By\n",
    "\n",
    "llm = ChatBedrock(\n",
    "    model_id=\"us.anthropic.claude-3-haiku-20240307-v1:0\",\n",
    "    region = \"us-east-1\",    \n",
    "    model_kwargs=dict(temperature=0)\n",
    ")\n",
    "\n"
   ]
  },
  {
   "cell_type": "code",
   "execution_count": 5,
   "metadata": {},
   "outputs": [
    {
     "data": {
      "text/html": [
       "<div>\n",
       "<style scoped>\n",
       "    .dataframe tbody tr th:only-of-type {\n",
       "        vertical-align: middle;\n",
       "    }\n",
       "\n",
       "    .dataframe tbody tr th {\n",
       "        vertical-align: top;\n",
       "    }\n",
       "\n",
       "    .dataframe thead th {\n",
       "        text-align: right;\n",
       "    }\n",
       "</style>\n",
       "<table border=\"1\" class=\"dataframe\">\n",
       "  <thead>\n",
       "    <tr style=\"text-align: right;\">\n",
       "      <th></th>\n",
       "      <th>instrument</th>\n",
       "      <th>support_ambit</th>\n",
       "      <th>name</th>\n",
       "      <th>url</th>\n",
       "    </tr>\n",
       "  </thead>\n",
       "  <tbody>\n",
       "    <tr>\n",
       "      <th>0</th>\n",
       "      <td>Ayuda parcialmente reembolsable</td>\n",
       "      <td>Investigación y desarrollo</td>\n",
       "      <td>Proyectos de I + D</td>\n",
       "      <td>https://www.cdti.es/node/115</td>\n",
       "    </tr>\n",
       "    <tr>\n",
       "      <th>1</th>\n",
       "      <td>Ayuda parcialmente reembolsable</td>\n",
       "      <td>Investigación y desarrollo</td>\n",
       "      <td>Actuación conjunta ISCIII-CDTI</td>\n",
       "      <td>https://www.cdti.es/node/180</td>\n",
       "    </tr>\n",
       "    <tr>\n",
       "      <th>2</th>\n",
       "      <td>Ayuda parcialmente reembolsable</td>\n",
       "      <td>Investigación y desarrollo</td>\n",
       "      <td>Proyectos de I+D de Transferencia Tecnológica ...</td>\n",
       "      <td>https://www.cdti.es/node/18478</td>\n",
       "    </tr>\n",
       "    <tr>\n",
       "      <th>3</th>\n",
       "      <td>Ayuda parcialmente reembolsable</td>\n",
       "      <td>Investigación y desarrollo</td>\n",
       "      <td>Proyectos de I+D Aeroespacial y Salud</td>\n",
       "      <td>https://www.cdti.es/node/19033</td>\n",
       "    </tr>\n",
       "    <tr>\n",
       "      <th>4</th>\n",
       "      <td>Ayuda parcialmente reembolsable</td>\n",
       "      <td>Innovación</td>\n",
       "      <td>Línea Directa de Expansión</td>\n",
       "      <td>https://www.cdti.es/node/191</td>\n",
       "    </tr>\n",
       "  </tbody>\n",
       "</table>\n",
       "</div>"
      ],
      "text/plain": [
       "                        instrument               support_ambit  \\\n",
       "0  Ayuda parcialmente reembolsable  Investigación y desarrollo   \n",
       "1  Ayuda parcialmente reembolsable  Investigación y desarrollo   \n",
       "2  Ayuda parcialmente reembolsable  Investigación y desarrollo   \n",
       "3  Ayuda parcialmente reembolsable  Investigación y desarrollo   \n",
       "4  Ayuda parcialmente reembolsable                  Innovación   \n",
       "\n",
       "                                                name  \\\n",
       "0                                 Proyectos de I + D   \n",
       "1                     Actuación conjunta ISCIII-CDTI   \n",
       "2  Proyectos de I+D de Transferencia Tecnológica ...   \n",
       "3              Proyectos de I+D Aeroespacial y Salud   \n",
       "4                         Línea Directa de Expansión   \n",
       "\n",
       "                              url  \n",
       "0    https://www.cdti.es/node/115  \n",
       "1    https://www.cdti.es/node/180  \n",
       "2  https://www.cdti.es/node/18478  \n",
       "3  https://www.cdti.es/node/19033  \n",
       "4    https://www.cdti.es/node/191  "
      ]
     },
     "execution_count": 5,
     "metadata": {},
     "output_type": "execute_result"
    }
   ],
   "source": [
    "matrix_data = pd.read_csv('data/cdti/matrix_data/cdti_matrix_data.csv')\n",
    "matrix_data.head()"
   ]
  },
  {
   "cell_type": "code",
   "execution_count": 8,
   "metadata": {},
   "outputs": [
    {
     "data": {
      "text/plain": [
       "instrument       Ayuda parcialmente reembolsable\n",
       "support_ambit         Investigación y desarrollo\n",
       "name                          Proyectos de I + D\n",
       "url                 https://www.cdti.es/node/115\n",
       "Name: 0, dtype: object"
      ]
     },
     "execution_count": 8,
     "metadata": {},
     "output_type": "execute_result"
    }
   ],
   "source": [
    "aid_data = matrix_data.iloc[0]\n",
    "aid_data"
   ]
  },
  {
   "cell_type": "code",
   "execution_count": null,
   "metadata": {},
   "outputs": [],
   "source": [
    "from extractor.core.base_extractor import BaseExtractor\n",
    "from extractor.params.extraction_params import (\n",
    "    CDTI_MAIN_DIR, \n",
    ")\n",
    "\n",
    "class CDTIAidExtractor(BaseExtractor):\n",
    "\n",
    "    def __init__(\n",
    "        self, \n",
    "        instrument,\n",
    "        support_ambit,\n",
    "        name,\n",
    "        url):\n",
    "\n",
    "        super().__init__()\n",
    "\n",
    "        self.instrument=instrument\n",
    "        self.support_ambit=support_ambit\n",
    "        self.name=name\n",
    "        self.url=url\n",
    "\n",
    "        self.persist_data_dir = self.persist_data_dir + \"/\" + CDTI_MAIN_DIR + \"/\" + self.get_name_parsed()\n",
    "\n",
    "\n",
    "    def get_name_parsed(self):\n",
    "        return self.name.replace(\" \", \"_\").lower()\n"
   ]
  },
  {
   "cell_type": "code",
   "execution_count": null,
   "metadata": {},
   "outputs": [],
   "source": []
  },
  {
   "cell_type": "code",
   "execution_count": null,
   "metadata": {},
   "outputs": [],
   "source": []
  },
  {
   "cell_type": "code",
   "execution_count": null,
   "metadata": {},
   "outputs": [],
   "source": []
  },
  {
   "cell_type": "code",
   "execution_count": null,
   "metadata": {},
   "outputs": [],
   "source": []
  },
  {
   "cell_type": "code",
   "execution_count": null,
   "metadata": {},
   "outputs": [],
   "source": []
  },
  {
   "cell_type": "code",
   "execution_count": null,
   "metadata": {},
   "outputs": [],
   "source": []
  },
  {
   "cell_type": "code",
   "execution_count": null,
   "metadata": {},
   "outputs": [],
   "source": []
  },
  {
   "cell_type": "code",
   "execution_count": null,
   "metadata": {},
   "outputs": [],
   "source": []
  },
  {
   "cell_type": "code",
   "execution_count": null,
   "metadata": {},
   "outputs": [],
   "source": []
  },
  {
   "cell_type": "code",
   "execution_count": null,
   "metadata": {},
   "outputs": [],
   "source": []
  },
  {
   "cell_type": "code",
   "execution_count": null,
   "metadata": {},
   "outputs": [],
   "source": []
  },
  {
   "cell_type": "code",
   "execution_count": null,
   "metadata": {},
   "outputs": [],
   "source": []
  },
  {
   "cell_type": "code",
   "execution_count": null,
   "metadata": {},
   "outputs": [],
   "source": []
  },
  {
   "cell_type": "code",
   "execution_count": null,
   "metadata": {},
   "outputs": [],
   "source": []
  },
  {
   "cell_type": "code",
   "execution_count": null,
   "metadata": {},
   "outputs": [],
   "source": []
  },
  {
   "cell_type": "code",
   "execution_count": null,
   "metadata": {},
   "outputs": [],
   "source": []
  },
  {
   "cell_type": "code",
   "execution_count": null,
   "metadata": {},
   "outputs": [],
   "source": []
  },
  {
   "cell_type": "code",
   "execution_count": null,
   "metadata": {},
   "outputs": [],
   "source": []
  },
  {
   "cell_type": "code",
   "execution_count": null,
   "metadata": {},
   "outputs": [],
   "source": []
  },
  {
   "cell_type": "code",
   "execution_count": null,
   "metadata": {},
   "outputs": [],
   "source": []
  }
 ],
 "metadata": {
  "kernelspec": {
   "display_name": ".venv",
   "language": "python",
   "name": "python3"
  },
  "language_info": {
   "codemirror_mode": {
    "name": "ipython",
    "version": 3
   },
   "file_extension": ".py",
   "mimetype": "text/x-python",
   "name": "python",
   "nbconvert_exporter": "python",
   "pygments_lexer": "ipython3",
   "version": "3.12.0"
  }
 },
 "nbformat": 4,
 "nbformat_minor": 2
}
