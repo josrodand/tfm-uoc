{
 "cells": [
  {
   "cell_type": "code",
   "execution_count": 1,
   "metadata": {},
   "outputs": [],
   "source": [
    "import os\n",
    "from langchain_aws import ChatBedrock\n",
    "from bs4 import BeautifulSoup\n",
    "import pandas as pd\n",
    "import subprocess\n",
    "import requests\n",
    "from selenium import webdriver\n",
    "from selenium.webdriver.chrome.service import Service\n",
    "from selenium.webdriver.common.by import By\n",
    "\n",
    "llm = ChatBedrock(\n",
    "    model_id=\"us.anthropic.claude-3-haiku-20240307-v1:0\",\n",
    "    region = \"us-east-1\",    \n",
    "    model_kwargs=dict(temperature=0)\n",
    ")\n",
    "\n"
   ]
  },
  {
   "cell_type": "code",
   "execution_count": 2,
   "metadata": {},
   "outputs": [
    {
     "data": {
      "text/plain": [
       "instrument       Ayuda parcialmente reembolsable\n",
       "support_ambit         Investigación y desarrollo\n",
       "name                          Proyectos de I + D\n",
       "url                 https://www.cdti.es/node/115\n",
       "Name: 0, dtype: object"
      ]
     },
     "execution_count": 2,
     "metadata": {},
     "output_type": "execute_result"
    }
   ],
   "source": [
    "from extractor.cdti.cdti_aid_extractor import CDTIAidExtractor\n",
    "\n",
    "matrix_data = pd.read_csv('data/cdti/matrix_data/cdti_matrix_data.csv')\n",
    "aid_matrix_data = matrix_data.iloc[0]\n",
    "aid_matrix_data"
   ]
  },
  {
   "cell_type": "code",
   "execution_count": 3,
   "metadata": {},
   "outputs": [
    {
     "name": "stdout",
     "output_type": "stream",
     "text": [
      "proyectos_de_i_+_d data/cdti/cdti-aids/proyectos_de_i_+_d\n"
     ]
    }
   ],
   "source": [
    "cdti_aid_extractor = CDTIAidExtractor(\n",
    "    instrument=aid_matrix_data['instrument'],\n",
    "    support_ambit=aid_matrix_data['support_ambit'],\n",
    "    name=aid_matrix_data['name'],\n",
    "    url=aid_matrix_data['url']\n",
    ")\n",
    "print(cdti_aid_extractor.parse_string(cdti_aid_extractor.name), cdti_aid_extractor.persist_data_dir)"
   ]
  },
  {
   "cell_type": "code",
   "execution_count": 4,
   "metadata": {},
   "outputs": [
    {
     "name": "stdout",
     "output_type": "stream",
     "text": [
      "extracting aid: Proyectos de I + D - Ayuda parcialmente reembolsable, Investigación y desarrollo\n",
      "extracted title: Proyectos de I + D\n",
      "extracted description: 2475\n",
      "extracted card: 4171\n",
      "extracted aid_doc:  https://www.cdti.es/sites/default/files/2025-03/proyectos_de_id.pdf\n"
     ]
    },
    {
     "data": {
      "text/plain": [
       "{'description_title': 'Proyectos de I + D',\n",
       " 'description_body': '# Proyectos de I + D\\nLos Proyectos de I+D son ayudas a proyectos de I+D desarrollados por empresas y destinados a la creación y mejora significativa de procesos productivos, productos o servicios.\\n  Se presentan en distintas modalidades:\\nProyectos de I+D individuales: presentados por una única empresa.\\nProyectos de I+D de Cooperación Nacional: presentados por un consorcio de un mínimo de dos y un máximo de seis empresas autónomas. Deberán suscribir un acuerdo privado de colaboración que rija el consorcio.\\nProyectos de I+D de Cooperación Tecnológica Internacional: presentados por empresas españolas participantes en programas de cooperación tecnológica internacional gestionados por el CDTI:\\nProgramas multilaterales EUREKA, IBEROEKA y PRIMA.\\nProgramas bilaterales establecidos por CDTI con Instituciones y Agencias de Financiación de otros países en virtud de acuerdos bilaterales.\\nPrograma de proyectos internacionales con certificación y seguimiento unilateral por CDTI.\\nProyectos de I+D de Cooperación Tecnológica Europea, relacionados con la potenciación de la capacidad tecnológica de las empresas españolas para participar en las siguientes iniciativas y proyectos:\\nProyectos Importantes de Interés Común Europeo (PIICE).\\nProyectos del Partenariado Institucional IHI (Innovative Health Initiative).\\nProyectos derivados de Partenariados de Horizonte Europa.\\nProyectos de I+D de Capacitación Tecnológica para la participación en licitaciones internacionales o nacionales, relacionados con la potenciación de la capacidad tecnológica de las empresas españolas para participar en licitaciones de proyectos y programas gestionados por organizaciones internacionales en las que el CDTI ostenta la representación española, así como la capacitación tecnológica para participar en las licitaciones de las Infraestructuras Científicas y Técnicas Singulares (ICTS).\\nGrandes Instalaciones Científico-Tecnológicas Internacionales.\\nInstalaciones Científicas y Técnicas Singulares (ICTS) recogidas en el Mapa de Infraestructuras Científicas y Técnicas Singulares vigente.\\nProyectos de I+D para el desarrollo de tecnologías duales: relacionados con la capacitación tecnológica de las empresas españolas para licitar en materia de Defensa y Seguridad. \\nProyectos de I+D Orientados, presentados por una única empresa, de gran tamaño y relevantes en ámbitos tecnológicos estratégicos.\\nPuedes consultar a continuación la ficha resumen con las características de este instrumento. \\n ',\n",
       " 'aid_card': '# Actuación\\nProyectos CDTI de I+D\\n\\n# Objetivo general de la actuación\\nAyudas a proyectos de I+D desarrollados por empresas y destinados a la creación y mejora significativa de procesos productivos, productos o servicios.\\nPueden comprender tanto actividades de investigación industrial como de desarrollo experimental.\\nNo existe ninguna restricción en cuanto al sector o a la tecnología a desarrollar.\\n\\n# Beneficiarios\\nEmpresas.\\n\\n# Tipo de convocatoria\\nConvocatoria abierta todo el año.\\n\\n# Plazo de presentación\\nTodo el año.\\n\\n# Tipo de la ayuda\\nAyuda parcialmente reembolsable.\\n\\n# Características de la ayuda\\nTipo de interés fijo: Euribor a 1 año.\\nAyuda de hasta el 85% del presupuesto aprobado.\\nLa empresa deberá aportar, al menos, el 15% del presupuesto del proyecto con recursos propios.\\nAnticipo de hasta el 50% de la ayuda con límite de 300.000 euros, sin exigencia de garantías adicionales.\\nTramo no reembolsable de entre el 10% y el 33% de la ayuda.\\nDevolución: 10 o 15 años incluyendo una carencia entre 2 y 3 años.\\nEl CDTI podrá requerir la constitución de garantías para la devolución de la ayuda cuando el análisis económico financiero de la empresa así lo indique.\\nEn su caso, el CDTI podrá aplicar una minoración o exención de las garantías solicitadas.\\n\\n# Características del proyecto\\nPresupuesto mínimo elegible: 175.000 euros \\nDuración: 12 a 36 meses. De 12 a 48 meses en el caso de los proyectos de Cooperación Nacional.\\n\\n# Puede incluir fondos de terceros\\nSí, del FEDER y MRR.\\nLos proyectos cofinanciados con Fondos FEDER deberán acreditar el cumplimiento del principio DNSH.\\nNo en el caso de los proyectos de desarrollo de tecnologías duales.\\n\\n# Permite generar informes motivados\\nSí\\n\\n# Gastos elegibles\\nTodos los gastos apoyados se han de destinar en exclusiva o derivar directamente de la actividad de I+D apoyada.\\nSon elegibles para la ayuda los gastos de personal; costes de instrumental y material; costes de investigación contractual, conocimientos técnicos y patentes adquiridas, consultoría y servicios equivalentes; gastos generales suplementarios y otros gastos derivados del proyecto. También son elegibles el gasto derivado del informe de auditor y el gasto del informe de valoración del cumplimiento del principio DNSH. \\nLas colaboraciones externas no podrán superar el 65% del presupuesto elegible con carácter general.\\nSe pueden subcontratar determinadas actividades del proyecto a otras empresas o a organismos de investigación.\\n\\n# Criterios de evaluación\\nCriterios de evaluación técnica:\\n- Plan de explotación comercial del proyecto.\\n- Tecnología e innovación del proyecto.\\n- Capacidad de la empresa o consorcio.\\n- Valoración del impacto socioeconómico, perspectiva de género y sostenibilidad.\\nCriterios de evaluación financiera:\\n- Análisis de la consideración de empresa en crisis.\\n- Análisis económico-financiero y de riesgo.\\n- Análisis económico-financiero del proyecto.\\n- Adecuación económico-financiera de cada empresa a las empresas que realiza en el proyecto.\\n\\n# Efecto incentivador\\nSe considerará que la ayuda tienen un efecto incentivador si, antes de comenzar a trabajar en el proyecto, el beneficiario ha presentado por escrito su solicitud de ayuda al CDTI.\\n\\n# Acumulación e incompatibilidades de percepción de ayudas adicionales\\n- En los proyectos financiados con fondos CDTI la ayuda es incompatible con cualesquiera otras ayudas públicas destinadas al mismo proyecto (salvo las excepciones contempladas en la ficha de detalle del instrumento).\\n- En los proyectos cofinanciados con fondos europeos gestionados por el CDTI, la ayuda es compatible con cualesquiera otras ayudas públicas siempre que su fuente de financiación no proceda del presupuesto de la UE. \\n- La ayuda es incompatible con cualquier ayuda privada cuya fuente de financiación provenga de fondos del Presupuesto de la UE.\\n\\n# Marco normativo\\nEstas ayudas se ajustarán a lo establecido en el Reglamento (UE) n.º 651/2014, de la Comisión, de 17 de junio de 2014, por el que se declaran determinadas categorías de ayuda compatibles con el mercado interior en aplicación de los artículos 107 y 108 del Tratado (Reglamento general de exención por categorías).\\n\\n',\n",
       " 'aid_doc_url': 'https://www.cdti.es/sites/default/files/2025-03/proyectos_de_id.pdf'}"
      ]
     },
     "execution_count": 4,
     "metadata": {},
     "output_type": "execute_result"
    }
   ],
   "source": [
    "aid_data = cdti_aid_extractor.run_aid_extraction(formated=True)\n",
    "aid_data"
   ]
  },
  {
   "cell_type": "code",
   "execution_count": 5,
   "metadata": {},
   "outputs": [
    {
     "data": {
      "text/plain": [
       "'data/cdti/cdti-aids/proyectos_de_i_+_d'"
      ]
     },
     "execution_count": 5,
     "metadata": {},
     "output_type": "execute_result"
    }
   ],
   "source": [
    "cdti_aid_extractor.persist_data_dir"
   ]
  },
  {
   "cell_type": "code",
   "execution_count": null,
   "metadata": {},
   "outputs": [
    {
     "data": {
      "text/plain": [
       "CompletedProcess(args=['powershell', '-Command', '\\n$Url = \"https://www.cdti.es/sites/default/files/2025-03/proyectos_de_id.pdf\"\\n$Destino = \"data/cdti/cdti-aids/proyectos_de_i_+_d/proyectos_de_id.pdf\"\\nInvoke-WebRequest -Uri $Url -OutFile $Destino\\n\\n'], returncode=0)"
      ]
     },
     "execution_count": 6,
     "metadata": {},
     "output_type": "execute_result"
    }
   ],
   "source": [
    "# def persist_data(self, aid_data):\n",
    "# persist data\n",
    "\n",
    "def persist_data(self, aid_data):\n",
    "\n",
    "    if not os.path.exists(self.persist_data_dir):\n",
    "        os.makedirs(self.persist_data_dir)\n",
    "\n",
    "    # save description\n",
    "    description_dir = self.persist_data_dir + \"/\" + self.parse_string(aid_data['description_title'] + \"-description.md\")\n",
    "    # description_dir\n",
    "    with open(description_dir, \"w\", encoding=\"utf-8\") as file:\n",
    "        file.write(aid_data['description_body'])\n",
    "\n",
    "    # save card\n",
    "    card_dir = self.persist_data_dir + \"/\" + self.parse_string(aid_data['description_title'] + \"-card.md\")\n",
    "    # card_dir\n",
    "    with open(card_dir, \"w\", encoding=\"utf-8\") as file:\n",
    "        file.write(aid_data['aid_card'])\n",
    "\n",
    "    # save doc\n",
    "    doc_name = aid_data['aid_doc_url'].split('/')[-1]\n",
    "    doc_dir = self.persist_data_dir + \"/\" + doc_name\n",
    "    doc_dir = doc_dir.replace(\"/\", \"\\\\\")\n",
    "    # doc_name\n",
    "\n",
    "    powershell_script = f'''Invoke-WebRequest -uri \"{aid_data['aid_doc_url']}\" -OutFile \"{doc_dir}\"'''\n",
    "    subprocess.run([\"powershell\", \"-Command\", powershell_script])\n",
    "\n"
   ]
  },
  {
   "cell_type": "code",
   "execution_count": 18,
   "metadata": {},
   "outputs": [
    {
     "data": {
      "text/plain": [
       "CompletedProcess(args=['powershell', '-Command', 'Invoke-WebRequest -uri \"https://www.cdti.es/sites/default/files/2025-03/proyectos_de_id.pdf\" -OutFile \"data\\\\cdti\\\\cdti-aids\\\\proyectos_de_i_+_d\\\\proyectos_de_id.pdf\"'], returncode=0)"
      ]
     },
     "execution_count": 18,
     "metadata": {},
     "output_type": "execute_result"
    }
   ],
   "source": [
    "# save doc\n",
    "doc_name = aid_data['aid_doc_url'].split('/')[-1]\n",
    "doc_dir = cdti_aid_extractor.persist_data_dir + \"/\" + doc_name\n",
    "doc_dir = doc_dir.replace(\"/\", \"\\\\\")\n",
    "# doc_name\n",
    "\n",
    "powershell_script = f'''Invoke-WebRequest -uri \"{aid_data['aid_doc_url']}\" -OutFile \"{doc_dir}\"'''\n",
    "subprocess.run([\"powershell\", \"-Command\", powershell_script])"
   ]
  },
  {
   "cell_type": "code",
   "execution_count": 16,
   "metadata": {},
   "outputs": [
    {
     "data": {
      "text/plain": [
       "'data\\\\cdti\\\\cdti-aids\\\\proyectos_de_i_+_d\\\\conv.pdf'"
      ]
     },
     "execution_count": 16,
     "metadata": {},
     "output_type": "execute_result"
    }
   ],
   "source": [
    "doc_dir.replace(\"/\", \"\\\\\")"
   ]
  },
  {
   "cell_type": "code",
   "execution_count": 7,
   "metadata": {},
   "outputs": [
    {
     "data": {
      "text/plain": [
       "'https://www.cdti.es/sites/default/files/2025-03/proyectos_de_id.pdf'"
      ]
     },
     "execution_count": 7,
     "metadata": {},
     "output_type": "execute_result"
    }
   ],
   "source": [
    "aid_data['aid_doc_url']\n"
   ]
  },
  {
   "cell_type": "code",
   "execution_count": null,
   "metadata": {},
   "outputs": [],
   "source": []
  },
  {
   "cell_type": "code",
   "execution_count": null,
   "metadata": {},
   "outputs": [],
   "source": []
  },
  {
   "cell_type": "code",
   "execution_count": null,
   "metadata": {},
   "outputs": [],
   "source": []
  },
  {
   "cell_type": "code",
   "execution_count": 66,
   "metadata": {},
   "outputs": [],
   "source": [
    "from extractor.core.base_extractor import BaseExtractor\n",
    "from extractor.params.extraction_params import (\n",
    "    CDTI_MAIN_DIR, \n",
    "    IMPLICITY_WAIT_TIME\n",
    ")\n",
    "\n",
    "class CDTIAidExtractor(BaseExtractor):\n",
    "\n",
    "    def __init__(\n",
    "        self, \n",
    "        instrument,\n",
    "        support_ambit,\n",
    "        name,\n",
    "        url):\n",
    "\n",
    "        super().__init__()\n",
    "        self.instrument=instrument\n",
    "        self.support_ambit=support_ambit\n",
    "        self.name=name\n",
    "        self.url=url\n",
    "        self.persist_data_dir = self.persist_data_dir + \"/\" + CDTI_MAIN_DIR + \"/\" + self.get_name_parsed()\n",
    "\n",
    "        self.implicity_wait_time = IMPLICITY_WAIT_TIME\n",
    "\n",
    "\n",
    "    def get_name_parsed(self):\n",
    "        return self.name.replace(\" \", \"-\").lower()\n",
    "\n",
    "    \n",
    "    def extract_description(self, url = None):\n",
    "\n",
    "        url = url if url else self.url\n",
    "        \n",
    "        # driver = self.setup_driver()\n",
    "        self.driver.get(url)\n",
    "        # driver.implicitly_wait(self.implicity_wait_time)\n",
    "\n",
    "        try:\n",
    "            aid_title = self.driver.find_element(By.CLASS_NAME, \"block-field-blocknodeayudastitle\")\n",
    "        except: \n",
    "            aid_title = None\n",
    "        try:\n",
    "            aid_description = self.driver.find_element(By.CLASS_NAME, \"block-field-blocknodeayudasbody\")\n",
    "        except:\n",
    "            aid_description = None\n",
    "\n",
    "        if aid_description:\n",
    "            aid_title_text = aid_title.text\n",
    "            aid_description_text = aid_description.text  \n",
    "            aid_description_md = \"\\n\".join([chunk.strip() for chunk in aid_description_text.split(\"\\n\")])\n",
    "            aid_description_md = \"# \" + aid_title.text + \"\\n\" + aid_description_text\n",
    "\n",
    "            # driver.quit()\n",
    "\n",
    "            return aid_title_text, aid_description_md\n",
    "\n",
    "        else:\n",
    "            # driver.quit()\n",
    "            return None, None\n",
    "\n",
    "\n",
    "    \n",
    "    def extract_aid_card(self, url=None):\n",
    "\n",
    "        url = url if url else self.url\n",
    "\n",
    "        # driver = self.setup_driver()\n",
    "        self.driver.get(url)\n",
    "        # driver.implicitly_wait(self.implicity_wait_time)\n",
    "        try:\n",
    "            aid_card_element = self.driver.find_element(By.CLASS_NAME, \"card-body\")\n",
    "        except:\n",
    "            aid_card_element = None\n",
    "\n",
    "        if aid_card_element:\n",
    "        \n",
    "            aid_card_md = \"\"\n",
    "            card_fields = aid_card_element.find_elements(By.CLASS_NAME, \"ficha-field-wrapper\")\n",
    "\n",
    "            for card_field in card_fields:\n",
    "                field_title = card_field.find_element(By.CLASS_NAME, \"title\").text.strip()\n",
    "                field_text = card_field.find_element(By.CLASS_NAME, \"text\").text.strip()\n",
    "                aid_card_md += f\"# {field_title}\\n{field_text}\\n\\n\"\n",
    "\n",
    "            # driver.quit()\n",
    "\n",
    "            return aid_card_md\n",
    "\n",
    "        else:\n",
    "            # driver.quit()\n",
    "            return None\n",
    "        \n",
    "\n",
    "    def extract_aid_doc_url(self, url=None):\n",
    "\n",
    "        url = url if url else self.url\n",
    "\n",
    "        # driver = self.setup_driver()\n",
    "        self.driver.get(url)\n",
    "        # driver.implicitly_wait(self.implicity_wait_time)\n",
    "\n",
    "        try:\n",
    "            aid_card_element = self.driver.find_element(By.CLASS_NAME, \"card-body-normativa\")\n",
    "        except:\n",
    "            aid_card_element = None\n",
    "            \n",
    "        if aid_card_element:\n",
    "            a_aid = aid_card_element.find_element(By.TAG_NAME, \"a\")\n",
    "            aid_url = a_aid.get_attribute(\"href\")\n",
    "\n",
    "            # driver.quit()\n",
    "            return aid_url\n",
    "        else:\n",
    "            # driver.quit()\n",
    "            return None\n",
    "\n",
    "\n",
    "    def extract_aid_subpage(self, url=None):\n",
    "\n",
    "        url = url if url else self.url\n",
    "\n",
    "        # driver = self.setup_driver()\n",
    "        self.driver.get(url)\n",
    "        # driver.implicitly_wait(self.implicity_wait_time)\n",
    "\n",
    "        try:\n",
    "            aid_card_element = self.driver.find_element(By.CLASS_NAME, \"view-display-id-block_1\")\n",
    "        except:\n",
    "            aid_card_element = None\n",
    "\n",
    "        if aid_card_element:\n",
    "            try:\n",
    "                a_element = aid_card_element.find_elements(By.TAG_NAME, \"a\")\n",
    "            except:\n",
    "                a_element = None\n",
    "\n",
    "            subpage_name = a_element[0].text\n",
    "            subpage_url = a_element[0].get_attribute(\"href\")\n",
    "\n",
    "            # driver.quit()\n",
    "\n",
    "            return subpage_name, subpage_url\n",
    "\n",
    "        else:\n",
    "            # driver.quit()\n",
    "            return None, None\n",
    "\n",
    "\n",
    "\n",
    "    def run_aid_extraction(self, formated=True):\n",
    "\n",
    "        extraction_data = {}\n",
    "\n",
    "        self.driver = cdti_aid_extractor.setup_driver()\n",
    "\n",
    "        print(f\"extracting aid: {self.name} - {self.instrument}, {self.support_ambit}\")\n",
    "        description_title, description_body = self.extract_description()\n",
    "\n",
    "        if description_title:\n",
    "            print(\"extracted title:\", description_title)\n",
    "            extraction_data['description_title'] = description_title\n",
    "        else:\n",
    "            print(\"No description title found\")\n",
    "        \n",
    "        if description_body:\n",
    "            print(\"extracted description:\", len(description_body))\n",
    "            extraction_data['description_body'] =  description_body\n",
    "        else:\n",
    "            print(\"No description body found\")\n",
    "\n",
    "        # extract card\n",
    "        aid_card = self.extract_aid_card()\n",
    "\n",
    "        if aid_card:\n",
    "            print(\"extracted card:\", len(aid_card))\n",
    "            extraction_data['aid_card'] = aid_card\n",
    "        else:\n",
    "            print(\"No card found\")\n",
    "\n",
    "        # extract doc url\n",
    "        aid_doc_url = self.extract_aid_doc_url()\n",
    "\n",
    "        if aid_doc_url:\n",
    "            print(\"extracted aid_doc: \", aid_doc_url)\n",
    "            extraction_data['aid_doc_url'] = aid_doc_url\n",
    "        else:\n",
    "            print(\"No doc url found\")\n",
    "            print(\"Extracting subpage\")\n",
    "\n",
    "            # extract subpage\n",
    "            subpage_name, subpage_url = self.extract_aid_subpage()\n",
    "\n",
    "            if subpage_name:\n",
    "                print(f\"found subpage: {subpage_name}, {subpage_url}\")\n",
    "                extraction_data['subpage'] = {\n",
    "                    \"subpage_name\": subpage_name,\n",
    "                    \"subpage_url\": subpage_url\n",
    "                }\n",
    "\n",
    "                print(\"extracting subpage\")\n",
    "                description_title_subpage, description_body_subpage = self.extract_description(url=subpage_url)\n",
    "\n",
    "                if description_title_subpage:\n",
    "                    print(\"extracted subpage title:\", description_title_subpage)\n",
    "                    extraction_data['subpage']['description_title_subpage'] = description_title_subpage\n",
    "                else:\n",
    "                    print(\"No title subpage found\")\n",
    "\n",
    "                if description_body_subpage:\n",
    "                    print(\"extracted subpage description:\", len(description_body_subpage))\n",
    "                    extraction_data['subpage']['description_body_subpage'] = description_body_subpage\n",
    "                else:\n",
    "                    print(\"No description subpage found\")\n",
    "\n",
    "                # extract card\n",
    "                aid_card_subpage = self.extract_aid_card(url=subpage_url)\n",
    "\n",
    "                if aid_card_subpage:\n",
    "                    print(\"extracted card:\", len(aid_card_subpage))\n",
    "                    extraction_data['subpage']['aid_card_subpage'] = aid_card_subpage\n",
    "                else:\n",
    "                    print(\"No card subpage found\")\n",
    "\n",
    "                # extract doc url\n",
    "                aid_doc_subpage_url = self.extract_aid_doc_url(url=subpage_url)\n",
    "                \n",
    "                if aid_doc_subpage_url:\n",
    "                    print(\"extracted aid_doc: \", aid_doc_subpage_url)\n",
    "                    extraction_data['subpage']['aid_doc_subpage_url'] = aid_doc_subpage_url\n",
    "                else:\n",
    "                    print(\"No doc subpage url found\")\n",
    "            \n",
    "            else:\n",
    "                print(\"no subpage found\")\n",
    "\n",
    "        self.driver.quit()\n",
    "\n",
    "        if formated:\n",
    "            extraction_data = self.format_data(extraction_data)\n",
    "\n",
    "        return extraction_data\n",
    "\n",
    "\n",
    "    def format_data(self, aid_data):\n",
    "\n",
    "        aid_data_formated = {}\n",
    "\n",
    "        check_description_title = 'description_title' in aid_data.keys()\n",
    "        check_description_body = 'description_body' in aid_data.keys()\n",
    "        check_aid_card = 'aid_card' in aid_data.keys()\n",
    "        check_aid_doc_url = 'aid_doc_url' in aid_data.keys()\n",
    "        check_subpage = 'subpage' in aid_data.keys()\n",
    "        check_description_title_subpage = ('description_title_subpage' in aid_data['subpage'].keys()) if check_subpage else False\n",
    "        check_description_body_subpage = ('description_body_subpage' in aid_data['subpage'].keys()) if check_subpage else False\n",
    "        check_aid_card_subpage = ('aid_card_subpage' in aid_data['subpage'].keys()) if check_subpage else False\n",
    "        check_aid_doc_subpage_url = ('aid_doc_subpage_url' in aid_data['subpage'].keys()) if check_subpage else False\n",
    "\n",
    "        # title\n",
    "        if check_description_title:\n",
    "            aid_data_formated['description_title'] = aid_data['description_title']\n",
    "        elif not check_description_title and check_description_title_subpage:\n",
    "            aid_data_formated['description_title'] = aid_data['subpage']['description_title_subpage']\n",
    "        else:\n",
    "            aid_data_formated['description_title'] = ''\n",
    "\n",
    "        #  body\n",
    "        if check_description_body and not check_description_body_subpage:\n",
    "            aid_data_formated['description_body'] = aid_data['description_body']\n",
    "        elif not check_description_body and check_description_body_subpage:\n",
    "            aid_data_formated['description_body'] = aid_data['subpage']['description_body_subpage']\n",
    "        elif check_description_body and check_description_body_subpage:\n",
    "            aid_data_formated['description_body'] = aid_data['description_body'] + \"\\n\\n\" + aid_data['subpage']['description_body_subpage']\n",
    "        else:\n",
    "            aid_data_formated['description_body'] = ''\n",
    "\n",
    "        # aid_card\n",
    "        if check_aid_card:\n",
    "            aid_data_formated['aid_card'] = aid_data['aid_card']\n",
    "        elif not check_aid_card and check_aid_card_subpage:\n",
    "            aid_data_formated['aid_card'] = aid_data['subpage']['aid_card_subpage']\n",
    "        else:\n",
    "            aid_data_formated['aid_card'] = ''\n",
    "\n",
    "        # aid_doc_url\n",
    "        if check_aid_doc_url:\n",
    "            aid_data_formated['aid_doc_url'] = aid_data['aid_doc_url']\n",
    "        if not check_aid_doc_url and check_aid_doc_subpage_url:\n",
    "            aid_data_formated['aid_doc_url'] = aid_data['subpage']['aid_doc_subpage_url']\n",
    "        else:\n",
    "            aid_data_formated['aid_doc_url'] = ''\n",
    "\n",
    "        return aid_data_formated\n"
   ]
  },
  {
   "cell_type": "code",
   "execution_count": 67,
   "metadata": {},
   "outputs": [
    {
     "data": {
      "text/plain": [
       "instrument       Ayuda parcialmente reembolsable\n",
       "support_ambit         Investigación y desarrollo\n",
       "name              Actuación conjunta ISCIII-CDTI\n",
       "url                 https://www.cdti.es/node/180\n",
       "Name: 1, dtype: object"
      ]
     },
     "execution_count": 67,
     "metadata": {},
     "output_type": "execute_result"
    }
   ],
   "source": [
    "matrix_data = pd.read_csv('data/cdti/matrix_data/cdti_matrix_data.csv')\n",
    "aid_data = matrix_data.iloc[1]\n",
    "aid_data"
   ]
  },
  {
   "cell_type": "code",
   "execution_count": 68,
   "metadata": {},
   "outputs": [
    {
     "name": "stdout",
     "output_type": "stream",
     "text": [
      "actuación-conjunta-isciii-cdti data/cdti/actuación-conjunta-isciii-cdti\n"
     ]
    }
   ],
   "source": [
    "cdti_aid_extractor = CDTIAidExtractor(\n",
    "    instrument=aid_data['instrument'],\n",
    "    support_ambit=aid_data['support_ambit'],\n",
    "    name=aid_data['name'],\n",
    "    url=aid_data['url']\n",
    ")\n",
    "print(cdti_aid_extractor.get_name_parsed(), cdti_aid_extractor.persist_data_dir)\n"
   ]
  },
  {
   "cell_type": "code",
   "execution_count": 69,
   "metadata": {},
   "outputs": [
    {
     "name": "stdout",
     "output_type": "stream",
     "text": [
      "extracting aid: Actuación conjunta ISCIII-CDTI - Ayuda parcialmente reembolsable, Investigación y desarrollo\n",
      "extracted title: Actuación conjunta ISCIII-CDTI\n",
      "extracted description: 1358\n",
      "No card found\n",
      "No doc url found\n",
      "Extracting subpage\n",
      "found subpage: ACTUACIÓN CONJUNTA ISCIII-CDTI 2023, https://www.cdti.es/ayudas/actuacion-conjunta-isciii-cdti-2023\n",
      "extracting subpage\n",
      "extracted subpage title: Actuación conjunta ISCIII-CDTI 2023\n",
      "extracted subpage description: 413\n",
      "extracted card: 3803\n",
      "extracted aid_doc:  https://www.cdti.es/sites/default/files/2023-09/ficha_apr_mision_salud_2023.pdf\n"
     ]
    }
   ],
   "source": [
    "aid_data = cdti_aid_extractor.run_aid_extraction()"
   ]
  },
  {
   "cell_type": "code",
   "execution_count": 70,
   "metadata": {},
   "outputs": [
    {
     "data": {
      "text/plain": [
       "{'description_title': 'Actuación conjunta ISCIII-CDTI',\n",
       " 'description_body': '# Actuación conjunta ISCIII-CDTI\\nEl Consejo de Ministros del 30 de noviembre de 2021 aprobó el Proyecto Estratégico para la Recuperación y Transformación Económica para la Salud de Vanguardia (PERTE de Salud), que se concibe como una propuesta país de interés general para el conjunto de la economía y para la sociedad.\\nCon el PERTE de Salud se pretende impulsar el empleo de calidad y mejorar la salud de la población española a través del conocimiento científico, la innovación sanitaria de vanguardia y los datos como vectores de transformación.\\nEn el marco de este PERTE, las actuaciones conjuntas entre el Instituto de Salud Carlos III (ISCIII) y el Centro para el Desarrollo Tecnológico y la Innovación (CDTI) persiguen coordinar las capacidades científicas con las capacidades empresariales para avanzar más rápidamente en el desarrollo de productos de diagnóstico clínico para la implementación de medicina personalizada y medicamentos estratégicos emergentes, orientando los esfuerzos investigadores e innovadores del ecosistema público-privado en el ámbito de la salud.\\nSe financiarán actuaciones de I+D en las que participan empresas y centros y organismos de investigación del entorno del Sistema Nacional de Salud, siendo susceptibles de financiación las actuaciones destinadas a generar un resultado de aplicabilidad industrial y/o empresarial.\\n\\n# Actuación conjunta ISCIII-CDTI 2023\\nEl CDTI concederá ayudas parcialmente reembolsables a los proyectos de I+D desarrollados por empresas en cooperación con centros y organismos de investigación en el ámbito de la medicina personalizada y terapias emergentes.\\nLos proyectos deberán encajar en la misión definida, sobre terapias avanzadas y medicina de precisión enfocadas a:\\nEnvejecimiento\\nEnfermedades crónicas',\n",
       " 'aid_card': '# Actuación\\nProyectos de I+D vinculados a la medicina personalizada y terapias avanzadas en el marco de la iniciativa conjunta ISCIII-CDTI (\"Proyectos Misión Salud 2023\"), financiada a través del Mecanismo Europeo de Recuperación y Resiliencia.\\n\\n# Beneficiarios\\nEmpresas.\\n\\n# Tipo de convocatoria\\nConvocatoria con fechas de presentación.\\n\\n# Plazo de presentación\\nCon carácter previo a la presentación de la ayuda, los solicitantes deberán de cumplimentar una expresión de interés (EI).\\nEl plazo de presentación para las expresiones de interés va del 15 de junio al 4 de julio de 2023 (hasta las 15:00 h., hora peninsular).\\nLa EI deberá presentarla el representante legal de la empresa participante ante la sede electrónica del CDTI.\\nUna vez presentada, y validada, la EI se habilitará a las empresas la solicitud de ayuda para su cumplimentación y presentación, también a través de la sede electrónica del CDTI.\\nEl plazo de presentación para las solicitudes de ayuda al CDTI se extenderá del 10 al 28 de julio de 2023, previa presentación de la expresión de interés.\\n\\n# Tipo de la ayuda\\nAyuda parcialmente reembolsable.\\n\\n# Características de la ayuda\\nTipo de interés fijo: Euribor a 1 año (aplicable únicamente al tramo reembolsable de la ayuda).\\nAyuda de hasta el 90% del presupuesto aprobado, siempre que no se superen los límites de intensidad máxima permitidos por la normativa comunitaria de ayudas de estado.\\nDevolución: 10 o 15 años incluyendo una carencia entre 2 y 3 años.\\nTramo no reembolsable del 33% de la ayuda.\\nEl CDTI podrá requerir la constitución de garantías para la devolución de la ayuda cuando el análisis económico financiero de la empresa así lo indique.\\nEn su caso, el CDTI podrá aplicar una minoración o exención de las garantías solicitadas. Los límites aplicables serán de un millón de euros para pequeñas empresas, 2 millones para medianas empresas, y hasta 6 millones para midcaps.\\nLa empresa deberá aportar, al menos, el 10% del presupuesto del proyecto con recursos propios.\\n\\n# Características del proyecto\\nPresupuesto mínimo financiable por empresa: 175.000 euros.\\nParticipantes de la actuación: 2 a 6 entidades. Mínimo una empresa y un centro u organismo de investigación.\\nPresupuesto mínimo de la parte empresarial: 400.000 euros.\\nDuración: estos proyectos tendrán una duración máxima hasta el 31/12/2025, con una duración mínima de 12 meses.\\n\\n# Puede incluir fondos de terceros\\nSí, del Mecanismo de Recuperación y Resiliencia (MRR).\\nLa financiación con fondos del MRR conlleva las obligaciones que pueden consultarse en la ficha de detalle del instrumento.\\nLas actuaciones subvencionadas deberán acreditar el cumplimiento del principio DNSH, así como del resto de los principios transversales establecidos en el Plan de Recuperación, Transformación y Resiliencia.\\n\\n# Permite generar informes motivados\\nSí.\\n\\n# Acumulación e incompatibilidades de percepción de ayudas adicionales\\nEsta ayuda es incompatible con cualesquiera otras ayudas públicas destinadas al mismo proyecto.\\n\\n# Condiciones específicos\\nEl organismo u organismos de investigación participantes en el proyecto deberán haber obtenido una subvención en la correspondiente convocatoria del ISCIII.\\nTodas las entidades participantes en el proyecto deberán cumplir los requisitos para ser beneficiario de la ayuda solicitada, respectivamente a CDTI o al ISCIII.\\nLas entidades participantes en el proyecto deberán suscribir un acuerdo de consorcio.\\nLa composición de las entidades participantes en el proyecto en los términos indicados en la expresión de interés deberá mantenerse en la solicitud de la ayuda y durante toda la ejecución del proyecto.\\nEl CDTI y el ISCIII verificarán la existencia de colaboración efectiva y el mantenimiento de la misma durante la ejecución del proyecto y tras su finalización.\\n\\n',\n",
       " 'aid_doc_url': 'https://www.cdti.es/sites/default/files/2023-09/ficha_apr_mision_salud_2023.pdf'}"
      ]
     },
     "execution_count": 70,
     "metadata": {},
     "output_type": "execute_result"
    }
   ],
   "source": [
    "aid_data"
   ]
  },
  {
   "cell_type": "code",
   "execution_count": null,
   "metadata": {},
   "outputs": [],
   "source": [
    "aid_data_formated = cdti_aid_extractor\n",
    "\n",
    "\n"
   ]
  },
  {
   "cell_type": "code",
   "execution_count": 59,
   "metadata": {},
   "outputs": [
    {
     "data": {
      "text/plain": [
       "{'description_title': 'Actuación conjunta ISCIII-CDTI',\n",
       " 'description_body': '# Actuación conjunta ISCIII-CDTI\\nEl Consejo de Ministros del 30 de noviembre de 2021 aprobó el Proyecto Estratégico para la Recuperación y Transformación Económica para la Salud de Vanguardia (PERTE de Salud), que se concibe como una propuesta país de interés general para el conjunto de la economía y para la sociedad.\\nCon el PERTE de Salud se pretende impulsar el empleo de calidad y mejorar la salud de la población española a través del conocimiento científico, la innovación sanitaria de vanguardia y los datos como vectores de transformación.\\nEn el marco de este PERTE, las actuaciones conjuntas entre el Instituto de Salud Carlos III (ISCIII) y el Centro para el Desarrollo Tecnológico y la Innovación (CDTI) persiguen coordinar las capacidades científicas con las capacidades empresariales para avanzar más rápidamente en el desarrollo de productos de diagnóstico clínico para la implementación de medicina personalizada y medicamentos estratégicos emergentes, orientando los esfuerzos investigadores e innovadores del ecosistema público-privado en el ámbito de la salud.\\nSe financiarán actuaciones de I+D en las que participan empresas y centros y organismos de investigación del entorno del Sistema Nacional de Salud, siendo susceptibles de financiación las actuaciones destinadas a generar un resultado de aplicabilidad industrial y/o empresarial.',\n",
       " 'subpage': {'subpage_name': 'ACTUACIÓN CONJUNTA ISCIII-CDTI 2023',\n",
       "  'subpage_url': 'https://www.cdti.es/ayudas/actuacion-conjunta-isciii-cdti-2023',\n",
       "  'description_title_subpage': 'Actuación conjunta ISCIII-CDTI 2023',\n",
       "  'description_body_subpage': '# Actuación conjunta ISCIII-CDTI 2023\\nEl CDTI concederá ayudas parcialmente reembolsables a los proyectos de I+D desarrollados por empresas en cooperación con centros y organismos de investigación en el ámbito de la medicina personalizada y terapias emergentes.\\nLos proyectos deberán encajar en la misión definida, sobre terapias avanzadas y medicina de precisión enfocadas a:\\nEnvejecimiento\\nEnfermedades crónicas',\n",
       "  'aid_card_subpage': '# Actuación\\nProyectos de I+D vinculados a la medicina personalizada y terapias avanzadas en el marco de la iniciativa conjunta ISCIII-CDTI (\"Proyectos Misión Salud 2023\"), financiada a través del Mecanismo Europeo de Recuperación y Resiliencia.\\n\\n# Beneficiarios\\nEmpresas.\\n\\n# Tipo de convocatoria\\nConvocatoria con fechas de presentación.\\n\\n# Plazo de presentación\\nCon carácter previo a la presentación de la ayuda, los solicitantes deberán de cumplimentar una expresión de interés (EI).\\nEl plazo de presentación para las expresiones de interés va del 15 de junio al 4 de julio de 2023 (hasta las 15:00 h., hora peninsular).\\nLa EI deberá presentarla el representante legal de la empresa participante ante la sede electrónica del CDTI.\\nUna vez presentada, y validada, la EI se habilitará a las empresas la solicitud de ayuda para su cumplimentación y presentación, también a través de la sede electrónica del CDTI.\\nEl plazo de presentación para las solicitudes de ayuda al CDTI se extenderá del 10 al 28 de julio de 2023, previa presentación de la expresión de interés.\\n\\n# Tipo de la ayuda\\nAyuda parcialmente reembolsable.\\n\\n# Características de la ayuda\\nTipo de interés fijo: Euribor a 1 año (aplicable únicamente al tramo reembolsable de la ayuda).\\nAyuda de hasta el 90% del presupuesto aprobado, siempre que no se superen los límites de intensidad máxima permitidos por la normativa comunitaria de ayudas de estado.\\nDevolución: 10 o 15 años incluyendo una carencia entre 2 y 3 años.\\nTramo no reembolsable del 33% de la ayuda.\\nEl CDTI podrá requerir la constitución de garantías para la devolución de la ayuda cuando el análisis económico financiero de la empresa así lo indique.\\nEn su caso, el CDTI podrá aplicar una minoración o exención de las garantías solicitadas. Los límites aplicables serán de un millón de euros para pequeñas empresas, 2 millones para medianas empresas, y hasta 6 millones para midcaps.\\nLa empresa deberá aportar, al menos, el 10% del presupuesto del proyecto con recursos propios.\\n\\n# Características del proyecto\\nPresupuesto mínimo financiable por empresa: 175.000 euros.\\nParticipantes de la actuación: 2 a 6 entidades. Mínimo una empresa y un centro u organismo de investigación.\\nPresupuesto mínimo de la parte empresarial: 400.000 euros.\\nDuración: estos proyectos tendrán una duración máxima hasta el 31/12/2025, con una duración mínima de 12 meses.\\n\\n# Puede incluir fondos de terceros\\nSí, del Mecanismo de Recuperación y Resiliencia (MRR).\\nLa financiación con fondos del MRR conlleva las obligaciones que pueden consultarse en la ficha de detalle del instrumento.\\nLas actuaciones subvencionadas deberán acreditar el cumplimiento del principio DNSH, así como del resto de los principios transversales establecidos en el Plan de Recuperación, Transformación y Resiliencia.\\n\\n# Permite generar informes motivados\\nSí.\\n\\n# Acumulación e incompatibilidades de percepción de ayudas adicionales\\nEsta ayuda es incompatible con cualesquiera otras ayudas públicas destinadas al mismo proyecto.\\n\\n# Condiciones específicos\\nEl organismo u organismos de investigación participantes en el proyecto deberán haber obtenido una subvención en la correspondiente convocatoria del ISCIII.\\nTodas las entidades participantes en el proyecto deberán cumplir los requisitos para ser beneficiario de la ayuda solicitada, respectivamente a CDTI o al ISCIII.\\nLas entidades participantes en el proyecto deberán suscribir un acuerdo de consorcio.\\nLa composición de las entidades participantes en el proyecto en los términos indicados en la expresión de interés deberá mantenerse en la solicitud de la ayuda y durante toda la ejecución del proyecto.\\nEl CDTI y el ISCIII verificarán la existencia de colaboración efectiva y el mantenimiento de la misma durante la ejecución del proyecto y tras su finalización.\\n\\n',\n",
       "  'aid_doc_subpage_url': 'https://www.cdti.es/sites/default/files/2023-09/ficha_apr_mision_salud_2023.pdf'}}"
      ]
     },
     "execution_count": 59,
     "metadata": {},
     "output_type": "execute_result"
    }
   ],
   "source": [
    "aid_data\n"
   ]
  },
  {
   "cell_type": "code",
   "execution_count": 60,
   "metadata": {},
   "outputs": [
    {
     "data": {
      "text/plain": [
       "{'description_title': 'Actuación conjunta ISCIII-CDTI',\n",
       " 'description_body': '# Actuación conjunta ISCIII-CDTI\\nEl Consejo de Ministros del 30 de noviembre de 2021 aprobó el Proyecto Estratégico para la Recuperación y Transformación Económica para la Salud de Vanguardia (PERTE de Salud), que se concibe como una propuesta país de interés general para el conjunto de la economía y para la sociedad.\\nCon el PERTE de Salud se pretende impulsar el empleo de calidad y mejorar la salud de la población española a través del conocimiento científico, la innovación sanitaria de vanguardia y los datos como vectores de transformación.\\nEn el marco de este PERTE, las actuaciones conjuntas entre el Instituto de Salud Carlos III (ISCIII) y el Centro para el Desarrollo Tecnológico y la Innovación (CDTI) persiguen coordinar las capacidades científicas con las capacidades empresariales para avanzar más rápidamente en el desarrollo de productos de diagnóstico clínico para la implementación de medicina personalizada y medicamentos estratégicos emergentes, orientando los esfuerzos investigadores e innovadores del ecosistema público-privado en el ámbito de la salud.\\nSe financiarán actuaciones de I+D en las que participan empresas y centros y organismos de investigación del entorno del Sistema Nacional de Salud, siendo susceptibles de financiación las actuaciones destinadas a generar un resultado de aplicabilidad industrial y/o empresarial.\\n\\n# Actuación conjunta ISCIII-CDTI 2023\\nEl CDTI concederá ayudas parcialmente reembolsables a los proyectos de I+D desarrollados por empresas en cooperación con centros y organismos de investigación en el ámbito de la medicina personalizada y terapias emergentes.\\nLos proyectos deberán encajar en la misión definida, sobre terapias avanzadas y medicina de precisión enfocadas a:\\nEnvejecimiento\\nEnfermedades crónicas',\n",
       " 'aid_card': '# Actuación\\nProyectos de I+D vinculados a la medicina personalizada y terapias avanzadas en el marco de la iniciativa conjunta ISCIII-CDTI (\"Proyectos Misión Salud 2023\"), financiada a través del Mecanismo Europeo de Recuperación y Resiliencia.\\n\\n# Beneficiarios\\nEmpresas.\\n\\n# Tipo de convocatoria\\nConvocatoria con fechas de presentación.\\n\\n# Plazo de presentación\\nCon carácter previo a la presentación de la ayuda, los solicitantes deberán de cumplimentar una expresión de interés (EI).\\nEl plazo de presentación para las expresiones de interés va del 15 de junio al 4 de julio de 2023 (hasta las 15:00 h., hora peninsular).\\nLa EI deberá presentarla el representante legal de la empresa participante ante la sede electrónica del CDTI.\\nUna vez presentada, y validada, la EI se habilitará a las empresas la solicitud de ayuda para su cumplimentación y presentación, también a través de la sede electrónica del CDTI.\\nEl plazo de presentación para las solicitudes de ayuda al CDTI se extenderá del 10 al 28 de julio de 2023, previa presentación de la expresión de interés.\\n\\n# Tipo de la ayuda\\nAyuda parcialmente reembolsable.\\n\\n# Características de la ayuda\\nTipo de interés fijo: Euribor a 1 año (aplicable únicamente al tramo reembolsable de la ayuda).\\nAyuda de hasta el 90% del presupuesto aprobado, siempre que no se superen los límites de intensidad máxima permitidos por la normativa comunitaria de ayudas de estado.\\nDevolución: 10 o 15 años incluyendo una carencia entre 2 y 3 años.\\nTramo no reembolsable del 33% de la ayuda.\\nEl CDTI podrá requerir la constitución de garantías para la devolución de la ayuda cuando el análisis económico financiero de la empresa así lo indique.\\nEn su caso, el CDTI podrá aplicar una minoración o exención de las garantías solicitadas. Los límites aplicables serán de un millón de euros para pequeñas empresas, 2 millones para medianas empresas, y hasta 6 millones para midcaps.\\nLa empresa deberá aportar, al menos, el 10% del presupuesto del proyecto con recursos propios.\\n\\n# Características del proyecto\\nPresupuesto mínimo financiable por empresa: 175.000 euros.\\nParticipantes de la actuación: 2 a 6 entidades. Mínimo una empresa y un centro u organismo de investigación.\\nPresupuesto mínimo de la parte empresarial: 400.000 euros.\\nDuración: estos proyectos tendrán una duración máxima hasta el 31/12/2025, con una duración mínima de 12 meses.\\n\\n# Puede incluir fondos de terceros\\nSí, del Mecanismo de Recuperación y Resiliencia (MRR).\\nLa financiación con fondos del MRR conlleva las obligaciones que pueden consultarse en la ficha de detalle del instrumento.\\nLas actuaciones subvencionadas deberán acreditar el cumplimiento del principio DNSH, así como del resto de los principios transversales establecidos en el Plan de Recuperación, Transformación y Resiliencia.\\n\\n# Permite generar informes motivados\\nSí.\\n\\n# Acumulación e incompatibilidades de percepción de ayudas adicionales\\nEsta ayuda es incompatible con cualesquiera otras ayudas públicas destinadas al mismo proyecto.\\n\\n# Condiciones específicos\\nEl organismo u organismos de investigación participantes en el proyecto deberán haber obtenido una subvención en la correspondiente convocatoria del ISCIII.\\nTodas las entidades participantes en el proyecto deberán cumplir los requisitos para ser beneficiario de la ayuda solicitada, respectivamente a CDTI o al ISCIII.\\nLas entidades participantes en el proyecto deberán suscribir un acuerdo de consorcio.\\nLa composición de las entidades participantes en el proyecto en los términos indicados en la expresión de interés deberá mantenerse en la solicitud de la ayuda y durante toda la ejecución del proyecto.\\nEl CDTI y el ISCIII verificarán la existencia de colaboración efectiva y el mantenimiento de la misma durante la ejecución del proyecto y tras su finalización.\\n\\n',\n",
       " 'aid_doc_url': 'https://www.cdti.es/sites/default/files/2023-09/ficha_apr_mision_salud_2023.pdf'}"
      ]
     },
     "execution_count": 60,
     "metadata": {},
     "output_type": "execute_result"
    }
   ],
   "source": [
    "format_data(aid_data)"
   ]
  },
  {
   "cell_type": "code",
   "execution_count": 31,
   "metadata": {},
   "outputs": [
    {
     "data": {
      "text/plain": [
       "{'description': {'description_title': 'Proyectos de I + D',\n",
       "  'description_body': '# Proyectos de I + D\\nLos Proyectos de I+D son ayudas a proyectos de I+D desarrollados por empresas y destinados a la creación y mejora significativa de procesos productivos, productos o servicios.\\n  Se presentan en distintas modalidades:\\nProyectos de I+D individuales: presentados por una única empresa.\\nProyectos de I+D de Cooperación Nacional: presentados por un consorcio de un mínimo de dos y un máximo de seis empresas autónomas. Deberán suscribir un acuerdo privado de colaboración que rija el consorcio.\\nProyectos de I+D de Cooperación Tecnológica Internacional: presentados por empresas españolas participantes en programas de cooperación tecnológica internacional gestionados por el CDTI:\\nProgramas multilaterales EUREKA, IBEROEKA y PRIMA.\\nProgramas bilaterales establecidos por CDTI con Instituciones y Agencias de Financiación de otros países en virtud de acuerdos bilaterales.\\nPrograma de proyectos internacionales con certificación y seguimiento unilateral por CDTI.\\nProyectos de I+D de Cooperación Tecnológica Europea, relacionados con la potenciación de la capacidad tecnológica de las empresas españolas para participar en las siguientes iniciativas y proyectos:\\nProyectos Importantes de Interés Común Europeo (PIICE).\\nProyectos del Partenariado Institucional IHI (Innovative Health Initiative).\\nProyectos derivados de Partenariados de Horizonte Europa.\\nProyectos de I+D de Capacitación Tecnológica para la participación en licitaciones internacionales o nacionales, relacionados con la potenciación de la capacidad tecnológica de las empresas españolas para participar en licitaciones de proyectos y programas gestionados por organizaciones internacionales en las que el CDTI ostenta la representación española, así como la capacitación tecnológica para participar en las licitaciones de las Infraestructuras Científicas y Técnicas Singulares (ICTS).\\nGrandes Instalaciones Científico-Tecnológicas Internacionales.\\nInstalaciones Científicas y Técnicas Singulares (ICTS) recogidas en el Mapa de Infraestructuras Científicas y Técnicas Singulares vigente.\\nProyectos de I+D para el desarrollo de tecnologías duales: relacionados con la capacitación tecnológica de las empresas españolas para licitar en materia de Defensa y Seguridad. \\nProyectos de I+D Orientados, presentados por una única empresa, de gran tamaño y relevantes en ámbitos tecnológicos estratégicos.\\nPuedes consultar a continuación la ficha resumen con las características de este instrumento. \\n '},\n",
       " 'aid_card': '# Actuación\\nProyectos CDTI de I+D\\n\\n# Objetivo general de la actuación\\nAyudas a proyectos de I+D desarrollados por empresas y destinados a la creación y mejora significativa de procesos productivos, productos o servicios.\\nPueden comprender tanto actividades de investigación industrial como de desarrollo experimental.\\nNo existe ninguna restricción en cuanto al sector o a la tecnología a desarrollar.\\n\\n# Beneficiarios\\nEmpresas.\\n\\n# Tipo de convocatoria\\nConvocatoria abierta todo el año.\\n\\n# Plazo de presentación\\nTodo el año.\\n\\n# Tipo de la ayuda\\nAyuda parcialmente reembolsable.\\n\\n# Características de la ayuda\\nTipo de interés fijo: Euribor a 1 año.\\nAyuda de hasta el 85% del presupuesto aprobado.\\nLa empresa deberá aportar, al menos, el 15% del presupuesto del proyecto con recursos propios.\\nAnticipo de hasta el 50% de la ayuda con límite de 300.000 euros, sin exigencia de garantías adicionales.\\nTramo no reembolsable de entre el 10% y el 33% de la ayuda.\\nDevolución: 10 o 15 años incluyendo una carencia entre 2 y 3 años.\\nEl CDTI podrá requerir la constitución de garantías para la devolución de la ayuda cuando el análisis económico financiero de la empresa así lo indique.\\nEn su caso, el CDTI podrá aplicar una minoración o exención de las garantías solicitadas.\\n\\n# Características del proyecto\\nPresupuesto mínimo elegible: 175.000 euros \\nDuración: 12 a 36 meses. De 12 a 48 meses en el caso de los proyectos de Cooperación Nacional.\\n\\n# Puede incluir fondos de terceros\\nSí, del FEDER y MRR.\\nLos proyectos cofinanciados con Fondos FEDER deberán acreditar el cumplimiento del principio DNSH.\\nNo en el caso de los proyectos de desarrollo de tecnologías duales.\\n\\n# Permite generar informes motivados\\nSí\\n\\n# Gastos elegibles\\nTodos los gastos apoyados se han de destinar en exclusiva o derivar directamente de la actividad de I+D apoyada.\\nSon elegibles para la ayuda los gastos de personal; costes de instrumental y material; costes de investigación contractual, conocimientos técnicos y patentes adquiridas, consultoría y servicios equivalentes; gastos generales suplementarios y otros gastos derivados del proyecto. También son elegibles el gasto derivado del informe de auditor y el gasto del informe de valoración del cumplimiento del principio DNSH. \\nLas colaboraciones externas no podrán superar el 65% del presupuesto elegible con carácter general.\\nSe pueden subcontratar determinadas actividades del proyecto a otras empresas o a organismos de investigación.\\n\\n# Criterios de evaluación\\nCriterios de evaluación técnica:\\n- Plan de explotación comercial del proyecto.\\n- Tecnología e innovación del proyecto.\\n- Capacidad de la empresa o consorcio.\\n- Valoración del impacto socioeconómico, perspectiva de género y sostenibilidad.\\nCriterios de evaluación financiera:\\n- Análisis de la consideración de empresa en crisis.\\n- Análisis económico-financiero y de riesgo.\\n- Análisis económico-financiero del proyecto.\\n- Adecuación económico-financiera de cada empresa a las empresas que realiza en el proyecto.\\n\\n# Efecto incentivador\\nSe considerará que la ayuda tienen un efecto incentivador si, antes de comenzar a trabajar en el proyecto, el beneficiario ha presentado por escrito su solicitud de ayuda al CDTI.\\n\\n# Acumulación e incompatibilidades de percepción de ayudas adicionales\\n- En los proyectos financiados con fondos CDTI la ayuda es incompatible con cualesquiera otras ayudas públicas destinadas al mismo proyecto (salvo las excepciones contempladas en la ficha de detalle del instrumento).\\n- En los proyectos cofinanciados con fondos europeos gestionados por el CDTI, la ayuda es compatible con cualesquiera otras ayudas públicas siempre que su fuente de financiación no proceda del presupuesto de la UE. \\n- La ayuda es incompatible con cualquier ayuda privada cuya fuente de financiación provenga de fondos del Presupuesto de la UE.\\n\\n# Marco normativo\\nEstas ayudas se ajustarán a lo establecido en el Reglamento (UE) n.º 651/2014, de la Comisión, de 17 de junio de 2014, por el que se declaran determinadas categorías de ayuda compatibles con el mercado interior en aplicación de los artículos 107 y 108 del Tratado (Reglamento general de exención por categorías).\\n\\n',\n",
       " 'aid_doc_url': 'https://www.cdti.es/sites/default/files/2025-03/proyectos_de_id.pdf'}"
      ]
     },
     "execution_count": 31,
     "metadata": {},
     "output_type": "execute_result"
    }
   ],
   "source": [
    "aid_data_model = aid_data\n",
    "aid_data_model"
   ]
  },
  {
   "cell_type": "code",
   "execution_count": 14,
   "metadata": {},
   "outputs": [
    {
     "name": "stdout",
     "output_type": "stream",
     "text": [
      "extracting aid: Actuación conjunta ISCIII-CDTI - Ayuda parcialmente reembolsable, Investigación y desarrollo\n",
      "extracted description: 1358\n",
      "No card found\n",
      "No doc url found\n",
      "Extracting subpage\n",
      "found subpage: ACTUACIÓN CONJUNTA ISCIII-CDTI 2023, https://www.cdti.es/ayudas/actuacion-conjunta-isciii-cdti-2023\n",
      "extracting subpage\n",
      "extracted description: 413\n",
      "extracted card: 3803\n",
      "extracted aid_doc:  https://www.cdti.es/sites/default/files/2023-09/ficha_apr_mision_salud_2023.pdf\n"
     ]
    }
   ],
   "source": [
    "# extract description\n",
    "cdti_aid_extractor.driver = cdti_aid_extractor.setup_driver()\n",
    "# cdti_aid_extractor.driver.get(url)\n",
    "# cdti_aid_extractor.driver.implicitly_wait(self.implicity_wait_time)\n",
    "\n",
    "\n",
    "extraction_data = {}\n",
    "\n",
    "print(f\"extracting aid: {cdti_aid_extractor.name} - {cdti_aid_extractor.instrument}, {cdti_aid_extractor.support_ambit}\")\n",
    "description_title, description_body = cdti_aid_extractor.extract_description()\n",
    "\n",
    "if description_title:\n",
    "    print(\"extracted description:\", len(description_body))\n",
    "    extraction_data['description'] = {\n",
    "        'description_title': description_title,\n",
    "        'description_body': description_body\n",
    "    }\n",
    "\n",
    "else:\n",
    "    print(\"No description found\")\n",
    "\n",
    "# extract card\n",
    "aid_card = cdti_aid_extractor.extract_aid_card()\n",
    "\n",
    "if aid_card:\n",
    "    print(\"extracted card:\", len(aid_card))\n",
    "    extraction_data['aid_card'] = aid_card\n",
    "else:\n",
    "    print(\"No card found\")\n",
    "\n",
    "# extract doc url\n",
    "aid_doc_url = cdti_aid_extractor.extract_aid_doc_url()\n",
    "if aid_doc_url:\n",
    "    print(\"extracted aid_doc: \", aid_doc_url)\n",
    "    extraction_data['aid_doc_url'] = aid_doc_url\n",
    "\n",
    "else:\n",
    "    print(\"No doc url found\")\n",
    "    print(\"Extracting subpage\")\n",
    "\n",
    "    # extract subpage\n",
    "    subpage_name, subpage_url = cdti_aid_extractor.extract_aid_subpage()\n",
    "\n",
    "    if subpage_name:\n",
    "        print(f\"found subpage: {subpage_name}, {subpage_url}\")\n",
    "        extraction_data['subpage'] = {\n",
    "            \"subpage_name\": subpage_name,\n",
    "            \"subpage_url\": subpage_url\n",
    "        }\n",
    "\n",
    "        print(\"extracting subpage\")\n",
    "        description_title_subpage, description_body_subpage = cdti_aid_extractor.extract_description(url=subpage_url)\n",
    "        if description_title_subpage:\n",
    "            print(\"extracted description:\", len(description_body_subpage))\n",
    "            extraction_data['subpage']['description_title_subpage'] = description_title_subpage\n",
    "            extraction_data['subpage']['description_body_subpage'] = description_body_subpage\n",
    "\n",
    "        else:\n",
    "            print(\"No description subpage found\")\n",
    "\n",
    "        # extract card\n",
    "        aid_card_subpage = cdti_aid_extractor.extract_aid_card(url=subpage_url)\n",
    "        if aid_card_subpage:\n",
    "            print(\"extracted card:\", len(aid_card_subpage))\n",
    "            extraction_data['subpage']['aid_card_subpage'] = aid_card_subpage\n",
    "        else:\n",
    "            print(\"No card subpage found\")\n",
    "\n",
    "        # extract doc url\n",
    "        aid_doc_subpage_url = cdti_aid_extractor.extract_aid_doc_url(url=subpage_url)\n",
    "        if aid_doc_subpage_url:\n",
    "            print(\"extracted aid_doc: \", aid_doc_subpage_url)\n",
    "            extraction_data['subpage']['aid_doc_subpage_url'] = aid_doc_subpage_url\n",
    "        else:\n",
    "            print(\"No doc subpage url found\")\n",
    "\n",
    "cdti_aid_extractor.driver.quit()\n"
   ]
  },
  {
   "cell_type": "code",
   "execution_count": 15,
   "metadata": {},
   "outputs": [
    {
     "data": {
      "text/plain": [
       "{'description': {'description_title': 'Actuación conjunta ISCIII-CDTI',\n",
       "  'description_body': '# Actuación conjunta ISCIII-CDTI\\nEl Consejo de Ministros del 30 de noviembre de 2021 aprobó el Proyecto Estratégico para la Recuperación y Transformación Económica para la Salud de Vanguardia (PERTE de Salud), que se concibe como una propuesta país de interés general para el conjunto de la economía y para la sociedad.\\nCon el PERTE de Salud se pretende impulsar el empleo de calidad y mejorar la salud de la población española a través del conocimiento científico, la innovación sanitaria de vanguardia y los datos como vectores de transformación.\\nEn el marco de este PERTE, las actuaciones conjuntas entre el Instituto de Salud Carlos III (ISCIII) y el Centro para el Desarrollo Tecnológico y la Innovación (CDTI) persiguen coordinar las capacidades científicas con las capacidades empresariales para avanzar más rápidamente en el desarrollo de productos de diagnóstico clínico para la implementación de medicina personalizada y medicamentos estratégicos emergentes, orientando los esfuerzos investigadores e innovadores del ecosistema público-privado en el ámbito de la salud.\\nSe financiarán actuaciones de I+D en las que participan empresas y centros y organismos de investigación del entorno del Sistema Nacional de Salud, siendo susceptibles de financiación las actuaciones destinadas a generar un resultado de aplicabilidad industrial y/o empresarial.'},\n",
       " 'subpage': {'subpage_name': 'ACTUACIÓN CONJUNTA ISCIII-CDTI 2023',\n",
       "  'subpage_url': 'https://www.cdti.es/ayudas/actuacion-conjunta-isciii-cdti-2023',\n",
       "  'description_title_subpage': 'Actuación conjunta ISCIII-CDTI 2023',\n",
       "  'description_body_subpage': '# Actuación conjunta ISCIII-CDTI 2023\\nEl CDTI concederá ayudas parcialmente reembolsables a los proyectos de I+D desarrollados por empresas en cooperación con centros y organismos de investigación en el ámbito de la medicina personalizada y terapias emergentes.\\nLos proyectos deberán encajar en la misión definida, sobre terapias avanzadas y medicina de precisión enfocadas a:\\nEnvejecimiento\\nEnfermedades crónicas',\n",
       "  'aid_card_subpage': '# Actuación\\nProyectos de I+D vinculados a la medicina personalizada y terapias avanzadas en el marco de la iniciativa conjunta ISCIII-CDTI (\"Proyectos Misión Salud 2023\"), financiada a través del Mecanismo Europeo de Recuperación y Resiliencia.\\n\\n# Beneficiarios\\nEmpresas.\\n\\n# Tipo de convocatoria\\nConvocatoria con fechas de presentación.\\n\\n# Plazo de presentación\\nCon carácter previo a la presentación de la ayuda, los solicitantes deberán de cumplimentar una expresión de interés (EI).\\nEl plazo de presentación para las expresiones de interés va del 15 de junio al 4 de julio de 2023 (hasta las 15:00 h., hora peninsular).\\nLa EI deberá presentarla el representante legal de la empresa participante ante la sede electrónica del CDTI.\\nUna vez presentada, y validada, la EI se habilitará a las empresas la solicitud de ayuda para su cumplimentación y presentación, también a través de la sede electrónica del CDTI.\\nEl plazo de presentación para las solicitudes de ayuda al CDTI se extenderá del 10 al 28 de julio de 2023, previa presentación de la expresión de interés.\\n\\n# Tipo de la ayuda\\nAyuda parcialmente reembolsable.\\n\\n# Características de la ayuda\\nTipo de interés fijo: Euribor a 1 año (aplicable únicamente al tramo reembolsable de la ayuda).\\nAyuda de hasta el 90% del presupuesto aprobado, siempre que no se superen los límites de intensidad máxima permitidos por la normativa comunitaria de ayudas de estado.\\nDevolución: 10 o 15 años incluyendo una carencia entre 2 y 3 años.\\nTramo no reembolsable del 33% de la ayuda.\\nEl CDTI podrá requerir la constitución de garantías para la devolución de la ayuda cuando el análisis económico financiero de la empresa así lo indique.\\nEn su caso, el CDTI podrá aplicar una minoración o exención de las garantías solicitadas. Los límites aplicables serán de un millón de euros para pequeñas empresas, 2 millones para medianas empresas, y hasta 6 millones para midcaps.\\nLa empresa deberá aportar, al menos, el 10% del presupuesto del proyecto con recursos propios.\\n\\n# Características del proyecto\\nPresupuesto mínimo financiable por empresa: 175.000 euros.\\nParticipantes de la actuación: 2 a 6 entidades. Mínimo una empresa y un centro u organismo de investigación.\\nPresupuesto mínimo de la parte empresarial: 400.000 euros.\\nDuración: estos proyectos tendrán una duración máxima hasta el 31/12/2025, con una duración mínima de 12 meses.\\n\\n# Puede incluir fondos de terceros\\nSí, del Mecanismo de Recuperación y Resiliencia (MRR).\\nLa financiación con fondos del MRR conlleva las obligaciones que pueden consultarse en la ficha de detalle del instrumento.\\nLas actuaciones subvencionadas deberán acreditar el cumplimiento del principio DNSH, así como del resto de los principios transversales establecidos en el Plan de Recuperación, Transformación y Resiliencia.\\n\\n# Permite generar informes motivados\\nSí.\\n\\n# Acumulación e incompatibilidades de percepción de ayudas adicionales\\nEsta ayuda es incompatible con cualesquiera otras ayudas públicas destinadas al mismo proyecto.\\n\\n# Condiciones específicos\\nEl organismo u organismos de investigación participantes en el proyecto deberán haber obtenido una subvención en la correspondiente convocatoria del ISCIII.\\nTodas las entidades participantes en el proyecto deberán cumplir los requisitos para ser beneficiario de la ayuda solicitada, respectivamente a CDTI o al ISCIII.\\nLas entidades participantes en el proyecto deberán suscribir un acuerdo de consorcio.\\nLa composición de las entidades participantes en el proyecto en los términos indicados en la expresión de interés deberá mantenerse en la solicitud de la ayuda y durante toda la ejecución del proyecto.\\nEl CDTI y el ISCIII verificarán la existencia de colaboración efectiva y el mantenimiento de la misma durante la ejecución del proyecto y tras su finalización.\\n\\n',\n",
       "  'aid_doc_subpage_url': 'https://www.cdti.es/sites/default/files/2023-09/ficha_apr_mision_salud_2023.pdf'}}"
      ]
     },
     "execution_count": 15,
     "metadata": {},
     "output_type": "execute_result"
    }
   ],
   "source": [
    "# TODO: crear metodo en clase\n",
    "\n",
    "# formateo de datos de salida para que el contenido de subpage se meta dentro del main\n",
    "# si hay description en main y subpage, concatenarlo\n",
    "# lo que no haya en main y si en subpage, llevarselo ahi\n",
    "# el resultado tiene que ser:\n",
    "# {'description': {'description_title': '',\n",
    "#   'description_body': ''},\n",
    "#  'aid_card': '',\n",
    "#  'aid_doc_url': ''}\n",
    "\n",
    "# persistencia de datos\n",
    "# crear los ficheros con la info, texto plano en md y pdfs para los docs. buscar forma de\n",
    "# descargar en el directorio el pdf desde python\n",
    "\n",
    "# optimizar el scraping para que solo se abra una vez el driver y se cierre tras la extraccion.abs\n",
    "# habria que lanzarlo desde fuera y llamarlo desde self internamente o pasarlo como param\n",
    "\n",
    "extraction_data"
   ]
  },
  {
   "cell_type": "code",
   "execution_count": 64,
   "metadata": {},
   "outputs": [
    {
     "name": "stdout",
     "output_type": "stream",
     "text": [
      "# Actuación conjunta ISCIII-CDTI 2023\n",
      "El CDTI concederá ayudas parcialmente reembolsables a los proyectos de I+D desarrollados por empresas en cooperación con centros y organismos de investigación en el ámbito de la medicina personalizada y terapias emergentes.\n",
      "Los proyectos deberán encajar en la misión definida, sobre terapias avanzadas y medicina de precisión enfocadas a:\n",
      "Envejecimiento\n",
      "Enfermedades crónicas\n"
     ]
    }
   ],
   "source": [
    "print(description_body_subpage)"
   ]
  },
  {
   "cell_type": "code",
   "execution_count": 21,
   "metadata": {},
   "outputs": [
    {
     "name": "stdout",
     "output_type": "stream",
     "text": [
      "None\n"
     ]
    }
   ],
   "source": [
    "print(cdti_aid_extractor.extract_aid_card())"
   ]
  },
  {
   "cell_type": "code",
   "execution_count": 50,
   "metadata": {},
   "outputs": [
    {
     "name": "stdout",
     "output_type": "stream",
     "text": [
      "None\n"
     ]
    }
   ],
   "source": [
    "# busqueda de url de normativa\n",
    "print(cdti_aid_extractor.extract_aid_doc_url())"
   ]
  },
  {
   "cell_type": "code",
   "execution_count": null,
   "metadata": {},
   "outputs": [
    {
     "data": {
      "text/plain": [
       "('ACTUACIÓN CONJUNTA ISCIII-CDTI 2023',\n",
       " 'https://www.cdti.es/ayudas/actuacion-conjunta-isciii-cdti-2023')"
      ]
     },
     "execution_count": 51,
     "metadata": {},
     "output_type": "execute_result"
    }
   ],
   "source": [
    "cdti_aid_extractor.extract_aid_subpage()<"
   ]
  },
  {
   "cell_type": "code",
   "execution_count": null,
   "metadata": {},
   "outputs": [
    {
     "name": "stdout",
     "output_type": "stream",
     "text": [
      "ACTUACIÓN CONJUNTA ISCIII-CDTI 2023 https://www.cdti.es/ayudas/actuacion-conjunta-isciii-cdti-2023\n"
     ]
    }
   ],
   "source": [
    "# extraccion de subconvocatoria\n",
    "# view-id-ayudas\n",
    "# view-display-id-block_1\n",
    "driver = cdti_aid_extractor.setup_driver()\n",
    "driver.get(cdti_aid_extractor.url)\n",
    "driver.implicitly_wait(3)\n",
    "try:\n",
    "    aid_card_element = driver.find_element(By.CLASS_NAME, \"view-display-id-block_1\")\n",
    "except:\n",
    "    aid_card_element = None\n",
    "\n",
    "try:\n",
    "    a_element = aid_card_element.find_elements(By.TAG_NAME, \"a\")\n",
    "except:\n",
    "    a_element = None\n",
    "\n",
    "print(a_element[0].text, a_element[0].get_attribute(\"href\"))"
   ]
  },
  {
   "cell_type": "code",
   "execution_count": null,
   "metadata": {},
   "outputs": [
    {
     "name": "stdout",
     "output_type": "stream",
     "text": [
      "https://www.cdti.es/ayudas/actuacion-conjunta-isciii-cdti-2023\n"
     ]
    }
   ],
   "source": [
    "\n",
    "\n",
    "print(a_element[0].get_attribute(\"href\"))"
   ]
  },
  {
   "cell_type": "code",
   "execution_count": null,
   "metadata": {},
   "outputs": [],
   "source": [
    "try:\n",
    "    a_element = aid_card_element.find_elements(By.TAG_NAME, \"a\")\n",
    "except:\n",
    "    a_element = None"
   ]
  },
  {
   "cell_type": "code",
   "execution_count": null,
   "metadata": {},
   "outputs": [],
   "source": []
  },
  {
   "cell_type": "code",
   "execution_count": null,
   "metadata": {},
   "outputs": [],
   "source": []
  },
  {
   "cell_type": "code",
   "execution_count": null,
   "metadata": {},
   "outputs": [],
   "source": []
  },
  {
   "cell_type": "code",
   "execution_count": 16,
   "metadata": {},
   "outputs": [
    {
     "name": "stdout",
     "output_type": "stream",
     "text": [
      "https://www.cdti.es/node/115\n"
     ]
    }
   ],
   "source": [
    "print(cdti_aid_extractor.url)"
   ]
  },
  {
   "cell_type": "code",
   "execution_count": 28,
   "metadata": {},
   "outputs": [],
   "source": [
    "driver = cdti_aid_extractor.driver\n",
    "url = cdti_aid_extractor.url\n",
    "\n",
    "driver.get(url)\n",
    "driver.implicitly_wait(5)\n",
    "# find matrix block\n",
    "# div_element = driver.find_element(By.CLASS_NAME, \"block-field-blocknodeayudasbody\")"
   ]
  },
  {
   "cell_type": "code",
   "execution_count": 54,
   "metadata": {},
   "outputs": [
    {
     "name": "stdout",
     "output_type": "stream",
     "text": [
      "Los Proyectos de I+D son ayudas a proyectos de I+D desarrollados por empresas y destinados a la creación y mejora significativa de procesos productivos, productos o servicios.\n",
      "Se presentan en distintas modalidades:\n",
      "Proyectos de I+D individuales: presentados por una única empresa.\n",
      "Proyectos de I+D de Cooperación Nacional: presentados por un consorcio de un mínimo de dos y un máximo de seis empresas autónomas. Deberán suscribir un acuerdo privado de colaboración que rija el consorcio.\n",
      "Proyectos de I+D de Cooperación Tecnológica Internacional: presentados por empresas españolas participantes en programas de cooperación tecnológica internacional gestionados por el CDTI:\n",
      "Programas multilaterales EUREKA, IBEROEKA y PRIMA.\n",
      "Programas bilaterales establecidos por CDTI con Instituciones y Agencias de Financiación de otros países en virtud de acuerdos bilaterales.\n",
      "Programa de proyectos internacionales con certificación y seguimiento unilateral por CDTI.\n",
      "Proyectos de I+D de Cooperación Tecnológica Europea, relacionados con la potenciación de la capacidad tecnológica de las empresas españolas para participar en las siguientes iniciativas y proyectos:\n",
      "Proyectos Importantes de Interés Común Europeo (PIICE).\n",
      "Proyectos del Partenariado Institucional IHI (Innovative Health Initiative).\n",
      "Proyectos derivados de Partenariados de Horizonte Europa.\n",
      "Proyectos de I+D de Capacitación Tecnológica para la participación en licitaciones internacionales o nacionales, relacionados con la potenciación de la capacidad tecnológica de las empresas españolas para participar en licitaciones de proyectos y programas gestionados por organizaciones internacionales en las que el CDTI ostenta la representación española, así como la capacitación tecnológica para participar en las licitaciones de las Infraestructuras Científicas y Técnicas Singulares (ICTS).\n",
      "Grandes Instalaciones Científico-Tecnológicas Internacionales.\n",
      "Instalaciones Científicas y Técnicas Singulares (ICTS) recogidas en el Mapa de Infraestructuras Científicas y Técnicas Singulares vigente.\n",
      "Proyectos de I+D para el desarrollo de tecnologías duales: relacionados con la capacitación tecnológica de las empresas españolas para licitar en materia de Defensa y Seguridad.\n",
      "Proyectos de I+D Orientados, presentados por una única empresa, de gran tamaño y relevantes en ámbitos tecnológicos estratégicos.\n",
      "Puedes consultar a continuación la ficha resumen con las características de este instrumento.\n",
      "\n"
     ]
    }
   ],
   "source": [
    "# aid description\n",
    "\n",
    "aid_description = driver.find_element(By.CLASS_NAME, \"block-field-blocknodeayudasbody\").text\n",
    "aid_description = \"\\n\".join([chunk.strip() for chunk in aid_description.split(\"\\n\")])\n",
    "print(aid_description)"
   ]
  },
  {
   "cell_type": "code",
   "execution_count": null,
   "metadata": {},
   "outputs": [
    {
     "name": "stdout",
     "output_type": "stream",
     "text": [
      "# Actuación\n",
      "Proyectos CDTI de I+D\n",
      "\n",
      "# Objetivo general de la actuación\n",
      "Ayudas a proyectos de I+D desarrollados por empresas y destinados a la creación y mejora significativa de procesos productivos, productos o servicios.\n",
      "Pueden comprender tanto actividades de investigación industrial como de desarrollo experimental.\n",
      "No existe ninguna restricción en cuanto al sector o a la tecnología a desarrollar.\n",
      "\n",
      "# Beneficiarios\n",
      "Empresas.\n",
      "\n",
      "# Tipo de convocatoria\n",
      "Convocatoria abierta todo el año.\n",
      "\n",
      "# Plazo de presentación\n",
      "Todo el año.\n",
      "\n",
      "# Tipo de la ayuda\n",
      "Ayuda parcialmente reembolsable.\n",
      "\n",
      "# Características de la ayuda\n",
      "Tipo de interés fijo: Euribor a 1 año.\n",
      "Ayuda de hasta el 85% del presupuesto aprobado.\n",
      "La empresa deberá aportar, al menos, el 15% del presupuesto del proyecto con recursos propios.\n",
      "Anticipo de hasta el 50% de la ayuda con límite de 300.000 euros, sin exigencia de garantías adicionales.\n",
      "Tramo no reembolsable de entre el 10% y el 33% de la ayuda.\n",
      "Devolución: 10 o 15 años incluyendo una carencia entre 2 y 3 años.\n",
      "El CDTI podrá requerir la constitución de garantías para la devolución de la ayuda cuando el análisis económico financiero de la empresa así lo indique.\n",
      "En su caso, el CDTI podrá aplicar una minoración o exención de las garantías solicitadas.\n",
      "\n",
      "# Características del proyecto\n",
      "Presupuesto mínimo elegible: 175.000 euros \n",
      "Duración: 12 a 36 meses. De 12 a 48 meses en el caso de los proyectos de Cooperación Nacional.\n",
      "\n",
      "# Puede incluir fondos de terceros\n",
      "Sí, del FEDER y MRR.\n",
      "Los proyectos cofinanciados con Fondos FEDER deberán acreditar el cumplimiento del principio DNSH.\n",
      "No en el caso de los proyectos de desarrollo de tecnologías duales.\n",
      "\n",
      "# Permite generar informes motivados\n",
      "Sí\n",
      "\n",
      "# Gastos elegibles\n",
      "Todos los gastos apoyados se han de destinar en exclusiva o derivar directamente de la actividad de I+D apoyada.\n",
      "Son elegibles para la ayuda los gastos de personal; costes de instrumental y material; costes de investigación contractual, conocimientos técnicos y patentes adquiridas, consultoría y servicios equivalentes; gastos generales suplementarios y otros gastos derivados del proyecto. También son elegibles el gasto derivado del informe de auditor y el gasto del informe de valoración del cumplimiento del principio DNSH. \n",
      "Las colaboraciones externas no podrán superar el 65% del presupuesto elegible con carácter general.\n",
      "Se pueden subcontratar determinadas actividades del proyecto a otras empresas o a organismos de investigación.\n",
      "\n",
      "# Criterios de evaluación\n",
      "Criterios de evaluación técnica:\n",
      "- Plan de explotación comercial del proyecto.\n",
      "- Tecnología e innovación del proyecto.\n",
      "- Capacidad de la empresa o consorcio.\n",
      "- Valoración del impacto socioeconómico, perspectiva de género y sostenibilidad.\n",
      "Criterios de evaluación financiera:\n",
      "- Análisis de la consideración de empresa en crisis.\n",
      "- Análisis económico-financiero y de riesgo.\n",
      "- Análisis económico-financiero del proyecto.\n",
      "- Adecuación económico-financiera de cada empresa a las empresas que realiza en el proyecto.\n",
      "\n",
      "# Efecto incentivador\n",
      "Se considerará que la ayuda tienen un efecto incentivador si, antes de comenzar a trabajar en el proyecto, el beneficiario ha presentado por escrito su solicitud de ayuda al CDTI.\n",
      "\n",
      "# Acumulación e incompatibilidades de percepción de ayudas adicionales\n",
      "- En los proyectos financiados con fondos CDTI la ayuda es incompatible con cualesquiera otras ayudas públicas destinadas al mismo proyecto (salvo las excepciones contempladas en la ficha de detalle del instrumento).\n",
      "- En los proyectos cofinanciados con fondos europeos gestionados por el CDTI, la ayuda es compatible con cualesquiera otras ayudas públicas siempre que su fuente de financiación no proceda del presupuesto de la UE. \n",
      "- La ayuda es incompatible con cualquier ayuda privada cuya fuente de financiación provenga de fondos del Presupuesto de la UE.\n",
      "\n",
      "# Marco normativo\n",
      "Estas ayudas se ajustarán a lo establecido en el Reglamento (UE) n.º 651/2014, de la Comisión, de 17 de junio de 2014, por el que se declaran determinadas categorías de ayuda compatibles con el mercado interior en aplicación de los artículos 107 y 108 del Tratado (Reglamento general de exención por categorías).\n",
      "\n",
      "\n"
     ]
    }
   ],
   "source": [
    "aid_card = {}\n",
    "\n",
    "aid_card_element = driver.find_element(By.CLASS_NAME, \"card-body\")\n",
    "card_fields = aid_card_element.find_elements(By.CLASS_NAME, \"ficha-field-wrapper\")\n",
    "for card_field in card_fields:\n",
    "    field_title = card_field.find_element(By.CLASS_NAME, \"title\").text.strip()\n",
    "    field_text = card_field.find_element(By.CLASS_NAME, \"text\").text.strip()\n",
    "\n",
    "    aid_card[str(field_title)] = field_text\n",
    "    # print(field_title, \"\\n\", field_text, \"\\n\\n\")\n",
    "    aid_card += f\"# {field_title}\\n{field_text}\\n\\n\"\n",
    "\n",
    "print(aid_card)"
   ]
  },
  {
   "cell_type": "code",
   "execution_count": null,
   "metadata": {},
   "outputs": [
    {
     "data": {
      "text/plain": [
       "'Ficha resumen de la ayuda\\nActuación\\nProyectos CDTI de I+D\\nObjetivo general de la actuación\\nAyudas a proyectos de I+D desarrollados por empresas y destinados a la creación y mejora significativa de procesos productivos, productos o servicios.\\nPueden comprender tanto actividades de investigación industrial como de desarrollo experimental.\\nNo existe ninguna restricción en cuanto al sector o a la tecnología a desarrollar.\\nBeneficiarios\\nEmpresas.\\n  Tipo de convocatoria\\nConvocatoria abierta todo el año.\\nPlazo de presentación\\nTodo el año.\\nTipo de la ayuda\\nAyuda parcialmente reembolsable. \\nCaracterísticas de la ayuda\\nTipo de interés fijo: Euribor a 1 año.\\nAyuda de hasta el 85% del presupuesto aprobado.\\nLa empresa deberá aportar, al menos, el 15% del presupuesto del proyecto con recursos propios.\\nAnticipo de hasta el 50% de la ayuda con límite de 300.000 euros, sin exigencia de garantías adicionales.\\nTramo no reembolsable de entre el 10% y el 33% de la ayuda.\\nDevolución: 10 o 15 años incluyendo una carencia entre 2 y 3 años.\\nEl CDTI podrá requerir la constitución de garantías para la devolución de la ayuda cuando el análisis económico financiero de la empresa así lo indique.\\nEn su caso, el CDTI podrá aplicar una minoración o exención de las garantías solicitadas.\\nCaracterísticas del proyecto\\nPresupuesto mínimo elegible: 175.000 euros \\nDuración: 12 a 36 meses. De 12 a 48 meses en el caso de los proyectos de Cooperación Nacional.\\nPuede incluir fondos de terceros\\nSí, del FEDER y MRR.\\nLos proyectos cofinanciados con Fondos FEDER deberán acreditar el cumplimiento del principio DNSH.\\nNo en el caso de los proyectos de desarrollo de tecnologías duales.\\nPermite generar informes motivados\\nSí\\nGastos elegibles\\nTodos los gastos apoyados se han de destinar en exclusiva o derivar directamente de la actividad de I+D apoyada.\\nSon elegibles para la ayuda los gastos de personal; costes de instrumental y material; costes de investigación contractual, conocimientos técnicos y patentes adquiridas, consultoría y servicios equivalentes; gastos generales suplementarios y otros gastos derivados del proyecto. También son elegibles el gasto derivado del informe de auditor y el gasto del informe de valoración del cumplimiento del principio DNSH. \\nLas colaboraciones externas no podrán superar el 65% del presupuesto elegible con carácter general.\\nSe pueden subcontratar determinadas actividades del proyecto a otras empresas o a organismos de investigación.\\nCriterios de evaluación\\nCriterios de evaluación técnica:\\n- Plan de explotación comercial del proyecto.\\n- Tecnología e innovación del proyecto.\\n- Capacidad de la empresa o consorcio.\\n- Valoración del impacto socioeconómico, perspectiva de género y sostenibilidad.\\nCriterios de evaluación financiera:\\n- Análisis de la consideración de empresa en crisis.\\n- Análisis económico-financiero y de riesgo.\\n- Análisis económico-financiero del proyecto.\\n- Adecuación económico-financiera de cada empresa a las empresas que realiza en el proyecto.\\n  Efecto incentivador\\nSe considerará que la ayuda tienen un efecto incentivador si, antes de comenzar a trabajar en el proyecto, el beneficiario ha presentado por escrito su solicitud de ayuda al CDTI.\\nAcumulación e incompatibilidades de percepción de ayudas adicionales\\n- En los proyectos financiados con fondos CDTI la ayuda es incompatible con cualesquiera otras ayudas públicas destinadas al mismo proyecto (salvo las excepciones contempladas en la ficha de detalle del instrumento).\\n- En los proyectos cofinanciados con fondos europeos gestionados por el CDTI, la ayuda es compatible con cualesquiera otras ayudas públicas siempre que su fuente de financiación no proceda del presupuesto de la UE. \\n- La ayuda es incompatible con cualquier ayuda privada cuya fuente de financiación provenga de fondos del Presupuesto de la UE.\\nMarco normativo\\nEstas ayudas se ajustarán a lo establecido en el Reglamento (UE) n.º 651/2014, de la Comisión, de 17 de junio de 2014, por el que se declaran determinadas categorías de ayuda compatibles con el mercado interior en aplicación de los artículos 107 y 108 del Tratado (Reglamento general de exención por categorías).\\nSOLICITUD\\nAPLICACIÓN ONLINE CDTI\\nEMAIL CONSULTAS\\nINSTRUMENTOS_ID@CDTI.ES\\nMÁS INFORMACIÓN\\nFAQ EMPRESAS EN CRISIS\\nVIDEO\\nVER VIDEO'"
      ]
     },
     "execution_count": 71,
     "metadata": {},
     "output_type": "execute_result"
    }
   ],
   "source": [
    "# pdf convocatoria cuidaooo\n",
    "# a veces viene como ficha del instrumento y a veces como listado de convocatorias, que hay que coger la primera\n",
    "aid_call_document = driver.find_element(By.CLASS_NAME, \"view-id-ayudas\")\n",
    "aid_call_document.text\n"
   ]
  },
  {
   "cell_type": "code",
   "execution_count": null,
   "metadata": {},
   "outputs": [],
   "source": [
    "'''\n",
    "formato de enlaces\n",
    "\n",
    "* normal: como i+d: en el enlace principal viene:\n",
    "    * body\n",
    "    * ficha\n",
    "    * enlace a pdf: ficha del instrumento\n",
    "\n",
    "* caso 1: Actuación conjunta ISCIII-CDTI: \n",
    "    * hay un body\n",
    "    hay una lista de enlaces de convocatorias presentes y pasadas. Hay que coger la primera\n",
    "    * en ese enlace:\n",
    "        * otro body mas pequeño\n",
    "        * ficha\n",
    "        * enlace a pdf (ficha del instrumento)\n",
    "* caso 2: Programa Tecnológico de Automoción Sostenible (PTAS):\n",
    "    * no hay body, aunque podria haberlo\n",
    "    * ficha\n",
    "    * enlace a pdf: documentacion convocatorias\n",
    "* caso 3: CDTI-Era-Net:\n",
    "    * body\n",
    "    * ficha\n",
    "    * lista de enlaces a convocatorias. coger la primera.\n",
    "        * otro body\n",
    "        enlace a pdf: texto de la convocatoria\n",
    "'''"
   ]
  },
  {
   "cell_type": "code",
   "execution_count": null,
   "metadata": {},
   "outputs": [],
   "source": [
    "'''\n",
    "mas o menos generico:\n",
    "\n",
    "texto descripcion: \n",
    "block-field-blocknodeayudastitle\n",
    "block-field-blocknodeayudasbody\n",
    "\n",
    "ficha: card-body\n",
    "\n",
    "enlace documento pdf: card-body-normativa\n",
    "\n",
    "cuando hay varias opciones de convocatorias:\n",
    "view-id-ayudas\n",
    "view-display-id-block_1\n",
    "\n",
    "'''"
   ]
  },
  {
   "cell_type": "code",
   "execution_count": null,
   "metadata": {},
   "outputs": [],
   "source": [
    "'''\n",
    "flujo del scrapper\n",
    "\n",
    "entra en url desde matrix\n",
    "busca title y body de descripcion. \n",
    "pillar title para nombre documento\n",
    "Si existe el body, genera un md con el contenido\n",
    "busca ficha del documento. Si exsite, genera un md con el contenido\n",
    "busca enlace a pdf de convocatoria (card-body-normativa). \n",
    "if existe:\n",
    "    lo guarda en pdf\n",
    "else:\n",
    "    busca enlace de subpaginas: \n",
    "        view-id-ayudas\n",
    "        view-display-id-block_1\n",
    "    Sacar las url y pillar la primera que es la mas actual.\n",
    "    a esa url quizas haya que añadirle https://www.cdti.es/\n",
    "\n",
    "    en esa pagina repetimos:\n",
    "    busca title y body de descripcion. \n",
    "    pillar title para nombre documento\n",
    "    Si existe el body, genera un md con el contenido\n",
    "    busca ficha del documento. Si exsite, genera un md con el contenido\n",
    "\n",
    "'''"
   ]
  },
  {
   "cell_type": "code",
   "execution_count": null,
   "metadata": {},
   "outputs": [],
   "source": [
    "necesito un codigo en python con selenium que haga lo siguiente:\n",
    "\n",
    "rellena un diccionario con los siguiente:\n",
    "a partir de una url busca:\n",
    "comprueba si existen los elementos de clase block-field-blocknodeayudastitle yblock-field-blocknodeayudasbody\n",
    "En caso de existir, extrae el texto de ambos, los concatena y lo guarda en el diccionario con el nombre \"aid_description_1\"\n",
    "Busca el elemento de clase card-body, y si existe, extrae todo el texto que contiene concatenado, de todos los elementos de clase ficha-field-wrapper. Los concatena y lo guarda en el diccionario con el nombre \"aid_card_1\"\n",
    "ahora busca el elemento card-body-normativa\n",
    "si existe, almacena la url en el diccionario con el nombre \"aid_call_document_url\"\n",
    "si no existe:\n",
    "comprueba si hay mas enlaces a subdocumentos. busca el elemento view-id-ayudas y extrae la primera url que aparece.\n",
    "\n",
    "Con selenium, en esa url, repite el proceso de busqueda de los elementos block-field-blocknodeayudastitle, block-field-blocknodeayudasbody, card-body y card-body-normativa\n",
    "En caso de existir cada uno, los almacena en json de la misma forma, pero empleando el sufijo _2"
   ]
  },
  {
   "cell_type": "code",
   "execution_count": null,
   "metadata": {},
   "outputs": [],
   "source": []
  },
  {
   "cell_type": "code",
   "execution_count": null,
   "metadata": {},
   "outputs": [],
   "source": []
  },
  {
   "cell_type": "code",
   "execution_count": 47,
   "metadata": {},
   "outputs": [
    {
     "data": {
      "text/plain": [
       "'Estas ayudas se ajustarán a lo establecido en el Reglamento (UE) n.º 651/2014, de la Comisión, de 17 de junio de 2014, por el que se declaran determinadas categorías de ayuda compatibles con el mercado interior en aplicación de los artículos 107 y 108 del Tratado (Reglamento general de exención por categorías).'"
      ]
     },
     "execution_count": 47,
     "metadata": {},
     "output_type": "execute_result"
    }
   ],
   "source": [
    "field_text"
   ]
  },
  {
   "cell_type": "code",
   "execution_count": 37,
   "metadata": {},
   "outputs": [
    {
     "name": "stdout",
     "output_type": "stream",
     "text": [
      "Actuación \n",
      " Proyectos CDTI de I+D \n",
      "\n",
      "\n",
      "Objetivo general de la actuación \n",
      " Ayudas a proyectos de I+D desarrollados por empresas y destinados a la creación y mejora significativa de procesos productivos, productos o servicios.\n",
      "Pueden comprender tanto actividades de investigación industrial como de desarrollo experimental.\n",
      "No existe ninguna restricción en cuanto al sector o a la tecnología a desarrollar. \n",
      "\n",
      "\n",
      "Beneficiarios \n",
      " Empresas. \n",
      "\n",
      "\n",
      "Tipo de convocatoria \n",
      " Convocatoria abierta todo el año. \n",
      "\n",
      "\n",
      "Plazo de presentación \n",
      " Todo el año. \n",
      "\n",
      "\n",
      "Tipo de la ayuda \n",
      " Ayuda parcialmente reembolsable. \n",
      "\n",
      "\n",
      "Características de la ayuda \n",
      " Tipo de interés fijo: Euribor a 1 año.\n",
      "Ayuda de hasta el 85% del presupuesto aprobado.\n",
      "La empresa deberá aportar, al menos, el 15% del presupuesto del proyecto con recursos propios.\n",
      "Anticipo de hasta el 50% de la ayuda con límite de 300.000 euros, sin exigencia de garantías adicionales.\n",
      "Tramo no reembolsable de entre el 10% y el 33% de la ayuda.\n",
      "Devolución: 10 o 15 años incluyendo una carencia entre 2 y 3 años.\n",
      "El CDTI podrá requerir la constitución de garantías para la devolución de la ayuda cuando el análisis económico financiero de la empresa así lo indique.\n",
      "En su caso, el CDTI podrá aplicar una minoración o exención de las garantías solicitadas. \n",
      "\n",
      "\n",
      "Características del proyecto \n",
      " Presupuesto mínimo elegible: 175.000 euros \n",
      "Duración: 12 a 36 meses. De 12 a 48 meses en el caso de los proyectos de Cooperación Nacional. \n",
      "\n",
      "\n",
      "Puede incluir fondos de terceros \n",
      " Sí, del FEDER y MRR.\n",
      "Los proyectos cofinanciados con Fondos FEDER deberán acreditar el cumplimiento del principio DNSH.\n",
      "No en el caso de los proyectos de desarrollo de tecnologías duales. \n",
      "\n",
      "\n",
      "Permite generar informes motivados \n",
      " Sí \n",
      "\n",
      "\n",
      "Gastos elegibles \n",
      " Todos los gastos apoyados se han de destinar en exclusiva o derivar directamente de la actividad de I+D apoyada.\n",
      "Son elegibles para la ayuda los gastos de personal; costes de instrumental y material; costes de investigación contractual, conocimientos técnicos y patentes adquiridas, consultoría y servicios equivalentes; gastos generales suplementarios y otros gastos derivados del proyecto. También son elegibles el gasto derivado del informe de auditor y el gasto del informe de valoración del cumplimiento del principio DNSH. \n",
      "Las colaboraciones externas no podrán superar el 65% del presupuesto elegible con carácter general.\n",
      "Se pueden subcontratar determinadas actividades del proyecto a otras empresas o a organismos de investigación. \n",
      "\n",
      "\n",
      "Criterios de evaluación \n",
      " Criterios de evaluación técnica:\n",
      "- Plan de explotación comercial del proyecto.\n",
      "- Tecnología e innovación del proyecto.\n",
      "- Capacidad de la empresa o consorcio.\n",
      "- Valoración del impacto socioeconómico, perspectiva de género y sostenibilidad.\n",
      "Criterios de evaluación financiera:\n",
      "- Análisis de la consideración de empresa en crisis.\n",
      "- Análisis económico-financiero y de riesgo.\n",
      "- Análisis económico-financiero del proyecto.\n",
      "- Adecuación económico-financiera de cada empresa a las empresas que realiza en el proyecto. \n",
      "\n",
      "\n",
      "Efecto incentivador \n",
      " Se considerará que la ayuda tienen un efecto incentivador si, antes de comenzar a trabajar en el proyecto, el beneficiario ha presentado por escrito su solicitud de ayuda al CDTI. \n",
      "\n",
      "\n",
      "Acumulación e incompatibilidades de percepción de ayudas adicionales \n",
      " - En los proyectos financiados con fondos CDTI la ayuda es incompatible con cualesquiera otras ayudas públicas destinadas al mismo proyecto (salvo las excepciones contempladas en la ficha de detalle del instrumento).\n",
      "- En los proyectos cofinanciados con fondos europeos gestionados por el CDTI, la ayuda es compatible con cualesquiera otras ayudas públicas siempre que su fuente de financiación no proceda del presupuesto de la UE. \n",
      "- La ayuda es incompatible con cualquier ayuda privada cuya fuente de financiación provenga de fondos del Presupuesto de la UE. \n",
      "\n",
      "\n",
      "Marco normativo \n",
      " Estas ayudas se ajustarán a lo establecido en el Reglamento (UE) n.º 651/2014, de la Comisión, de 17 de junio de 2014, por el que se declaran determinadas categorías de ayuda compatibles con el mercado interior en aplicación de los artículos 107 y 108 del Tratado (Reglamento general de exención por categorías). \n",
      "\n",
      "\n"
     ]
    }
   ],
   "source": [
    "card_fields = aid_card.find_elements(By.CLASS_NAME, \"ficha-field-wrapper\")\n",
    "for card_field in card_fields:\n",
    "    field_title = card_field.find_element(By.CLASS_NAME, \"title\").text.strip()\n",
    "    field_text = card_field.find_element(By.CLASS_NAME, \"text\").text.strip()\n",
    "    print(field_title, \"\\n\", field_text, \"\\n\\n\")\n"
   ]
  },
  {
   "cell_type": "code",
   "execution_count": 35,
   "metadata": {},
   "outputs": [
    {
     "data": {
      "text/plain": [
       "'Proyectos CDTI de I+D'"
      ]
     },
     "execution_count": 35,
     "metadata": {},
     "output_type": "execute_result"
    }
   ],
   "source": [
    "card_field = card_fields[0]\n",
    "card_field.find_element(By.CLASS_NAME, \"title\").text\n",
    "card_field.find_element(By.CLASS_NAME, \"text\").text"
   ]
  },
  {
   "cell_type": "code",
   "execution_count": null,
   "metadata": {},
   "outputs": [],
   "source": [
    "url = \"https://ejemplo.com\"  # Reemplaza con la URL que necesitas\n",
    "driver.get(url)\n",
    "\n",
    "try:\n",
    "    # Encontrar el div por clase\n",
    "    div_element = driver.find_element(By.CLASS_NAME, \"block-field-blocknodeayudasbody\")\n",
    "    \n",
    "    # Obtener todos los elementos dentro del div\n",
    "    inner_elements = div_element.find_elements(By.XPATH, \".//*\")\n",
    "    \n",
    "    # Extraer y mostrar los textos\n",
    "    for element in inner_elements:\n",
    "        text = element.text.strip()\n",
    "        if text:\n",
    "            print(text)\n",
    "finally:\n",
    "    driver.quit()"
   ]
  },
  {
   "cell_type": "code",
   "execution_count": null,
   "metadata": {},
   "outputs": [],
   "source": []
  },
  {
   "cell_type": "code",
   "execution_count": null,
   "metadata": {},
   "outputs": [],
   "source": []
  },
  {
   "cell_type": "code",
   "execution_count": null,
   "metadata": {},
   "outputs": [],
   "source": []
  },
  {
   "cell_type": "code",
   "execution_count": null,
   "metadata": {},
   "outputs": [],
   "source": []
  },
  {
   "cell_type": "code",
   "execution_count": null,
   "metadata": {},
   "outputs": [],
   "source": []
  },
  {
   "cell_type": "code",
   "execution_count": null,
   "metadata": {},
   "outputs": [],
   "source": []
  },
  {
   "cell_type": "code",
   "execution_count": null,
   "metadata": {},
   "outputs": [],
   "source": []
  },
  {
   "cell_type": "code",
   "execution_count": null,
   "metadata": {},
   "outputs": [],
   "source": []
  },
  {
   "cell_type": "code",
   "execution_count": null,
   "metadata": {},
   "outputs": [],
   "source": []
  },
  {
   "cell_type": "code",
   "execution_count": null,
   "metadata": {},
   "outputs": [],
   "source": []
  },
  {
   "cell_type": "code",
   "execution_count": null,
   "metadata": {},
   "outputs": [],
   "source": []
  },
  {
   "cell_type": "code",
   "execution_count": null,
   "metadata": {},
   "outputs": [],
   "source": []
  },
  {
   "cell_type": "code",
   "execution_count": null,
   "metadata": {},
   "outputs": [],
   "source": []
  },
  {
   "cell_type": "code",
   "execution_count": null,
   "metadata": {},
   "outputs": [],
   "source": []
  },
  {
   "cell_type": "code",
   "execution_count": null,
   "metadata": {},
   "outputs": [],
   "source": []
  },
  {
   "cell_type": "code",
   "execution_count": null,
   "metadata": {},
   "outputs": [],
   "source": []
  },
  {
   "cell_type": "code",
   "execution_count": null,
   "metadata": {},
   "outputs": [],
   "source": []
  }
 ],
 "metadata": {
  "kernelspec": {
   "display_name": ".venv",
   "language": "python",
   "name": "python3"
  },
  "language_info": {
   "codemirror_mode": {
    "name": "ipython",
    "version": 3
   },
   "file_extension": ".py",
   "mimetype": "text/x-python",
   "name": "python",
   "nbconvert_exporter": "python",
   "pygments_lexer": "ipython3",
   "version": "3.12.0"
  }
 },
 "nbformat": 4,
 "nbformat_minor": 2
}
