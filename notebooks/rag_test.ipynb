{
 "cells": [
  {
   "cell_type": "code",
   "execution_count": null,
   "metadata": {},
   "outputs": [],
   "source": [
    "from src.rag_app.setup.setup_rag import RAGSetup\n",
    "\n",
    "# rag_setup = RAGSetup()\n",
    "# rag_setup.run()"
   ]
  },
  {
   "cell_type": "code",
   "execution_count": null,
   "metadata": {},
   "outputs": [],
   "source": [
    "# building rag"
   ]
  },
  {
   "cell_type": "code",
   "execution_count": null,
   "metadata": {},
   "outputs": [],
   "source": [
    "from src.rag_app.chain import RAGChain\n",
    "\n",
    "rag_chain = RAGChain(retriever_mode = \"ensemble\")\n",
    "query = \"Dame información sobre la ayuda 'proyectos de i+d'\"\n",
    "response = rag_chain.invoke(query)\n",
    "print(response)"
   ]
  },
  {
   "cell_type": "code",
   "execution_count": null,
   "metadata": {},
   "outputs": [],
   "source": [
    "# SQL retrieval"
   ]
  },
  {
   "cell_type": "code",
   "execution_count": 1,
   "metadata": {},
   "outputs": [],
   "source": [
    "import os\n",
    "from dotenv import load_dotenv\n",
    "\n",
    "from langchain_community.utilities import SQLDatabase\n",
    "from langchain.agents import create_sql_agent\n",
    "from langchain.agents.agent_toolkits import SQLDatabaseToolkit\n",
    "from langchain_openai import AzureChatOpenAI\n",
    "\n",
    "\n",
    "\n",
    "# 1. Configuración de Azure OpenAI\n",
    "\n",
    "# 2. Conectar a la base de datos SQLite\n",
    "from src.processing.params import (\n",
    "    PROCESSING_OUTPUT_DIR, \n",
    "    RAG_DATA_PATH, \n",
    "    SQLITE_DATA_PATH, \n",
    "    SQLITE_FILE_NAME\n",
    ")\n",
    "\n",
    "\n",
    "sqlite_path = f\"{RAG_DATA_PATH}/{SQLITE_DATA_PATH}/{SQLITE_FILE_NAME}\"\n",
    "\n",
    "uri = f\"sqlite:///{sqlite_path}\"\n",
    "db = SQLDatabase.from_uri(uri)\n",
    "\n",
    "# 3. Inicializar LLM de Azure OpenAI\n",
    "load_dotenv()\n",
    "api_key = os.getenv(\"AZURE_OPENAI_API_KEY\")\n",
    "api_base = os.getenv(\"AZURE_OPENAI_ENDPOINT\")\n",
    "deployment = os.getenv(\"03_MINI_DEPLOYMENT\")  # nombre del *deployment*, NO del modelo\n",
    "api_version = os.getenv(\"AZURE_OPENAI_API_VERSION\")  # Ajusta según la versión de tu Azure OpenAI\n",
    "\n",
    "llm = AzureChatOpenAI(\n",
    "    openai_api_key=api_key,\n",
    "    azure_endpoint=api_base,\n",
    "    deployment_name=deployment,\n",
    "    api_version=api_version,\n",
    "    # temperature=0\n",
    ")\n",
    "\n",
    "# 4. Crear el agente con acceso a SQL\n",
    "toolkit = SQLDatabaseToolkit(db=db, llm=llm)\n",
    "agent_executor = create_sql_agent(llm=llm, toolkit=toolkit, verbose=False)\n",
    "\n"
   ]
  },
  {
   "cell_type": "code",
   "execution_count": 2,
   "metadata": {},
   "outputs": [
    {
     "name": "stdout",
     "output_type": "stream",
     "text": [
      "\n",
      "Respuesta:\n",
      "{'input': 'Dame una lista de las tablas de la base de datos', 'output': 'La base de datos tiene la siguiente tabla: aids_table.'}\n"
     ]
    }
   ],
   "source": [
    "# 5. Ejecutar una pregunta en lenguaje natural\n",
    "pregunta = \"Dame una lista de las tablas de la base de datos\"\n",
    "respuesta = agent_executor.invoke(pregunta)\n",
    "\n",
    "print(\"\\nRespuesta:\")\n",
    "print(respuesta)"
   ]
  },
  {
   "cell_type": "code",
   "execution_count": 1,
   "metadata": {},
   "outputs": [
    {
     "name": "stdout",
     "output_type": "stream",
     "text": [
      "La base de datos contiene la siguiente tabla: aids_table.\n"
     ]
    }
   ],
   "source": [
    "from src.rag_app.sql_retrieval import SQLRetrieval\n",
    "\n",
    "sql_retrieval = SQLRetrieval()\n",
    "query = \"Dame una lista de las tablas de la base de datos\"\n",
    "response = sql_retrieval.invoke(query)\n",
    "print(response)"
   ]
  },
  {
   "cell_type": "code",
   "execution_count": 7,
   "metadata": {},
   "outputs": [
    {
     "name": "stdout",
     "output_type": "stream",
     "text": [
      "\n",
      "\n",
      "\u001b[1m> Entering new SQL Agent Executor chain...\u001b[0m\n",
      "\u001b[32;1m\u001b[1;3mAction: sql_db_list_tables\n",
      "Action Input: \u001b[0m\u001b[38;5;200m\u001b[1;3maids_table\u001b[0m\u001b[32;1m\u001b[1;3mThought: I'll count the number of rows in the aids_table using an SQL count query.\n",
      "\n",
      "Action: sql_db_query_checker\n",
      "Action Input: SELECT COUNT(*) AS total FROM aids_table;\u001b[0m\u001b[36;1m\u001b[1;3mSELECT COUNT(*) AS total FROM aids_table;\u001b[0m\u001b[32;1m\u001b[1;3mAction: sql_db_query\n",
      "Action Input: SELECT COUNT(*) AS total FROM aids_table;\u001b[0m\u001b[36;1m\u001b[1;3m[(32,)]\u001b[0m\u001b[32;1m\u001b[1;3mFinal Answer: Hay 32 ayudas en la tabla aids_table.\u001b[0m\n",
      "\n",
      "\u001b[1m> Finished chain.\u001b[0m\n",
      "\n",
      "Respuesta:\n",
      "{'input': 'Cuantas ayudas hay en la tabla aids_table', 'output': 'Hay 32 ayudas en la tabla aids_table.'}\n"
     ]
    }
   ],
   "source": [
    "pregunta = \"Cuantas ayudas hay en la tabla aids_table\"\n",
    "respuesta = agent_executor.invoke(pregunta)\n",
    "\n",
    "print(\"\\nRespuesta:\")\n",
    "print(respuesta)"
   ]
  },
  {
   "cell_type": "code",
   "execution_count": 11,
   "metadata": {},
   "outputs": [
    {
     "name": "stdout",
     "output_type": "stream",
     "text": [
      "\n",
      "Respuesta:\n"
     ]
    },
    {
     "data": {
      "text/plain": [
       "'Se han encontrado varias ayudas denominadas “Proyectos de I + D” ofrecidas por el CDTI para el año 2025. En concreto, cada registro muestra lo siguiente:\\n\\n1. Todas las ayudas son dirigidas a empresas en el área de I+D.\\n2. Aunque comparten el mismo nombre (“Proyectos de I + D”), difieren en la “línea” de actuación:\\n\\u2003• Proyectos de I+D individuales.\\n\\u2003• Proyectos de I+D de Cooperación Nacional.\\n\\u2003• Proyectos de I+D de Cooperación Tecnológica Internacional.\\n\\u2003• Proyectos de I+D de Cooperación Tecnológica Europea.\\n\\u2003• Proyectos de I+D de Capacitación Tecnológica para la participación en licitaciones internacionales o nacionales.\\n3. El objetivo general es apoyar el desarrollo de proyectos de I+D que impulsen la creación o mejora significativa de procesos, productos o servicios, abarcando tanto la investigación industrial como el desarrollo experimental.\\n4. Se especifican además enlaces a la ficha técnica y a la convocatoria en la web del CDTI.\\n\\nEsta es la información resumida obtenida de la base de datos sobre la ayuda “Proyectos de I + D”.'"
      ]
     },
     "execution_count": 11,
     "metadata": {},
     "output_type": "execute_result"
    }
   ],
   "source": [
    "pregunta = \"Que información hay sobre la ayuda 'proyectos de i+d'\"\n",
    "respuesta = agent_executor.invoke(pregunta)\n",
    "\n",
    "print(\"\\nRespuesta:\")\n",
    "respuesta['output']"
   ]
  },
  {
   "cell_type": "markdown",
   "metadata": {},
   "source": [
    "# langraph agent\n"
   ]
  },
  {
   "cell_type": "code",
   "execution_count": 1,
   "metadata": {},
   "outputs": [],
   "source": [
    "from src.rag_app.graph import MultiAgentGraph"
   ]
  },
  {
   "cell_type": "code",
   "execution_count": 2,
   "metadata": {},
   "outputs": [],
   "source": [
    "app = MultiAgentGraph()"
   ]
  },
  {
   "cell_type": "code",
   "execution_count": 3,
   "metadata": {},
   "outputs": [
    {
     "name": "stderr",
     "output_type": "stream",
     "text": [
      "INFO:httpx:HTTP Request: POST https://josrodand-openai.openai.azure.com/openai/deployments/o3-mini/chat/completions?api-version=2024-12-01-preview \"HTTP/1.1 200 OK\"\n",
      "INFO:httpx:HTTP Request: POST https://josrodand-openai.openai.azure.com/openai/deployments/o3-mini/chat/completions?api-version=2024-12-01-preview \"HTTP/1.1 200 OK\"\n",
      "INFO:httpx:HTTP Request: POST https://josrodand-openai.openai.azure.com/openai/deployments/o3-mini/chat/completions?api-version=2024-12-01-preview \"HTTP/1.1 200 OK\"\n",
      "INFO:httpx:HTTP Request: POST https://josrodand-openai.openai.azure.com/openai/deployments/o3-mini/chat/completions?api-version=2024-12-01-preview \"HTTP/1.1 200 OK\"\n",
      "INFO:httpx:HTTP Request: POST https://josrodand-openai.openai.azure.com/openai/deployments/o3-mini/chat/completions?api-version=2024-12-01-preview \"HTTP/1.1 200 OK\"\n",
      "INFO:httpx:HTTP Request: POST https://josrodand-openai.openai.azure.com/openai/deployments/o3-mini/chat/completions?api-version=2024-12-01-preview \"HTTP/1.1 200 OK\"\n",
      "INFO:httpx:HTTP Request: POST https://josrodand-openai.openai.azure.com/openai/deployments/o3-mini/chat/completions?api-version=2024-12-01-preview \"HTTP/1.1 200 OK\"\n"
     ]
    },
    {
     "data": {
      "text/plain": [
       "'Hay 32 ayudas disponibles.'"
      ]
     },
     "execution_count": 3,
     "metadata": {},
     "output_type": "execute_result"
    }
   ],
   "source": [
    "app.invoke(\"Cuantas ayudas hay disponibles?\")"
   ]
  },
  {
   "cell_type": "code",
   "execution_count": null,
   "metadata": {},
   "outputs": [],
   "source": []
  },
  {
   "cell_type": "code",
   "execution_count": null,
   "metadata": {},
   "outputs": [],
   "source": []
  },
  {
   "cell_type": "code",
   "execution_count": 6,
   "metadata": {},
   "outputs": [],
   "source": [
    "import os\n",
    "from langchain_core.runnables import Runnable\n",
    "from langgraph.graph import END, START, StateGraph\n",
    "from langchain_core.messages import HumanMessage\n",
    "from langchain_openai import AzureChatOpenAI\n",
    "\n",
    "from langchain_core.prompts import ChatPromptTemplate\n",
    "from langchain_core.runnables import RunnablePassthrough\n",
    "from langchain_core.output_parsers import StrOutputParser\n",
    "\n",
    "from dotenv import load_dotenv\n",
    "\n",
    "from src.rag_app.sql_retrieval import SQLRetrieval\n",
    "from src.rag_app.chain import RAGChain\n",
    "\n",
    "\n",
    "from typing import TypedDict, Literal\n",
    "from typing import Literal\n",
    "from pydantic import BaseModel, Field"
   ]
  },
  {
   "cell_type": "code",
   "execution_count": 7,
   "metadata": {},
   "outputs": [],
   "source": [
    "load_dotenv()\n",
    "api_key = os.getenv(\"AZURE_OPENAI_API_KEY\")\n",
    "api_base = os.getenv(\"AZURE_OPENAI_ENDPOINT\")\n",
    "deployment = os.getenv(\"03_MINI_DEPLOYMENT\")  # nombre del *deployment*, NO del modelo\n",
    "api_version = os.getenv(\"AZURE_OPENAI_API_VERSION\")  # Ajusta según la versión de tu Azure OpenAI\n",
    "\n",
    "llm = AzureChatOpenAI(\n",
    "    openai_api_key=api_key,\n",
    "    azure_endpoint=api_base,\n",
    "    deployment_name=deployment,\n",
    "    api_version=api_version,\n",
    "    # temperature=0\n",
    ")"
   ]
  },
  {
   "cell_type": "code",
   "execution_count": 8,
   "metadata": {},
   "outputs": [],
   "source": [
    "rag_chain = RAGChain()\n",
    "sql_chain = SQLRetrieval()"
   ]
  },
  {
   "cell_type": "code",
   "execution_count": 9,
   "metadata": {},
   "outputs": [],
   "source": [
    "\n",
    "\n",
    "class RouteQuery(BaseModel):\n",
    "    \"\"\"Enruta la query de usuario para la fuente de datos mas relevante.\"\"\"\n",
    "    datasource: Literal[\"rag\", \"sql\"] = Field(\n",
    "        ...,\n",
    "        description=\"Dada una pregunta de usuario elige enrutarla a rag o a sql\"\n",
    "    )\n"
   ]
  },
  {
   "cell_type": "code",
   "execution_count": 10,
   "metadata": {},
   "outputs": [],
   "source": [
    "structured_llm_router = llm.with_structured_output(RouteQuery)"
   ]
  },
  {
   "cell_type": "code",
   "execution_count": 11,
   "metadata": {},
   "outputs": [],
   "source": [
    "system = \"\"\"\n",
    "Eres un experto en enrutar una pregunta de usuario a rag o a sql.\n",
    "rag es un sistema de acceso a un vectorstore que contiene documentos completos sobre ayudas a empresas.\n",
    "sql es un sistema de acceso a una base de datos sql que contiene información estructurada sobre ayudas a empresas.\n",
    "sql contiene una tabla: aids_table, con los siguientes campos:\n",
    "- organismo\n",
    "- nombre\n",
    "- linea\n",
    "- fecha_inicio\n",
    "- fecha_fin\n",
    "- objetivo\n",
    "- beneficiarios\n",
    "- anio\n",
    "- area\n",
    "- presupuesto_minimo\n",
    "- presupuesto_maximo\n",
    "- duración_mínima\n",
    "- duración_máxima\n",
    "- intensidad_de_subvencion\n",
    "- intensidad_del_prestamo\n",
    "- tipo_financiacion\n",
    "- forma_y_plazo_de_cobro\n",
    "- minimis\n",
    "- region_de_aplicacion\n",
    "- tipo_de_consorcio\n",
    "- costes_elegibles\n",
    "- link_ficha_tecnica\n",
    "- link_convocatoria\n",
    "\n",
    "Ante cualquier pregunta, devuelve en principio rag.\n",
    "A no ser que sea sobre algun campo específico de la tabla o una pregunta sobre el volumen de esta. \n",
    "En ese caso, devuelve sql.\n",
    "\"\"\"\n",
    "\n",
    "# si la pregunta se puede interpretar como una query en lenguaje natural, o hace referencia a algun campo de la tabla, elige sql.\n",
    "# En caso contrario, elige rag.\n",
    "# Si no estás seguro, elige rag.\n",
    "# Si en la pregunta se indica que quiere información sobre los documentos o convocatorias, elige rag.\n",
    "\n",
    "# Ejemplos:\n",
    "# <query: 'Cuantas ayudas hay ¿disponibles?', result: 'sql'>\n",
    "\n",
    "# <query: 'Quiero información sobre la convocatoria de proyectos de i+d.', result: 'rag'>\n",
    "\n",
    "route_prompt = ChatPromptTemplate.from_messages(\n",
    "    messages=[\n",
    "        (\"system\", system),\n",
    "        (\"human\", \"{query}\")\n",
    "    ]\n",
    ")\n",
    "\n",
    "question_router = route_prompt | structured_llm_router"
   ]
  },
  {
   "cell_type": "code",
   "execution_count": 12,
   "metadata": {},
   "outputs": [
    {
     "name": "stderr",
     "output_type": "stream",
     "text": [
      "INFO:httpx:HTTP Request: POST https://josrodand-openai.openai.azure.com/openai/deployments/o3-mini/chat/completions?api-version=2024-12-01-preview \"HTTP/1.1 200 OK\"\n"
     ]
    },
    {
     "data": {
      "text/plain": [
       "RouteQuery(datasource='rag')"
      ]
     },
     "execution_count": 12,
     "metadata": {},
     "output_type": "execute_result"
    }
   ],
   "source": [
    "question_router.invoke({\"query\": \"Quiero información sobre la ayuda 'proyectos de i+d'\"})"
   ]
  },
  {
   "cell_type": "code",
   "execution_count": 13,
   "metadata": {},
   "outputs": [
    {
     "name": "stderr",
     "output_type": "stream",
     "text": [
      "INFO:httpx:HTTP Request: POST https://josrodand-openai.openai.azure.com/openai/deployments/o3-mini/chat/completions?api-version=2024-12-01-preview \"HTTP/1.1 200 OK\"\n"
     ]
    }
   ],
   "source": [
    "result = question_router.invoke({\"query\": \"Cuantas ayudas hay disponibles?\"})"
   ]
  },
  {
   "cell_type": "code",
   "execution_count": 14,
   "metadata": {},
   "outputs": [
    {
     "data": {
      "text/plain": [
       "'sql'"
      ]
     },
     "execution_count": 14,
     "metadata": {},
     "output_type": "execute_result"
    }
   ],
   "source": [
    "result.datasource"
   ]
  },
  {
   "cell_type": "code",
   "execution_count": 15,
   "metadata": {},
   "outputs": [],
   "source": [
    "def route_query(state) -> str:\n",
    "    \"\"\"\"\"\"\n",
    "    query = state[\"query\"]\n",
    "    source = question_router.invoke({\"query\": query})\n",
    "\n",
    "    if source.datasource == \"rag\":\n",
    "        return \"rag\"\n",
    "    elif source.datasource == \"sql\":\n",
    "        return \"sql\"\n",
    "    else:\n",
    "        raise ValueError(f\"Unknown source: {source['datasource']}\")"
   ]
  },
  {
   "cell_type": "code",
   "execution_count": 16,
   "metadata": {},
   "outputs": [],
   "source": [
    "def rag_retriever(state):\n",
    "    \"\"\"\n",
    "\n",
    "    \"\"\"\n",
    "    query = state[\"query\"]\n",
    "    response = rag_chain.invoke(query)\n",
    "    return {\"query\": query, \"route\": \"rag\", \"response\": response}\n",
    "\n"
   ]
  },
  {
   "cell_type": "code",
   "execution_count": 17,
   "metadata": {},
   "outputs": [],
   "source": [
    "def sql_retriever(state):\n",
    "    \"\"\"\"\"\"\n",
    "    query = state[\"query\"]\n",
    "    response = sql_chain.invoke(query)\n",
    "    return {\"query\": query, \"route\": \"sql\", \"response\": response}"
   ]
  },
  {
   "cell_type": "code",
   "execution_count": 18,
   "metadata": {},
   "outputs": [],
   "source": [
    "class State(TypedDict):\n",
    "    query: str\n",
    "    route: str\n",
    "    response: str\n",
    "\n",
    "\n",
    "workflow = StateGraph(State)\n",
    "\n",
    "workflow.add_node(\"rag\", rag_retriever)\n",
    "workflow.add_node(\"sql\", sql_retriever)\n",
    "workflow.add_conditional_edges(\n",
    "    START,\n",
    "    route_query, \n",
    "    {\n",
    "        \"rag\": \"rag\",\n",
    "        \"sql\": \"sql\"\n",
    "    }\n",
    ")\n",
    "\n",
    "workflow.add_edge(\"rag\", END)\n",
    "workflow.add_edge(\"sql\", END)\n",
    "\n",
    "\n",
    "\n",
    "graph = workflow.compile()\n"
   ]
  },
  {
   "cell_type": "code",
   "execution_count": 19,
   "metadata": {},
   "outputs": [
    {
     "data": {
      "image/png": "[encoded data removed]",
      "text/plain": [
       "<IPython.core.display.Image object>"
      ]
     },
     "metadata": {},
     "output_type": "display_data"
    }
   ],
   "source": [
    "from IPython.display import Image, display\n",
    "\n",
    "display(Image(graph.get_graph().draw_mermaid_png()))"
   ]
  },
  {
   "cell_type": "code",
   "execution_count": 20,
   "metadata": {},
   "outputs": [
    {
     "name": "stderr",
     "output_type": "stream",
     "text": [
      "INFO:httpx:HTTP Request: POST https://josrodand-openai.openai.azure.com/openai/deployments/o3-mini/chat/completions?api-version=2024-12-01-preview \"HTTP/1.1 200 OK\"\n",
      "INFO:httpx:HTTP Request: POST https://josrodand-openai.openai.azure.com/openai/deployments/o3-mini/chat/completions?api-version=2024-12-01-preview \"HTTP/1.1 200 OK\"\n",
      "INFO:httpx:HTTP Request: POST https://josrodand-openai.openai.azure.com/openai/deployments/o3-mini/chat/completions?api-version=2024-12-01-preview \"HTTP/1.1 200 OK\"\n",
      "INFO:httpx:HTTP Request: POST https://josrodand-openai.openai.azure.com/openai/deployments/o3-mini/chat/completions?api-version=2024-12-01-preview \"HTTP/1.1 200 OK\"\n",
      "INFO:httpx:HTTP Request: POST https://josrodand-openai.openai.azure.com/openai/deployments/o3-mini/chat/completions?api-version=2024-12-01-preview \"HTTP/1.1 200 OK\"\n",
      "INFO:httpx:HTTP Request: POST https://josrodand-openai.openai.azure.com/openai/deployments/o3-mini/chat/completions?api-version=2024-12-01-preview \"HTTP/1.1 200 OK\"\n"
     ]
    },
    {
     "data": {
      "text/plain": [
       "{'query': 'Cuantas ayudas hay disponibles?',\n",
       " 'route': 'sql',\n",
       " 'response': 'Hay 32 ayudas disponibles.'}"
      ]
     },
     "execution_count": 20,
     "metadata": {},
     "output_type": "execute_result"
    }
   ],
   "source": [
    "graph.invoke({\"query\": \"Cuantas ayudas hay disponibles?\"})"
   ]
  },
  {
   "cell_type": "code",
   "execution_count": 21,
   "metadata": {},
   "outputs": [
    {
     "name": "stderr",
     "output_type": "stream",
     "text": [
      "INFO:httpx:HTTP Request: POST https://josrodand-openai.openai.azure.com/openai/deployments/o3-mini/chat/completions?api-version=2024-12-01-preview \"HTTP/1.1 200 OK\"\n",
      "INFO:httpx:HTTP Request: POST https://josrodand-openai.openai.azure.com/openai/deployments/text-embedding-3-large/embeddings?api-version=2024-12-01-preview \"HTTP/1.1 200 OK\"\n",
      "INFO:httpx:HTTP Request: POST https://josrodand-openai.openai.azure.com/openai/deployments/o3-mini/chat/completions?api-version=2024-12-01-preview \"HTTP/1.1 200 OK\"\n",
      "INFO:httpx:HTTP Request: POST https://josrodand-openai.openai.azure.com/openai/deployments/text-embedding-3-large/embeddings?api-version=2024-12-01-preview \"HTTP/1.1 200 OK\"\n"
     ]
    },
    {
     "data": {
      "text/plain": [
       "{'query': 'Quiero información sobre ayudas a proyectos de i+d',\n",
       " 'route': 'rag',\n",
       " 'response': '**Información sobre ayudas a proyectos de I+D**\\n\\nLos proyectos de I+D son iniciativas de investigación y desarrollo empresarial de carácter aplicado que buscan la creación o mejora significativa de un proceso productivo, producto o servicio. Para optar a ayudas, los proyectos deben cumplir con los siguientes requisitos:\\n\\n- **Innovación tecnológica:** Deben demostrar un aspecto tecnológico diferencial respecto a las tecnologías existentes en el mercado.\\n- **Tipo de actividades:** Las actividades pueden abarcar tanto la investigación industrial como el desarrollo experimental.\\n- **Presentación:** En general, estos proyectos se presentan por una única empresa; en el caso de referirse a pymes, se aplicarán los criterios establecidos en el Anexo I del Reglamento General de Exención por Categorías (Reglamento (UE)).\\n- **Consideraciones ambientales:** No serán susceptibles de ayuda aquellas actuaciones que puedan ocasionar un perjuicio significativo al medio ambiente, cumpliendo con lo dispuesto en el artículo 17 del Reglamento (UE) 2020/852.\\n\\nEstas ayudas están diseñadas para fomentar el desarrollo y la competitividad empresarial mediante la innovación y el avance tecnológico. Si necesitas detalles más específicos sobre requisitos, procesos de solicitud o condiciones particulares, te recomiendo consultar la convocatoria o la ficha de proyecto correspondiente.\\n\\nFuentes:\\n* data\\\\cdti\\\\cdti-aids\\\\actuación_conjunta_isciii-cdti\\\\ficha_apr_mision_salud_2023.pdf, Página: 3\\n* data\\\\cdti\\\\cdti-aids\\\\proyectos_de_i_+_d\\\\proyectos_de_id.pdf, Página: 1\\n* data\\\\cdti\\\\cdti-aids\\\\proyectos_de_i+d_aeroespacial_y_salud\\\\id_pertes_cda_2024_11_29.pdf, Página: 3\\n'}"
      ]
     },
     "execution_count": 21,
     "metadata": {},
     "output_type": "execute_result"
    }
   ],
   "source": [
    "graph.invoke({\"query\": \"Quiero información sobre ayudas a proyectos de i+d\"})"
   ]
  },
  {
   "cell_type": "code",
   "execution_count": 22,
   "metadata": {},
   "outputs": [
    {
     "name": "stderr",
     "output_type": "stream",
     "text": [
      "INFO:httpx:HTTP Request: POST https://josrodand-openai.openai.azure.com/openai/deployments/o3-mini/chat/completions?api-version=2024-12-01-preview \"HTTP/1.1 200 OK\"\n",
      "INFO:httpx:HTTP Request: POST https://josrodand-openai.openai.azure.com/openai/deployments/text-embedding-3-large/embeddings?api-version=2024-12-01-preview \"HTTP/1.1 200 OK\"\n",
      "INFO:httpx:HTTP Request: POST https://josrodand-openai.openai.azure.com/openai/deployments/o3-mini/chat/completions?api-version=2024-12-01-preview \"HTTP/1.1 200 OK\"\n",
      "INFO:httpx:HTTP Request: POST https://josrodand-openai.openai.azure.com/openai/deployments/text-embedding-3-large/embeddings?api-version=2024-12-01-preview \"HTTP/1.1 200 OK\"\n"
     ]
    },
    {
     "data": {
      "text/plain": [
       "{'query': \"Quiero información sobre la ayuda 'proyectos de i+d'\",\n",
       " 'route': 'rag',\n",
       " 'response': '**Información sobre la ayuda \"proyectos de I+D\"**\\n\\n- **Definición y Objetivo:**  \\n  Los proyectos de I+D son iniciativas empresariales de investigación y desarrollo con carácter aplicado. Están destinados a la creación o mejora significativa de procesos productivos, productos o servicios. Esto implica que los proyectos deben presentar un elemento tecnológico diferencial respecto a las tecnologías existentes en el mercado.\\n\\n- **Ámbito de Actividades:**  \\n  Pueden comprender tanto actividades de investigación industrial como de desarrollo experimental.\\n\\n- **Beneficiarios:**  \\n  La ayuda está dirigida a empresas. En algunos contextos, cuando se hace referencia a \"pymes\", se entiende a aquellas que cumplen con los requisitos establecidos en regulaciones específicas (por ejemplo, en el Anexo I del Reglamento General de Exención por Categorías).\\n\\n- **Tipo de Convocatoria (según CDTI):**  \\n  La convocatoria es abierta durante todo el año, sin restricción en cuanto al sector o a la tecnología que se desea desarrollar.\\n\\nEsta información se extrae de los documentos que definen y explican las características de los proyectos de I+D, en los que se detalla tanto el ámbito de actuación como los beneficiarios y los objetivos generales de la ayuda.\\n\\nFuentes:\\n* data\\\\cdti\\\\cdti-aids\\\\proyectos_de_i_+_d\\\\proyectos_de_id.pdf, Página: 1\\n* data\\\\cdti\\\\cdti-aids\\\\proyectos_de_i_+_d\\\\proyectos_de_i_+_d_card.md\\n* data\\\\cdti\\\\cdti-aids\\\\proyectos_de_i+d_aeroespacial_y_salud\\\\id_pertes_cda_2024_11_29.pdf, Página: 3\\n'}"
      ]
     },
     "execution_count": 22,
     "metadata": {},
     "output_type": "execute_result"
    }
   ],
   "source": [
    "graph.invoke({\"query\": \"Quiero información sobre la ayuda 'proyectos de i+d'\"})"
   ]
  },
  {
   "cell_type": "code",
   "execution_count": 23,
   "metadata": {},
   "outputs": [
    {
     "name": "stderr",
     "output_type": "stream",
     "text": [
      "INFO:httpx:HTTP Request: POST https://josrodand-openai.openai.azure.com/openai/deployments/o3-mini/chat/completions?api-version=2024-12-01-preview \"HTTP/1.1 200 OK\"\n",
      "INFO:httpx:HTTP Request: POST https://josrodand-openai.openai.azure.com/openai/deployments/text-embedding-3-large/embeddings?api-version=2024-12-01-preview \"HTTP/1.1 200 OK\"\n",
      "INFO:httpx:HTTP Request: POST https://josrodand-openai.openai.azure.com/openai/deployments/o3-mini/chat/completions?api-version=2024-12-01-preview \"HTTP/1.1 200 OK\"\n",
      "INFO:httpx:HTTP Request: POST https://josrodand-openai.openai.azure.com/openai/deployments/text-embedding-3-large/embeddings?api-version=2024-12-01-preview \"HTTP/1.1 200 OK\"\n"
     ]
    },
    {
     "data": {
      "text/plain": [
       "{'query': \"dame un resumen del documento de la convocatoria para la ayuda 'Proyectos de I + D'\",\n",
       " 'route': 'rag',\n",
       " 'response': '**Resumen de la convocatoria para la ayuda \"Proyectos de I + D\":**\\n\\n- **Objetivo:**  \\n  Financiación de proyectos de investigación y desarrollo empresarial de carácter aplicado, destinados a la creación o mejora significativa de procesos productivos, productos o servicios.\\n\\n- **Características del Proyecto:**  \\n  - Deben presentar un componente tecnológico diferencial respecto a las tecnologías existentes en el mercado.  \\n  - En algunos casos se fomenta la colaboración con centros y organismos de investigación, incluyendo áreas específicas como la medicina personalizada y terapias emergentes, conforme a las prioridades establecidas en los anexos.\\n\\n- **Modalidad de la Ayuda:**  \\n  - La ayuda se compone de dos tramos: uno reembolsable y otro no reembolsable.  \\n  - Se aplican condiciones financieras concretas, incluyendo un tipo de interés fijo que se establece en función del período de amortización elegido por el beneficiario (por ejemplo, 5 años con Euribor a un año + 0,50% o 7 años con Euribor a un año + 1%).\\n\\nFuentes:\\n* data\\\\cdti\\\\cdti-aids\\\\proyectos_de_i_+_d\\\\proyectos_de_id.pdf, Página: 1\\n* data\\\\cdti\\\\cdti-aids\\\\actuación_conjunta_isciii-cdti\\\\ficha_apr_mision_salud_2023.pdf, Página: 3\\n* data\\\\cdti\\\\cdti-aids\\\\línea_directa_de_innovación\\\\lic.pdf, Página: 9\\n'}"
      ]
     },
     "execution_count": 23,
     "metadata": {},
     "output_type": "execute_result"
    }
   ],
   "source": [
    "graph.invoke({\"query\": \"dame un resumen del documento de la convocatoria para la ayuda 'Proyectos de I + D'\"})"
   ]
  },
  {
   "cell_type": "code",
   "execution_count": null,
   "metadata": {},
   "outputs": [],
   "source": []
  },
  {
   "cell_type": "code",
   "execution_count": null,
   "metadata": {},
   "outputs": [],
   "source": []
  },
  {
   "cell_type": "code",
   "execution_count": null,
   "metadata": {},
   "outputs": [],
   "source": []
  },
  {
   "cell_type": "code",
   "execution_count": null,
   "metadata": {},
   "outputs": [],
   "source": []
  },
  {
   "cell_type": "code",
   "execution_count": null,
   "metadata": {},
   "outputs": [],
   "source": []
  },
  {
   "cell_type": "code",
   "execution_count": null,
   "metadata": {},
   "outputs": [],
   "source": []
  },
  {
   "cell_type": "code",
   "execution_count": null,
   "metadata": {},
   "outputs": [],
   "source": []
  },
  {
   "cell_type": "code",
   "execution_count": null,
   "metadata": {},
   "outputs": [],
   "source": []
  },
  {
   "cell_type": "code",
   "execution_count": null,
   "metadata": {},
   "outputs": [],
   "source": []
  },
  {
   "cell_type": "code",
   "execution_count": 1,
   "metadata": {},
   "outputs": [],
   "source": [
    "from langchain_aws import ChatBedrock\n",
    " \n",
    "llm = ChatBedrock(\n",
    "    model_id=\"us.anthropic.claude-3-haiku-20240307-v1:0\",\n",
    "    region = \"us-east-1\",    \n",
    "    model_kwargs=dict(temperature=0)\n",
    " \n",
    ")"
   ]
  },
  {
   "cell_type": "code",
   "execution_count": 2,
   "metadata": {},
   "outputs": [
    {
     "data": {
      "text/plain": [
       "AIMessage(content=\"Voici la traduction en français :\\n\\nJ'ai 35 ans.\", additional_kwargs={'usage': {'prompt_tokens': 33, 'completion_tokens': 21, 'total_tokens': 54}, 'stop_reason': 'end_turn', 'thinking': {}, 'model_id': 'us.anthropic.claude-3-haiku-20240307-v1:0'}, response_metadata={'usage': {'prompt_tokens': 33, 'completion_tokens': 21, 'total_tokens': 54}, 'stop_reason': 'end_turn', 'thinking': {}, 'model_id': 'us.anthropic.claude-3-haiku-20240307-v1:0'}, id='run-ec3c6b30-a432-47d5-93e7-90e44b379944-0', usage_metadata={'input_tokens': 33, 'output_tokens': 21, 'total_tokens': 54})"
      ]
     },
     "execution_count": 2,
     "metadata": {},
     "output_type": "execute_result"
    }
   ],
   "source": [
    "messages = [\n",
    "    (\n",
    "        \"system\",\n",
    "        \"You are a helpful assistant that translates English to French. Translate the user sentence.\",\n",
    "    ),\n",
    "    (\"human\", \"I am 35 years old.\"),\n",
    "]\n",
    "ai_msg = llm.invoke(messages)\n",
    "ai_msg"
   ]
  },
  {
   "cell_type": "code",
   "execution_count": null,
   "metadata": {},
   "outputs": [],
   "source": []
  },
  {
   "cell_type": "code",
   "execution_count": null,
   "metadata": {},
   "outputs": [],
   "source": []
  },
  {
   "cell_type": "code",
   "execution_count": null,
   "metadata": {},
   "outputs": [],
   "source": []
  }
 ],
 "metadata": {
  "kernelspec": {
   "display_name": ".venv",
   "language": "python",
   "name": "python3"
  },
  "language_info": {
   "codemirror_mode": {
    "name": "ipython",
    "version": 3
   },
   "file_extension": ".py",
   "mimetype": "text/x-python",
   "name": "python",
   "nbconvert_exporter": "python",
   "pygments_lexer": "ipython3",
   "version": "3.12.0"
  }
 },
 "nbformat": 4,
 "nbformat_minor": 2
}
