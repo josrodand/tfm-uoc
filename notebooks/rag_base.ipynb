{
 "cells": [
  {
   "cell_type": "code",
   "execution_count": 6,
   "metadata": {},
   "outputs": [],
   "source": [
    "import os\n",
    "from dotenv import load_dotenv\n",
    "import pickle\n",
    "\n",
    "from langchain_openai import AzureChatOpenAI\n",
    "from langchain_openai import AzureOpenAIEmbeddings\n",
    "\n",
    "from langchain_core.prompts import ChatPromptTemplate\n",
    "from langchain_core.runnables import RunnablePassthrough, RunnableLambda\n",
    "from langchain_core.output_parsers import StrOutputParser\n",
    "\n",
    "\n",
    "from langchain.document_loaders import TextLoader\n",
    "from langchain_community.document_loaders import PyPDFLoader\n",
    "\n",
    "from langchain.text_splitter import RecursiveCharacterTextSplitter\n",
    "from langchain.vectorstores import FAISS\n",
    "import faiss\n",
    "\n",
    "from langchain_community.docstore.in_memory import InMemoryDocstore\n",
    "from openai import RateLimitError\n",
    "import time\n",
    "\n",
    "from langchain.retrievers import BM25Retriever, EnsembleRetriever\n",
    "\n",
    "\n",
    "from langchain.retrievers import ContextualCompressionRetriever\n",
    "from langchain.retrievers.document_compressors import FlashrankRerank\n",
    "from flashrank import Ranker\n",
    "\n",
    "from src.processing.params import (\n",
    "    RAG_DATA_PATH\n",
    ")"
   ]
  },
  {
   "cell_type": "code",
   "execution_count": 2,
   "metadata": {},
   "outputs": [],
   "source": [
    "# # los contents son editables, de cara al contextual rag. Hay que ver si el chunk es editable tb\n",
    "# test_md_doc = md_docs[0]\n",
    "# print(test_md_doc)\n",
    "# # test_md_doc.page_content = \"asdfgdfhngfbdsdbfhdgfv\"\n",
    "# # print(test_md_doc)\n",
    "# text_splitter=RecursiveCharacterTextSplitter(chunk_size=512,chunk_overlap=50)\n",
    "# text_splits=text_splitter.split_documents(test_md_doc)\n",
    "# print(len(text_splits))"
   ]
  },
  {
   "cell_type": "code",
   "execution_count": 3,
   "metadata": {},
   "outputs": [
    {
     "data": {
      "text/plain": [
       "'rag_data'"
      ]
     },
     "execution_count": 3,
     "metadata": {},
     "output_type": "execute_result"
    }
   ],
   "source": [
    "RAG_DATA_PATH"
   ]
  },
  {
   "cell_type": "code",
   "execution_count": 2,
   "metadata": {},
   "outputs": [],
   "source": [
    "AIDS_DIR = \"data\""
   ]
  },
  {
   "cell_type": "code",
   "execution_count": 7,
   "metadata": {},
   "outputs": [],
   "source": [
    "def get_all_pdfs(dir):\n",
    "    pdfs = []\n",
    "    for root, _, files in os.walk(dir):\n",
    "        for file in files:\n",
    "            if file.endswith('.pdf'):\n",
    "                pdfs.append(os.path.join(root, file))\n",
    "    return pdfs\n",
    "\n",
    "\n",
    "def get_all_cards(dir):\n",
    "    markdown_cards = []\n",
    "    for root, _, files in os.walk(dir):\n",
    "        for file in files:\n",
    "            if file.endswith('_card.md'):\n",
    "                file_path = os.path.join(root, file)\n",
    "                with open(file_path, 'r', encoding='utf-8') as f:\n",
    "                    lines = f.readlines()\n",
    "                    if len(lines) > 5:  # Verifica si el archivo tiene más de 5 líneas\n",
    "                        markdown_cards.append(file_path)\n",
    "    return markdown_cards"
   ]
  },
  {
   "cell_type": "code",
   "execution_count": 8,
   "metadata": {},
   "outputs": [
    {
     "name": "stdout",
     "output_type": "stream",
     "text": [
      "29 ['data\\\\cdti\\\\cdti-aids\\\\actuación_conjunta_isciii-cdti\\\\ficha_apr_mision_salud_2023.pdf', 'data\\\\cdti\\\\cdti-aids\\\\ayudas_cervera_para_centros_tecnológicos\\\\oobb_cin_644_2023.pdf', 'data\\\\cdti\\\\cdti-aids\\\\ayudas_neotec\\\\boe-a-2022-6991_oobb.pdf', 'data\\\\cdti\\\\cdti-aids\\\\ayudas_pymes_sello_de_excelencia\\\\resolucion_sello_2025_web.pdf', 'data\\\\cdti\\\\cdti-aids\\\\ayudas_pymes_sello_de_excelencia\\\\Sello%20de%20Excelencia%20Convocatoria%202022.pdf', 'data\\\\cdti\\\\cdti-aids\\\\cdti-era-net\\\\SERA%202022_Texto%20Resoluci%C3%B3n.pdf', 'data\\\\cdti\\\\cdti-aids\\\\cdti-eurostars\\\\boe-b-2025_1_0.pdf', 'data\\\\cdti\\\\cdti-aids\\\\cdti-partenariados_pilar_2_(sera)\\\\boe-b-2024-17518_convocatoria_conjunta.pdf', 'data\\\\cdti\\\\cdti-aids\\\\ecosistemas_de_innovación\\\\boe-a-2023-14674.pdf', 'data\\\\cdti\\\\cdti-aids\\\\innterconecta_-_step\\\\boe-a-2025-3176_oobb_d.pdf', 'data\\\\cdti\\\\cdti-aids\\\\ipcei_med4cure_convocatoria_de_expresiones_de_interés\\\\peticion_manifestaciones_de_interes_ipcei_salud.pdf', 'data\\\\cdti\\\\cdti-aids\\\\kssp_financiación_nacional\\\\boe-b-2024-17518_convocatoria_conjunta.pdf', 'data\\\\cdti\\\\cdti-aids\\\\línea_directa_de_expansión\\\\lica.pdf', 'data\\\\cdti\\\\cdti-aids\\\\línea_directa_de_expansión_aeroespacial_y_salud\\\\lica_pertes_cda_2024_11_29.pdf', 'data\\\\cdti\\\\cdti-aids\\\\línea_directa_de_innovación\\\\lic.pdf', 'data\\\\cdti\\\\cdti-aids\\\\línea_directa_de_innovación_aeroespacial_y_salud\\\\lic_pertes_2024_11_29.pdf', 'data\\\\cdti\\\\cdti-aids\\\\misiones_ciencia_e_innovación\\\\38426_1761762022125347.pdf', 'data\\\\cdti\\\\cdti-aids\\\\misiones_perte_chip\\\\orden_cin_373_2022.pdf', 'data\\\\cdti\\\\cdti-aids\\\\programa_tecnológico_aeronáutico_(pta)\\\\Orden%20de%20Bases%20CIN%20373%202022.pdf', 'data\\\\cdti\\\\cdti-aids\\\\programa_tecnológico_de_automoción_sostenible_(ptas)\\\\Orden%20de%20Bases%20CNU%201308%202018.pdf', 'data\\\\cdti\\\\cdti-aids\\\\programa_tecnológico_espacial_(pte)\\\\report_2404_pte-cdti-bases_reguladoras_y_convocatoria_vf.pdf', 'data\\\\cdti\\\\cdti-aids\\\\proyectos_de_i+d_aeroespacial_y_salud\\\\id_pertes_cda_2024_11_29.pdf', 'data\\\\cdti\\\\cdti-aids\\\\proyectos_de_i+d_audiovisual_y_videojuegos\\\\Convocatoria_2022_Audiovisual.pdf', 'data\\\\cdti\\\\cdti-aids\\\\proyectos_de_i+d_de_transferencia_tecnológica_cervera\\\\id_transferencia_cervera.pdf', 'data\\\\cdti\\\\cdti-aids\\\\proyectos_de_innovación_fempa\\\\6._idf_innovacion.pdf', 'data\\\\cdti\\\\cdti-aids\\\\proyectos_de_inversión_fempa\\\\5._lif_inversion.pdf', 'data\\\\cdti\\\\cdti-aids\\\\proyectos_de_i_+_d\\\\proyectos_de_id.pdf', 'data\\\\cdti\\\\cdti-aids\\\\proyectos_multi-país\\\\report_2404_pte-cdti-bases_reguladoras_y_convocatoria_vf.pdf', 'data\\\\cdti\\\\cdti-aids\\\\transmisiones\\\\boe-a-2022-6991_oobb.pdf']\n",
      "28 ['data\\\\cdti\\\\cdti-aids\\\\actuación_conjunta_isciii-cdti\\\\actuación_conjunta_isciii-cdti_card.md', 'data\\\\cdti\\\\cdti-aids\\\\ayudas_cervera_para_centros_tecnológicos\\\\ayudas_cervera_para_centros_tecnológicos_card.md', 'data\\\\cdti\\\\cdti-aids\\\\ayudas_neotec\\\\ayudas_neotec_card.md', 'data\\\\cdti\\\\cdti-aids\\\\ayudas_pymes_sello_de_excelencia\\\\ayudas_pymes_sello_de_excelencia_card.md', 'data\\\\cdti\\\\cdti-aids\\\\cdti-era-net\\\\cdti-era-net_card.md', 'data\\\\cdti\\\\cdti-aids\\\\cdti-eurostars\\\\cdti-eurostars_card.md', 'data\\\\cdti\\\\cdti-aids\\\\cdti-partenariados_pilar_2_(sera)\\\\cdti-partenariados_pilar_2_(sera)_card.md', 'data\\\\cdti\\\\cdti-aids\\\\ecosistemas_de_innovación\\\\ecosistemas_de_innovación_card.md', 'data\\\\cdti\\\\cdti-aids\\\\innterconecta_-_step\\\\innterconecta_-_step_card.md', 'data\\\\cdti\\\\cdti-aids\\\\ipcei_med4cure_convocatoria_de_expresiones_de_interés\\\\ipcei_med4cure_convocatoria_de_expresiones_de_interés_card.md', 'data\\\\cdti\\\\cdti-aids\\\\kssp_financiación_nacional\\\\kssp_financiación_nacional_card.md', 'data\\\\cdti\\\\cdti-aids\\\\línea_directa_de_expansión\\\\línea_directa_de_expansión_card.md', 'data\\\\cdti\\\\cdti-aids\\\\línea_directa_de_expansión_aeroespacial_y_salud\\\\línea_directa_de_expansión_aeroespacial_y_salud_card.md', 'data\\\\cdti\\\\cdti-aids\\\\línea_directa_de_innovación\\\\línea_directa_de_innovación_card.md', 'data\\\\cdti\\\\cdti-aids\\\\línea_directa_de_innovación_aeroespacial_y_salud\\\\línea_directa_de_innovación_aeroespacial_y_salud_card.md', 'data\\\\cdti\\\\cdti-aids\\\\misiones_ciencia_e_innovación\\\\misiones_ciencia_e_innovación_card.md', 'data\\\\cdti\\\\cdti-aids\\\\misiones_perte_chip\\\\misiones_perte_chip_card.md', 'data\\\\cdti\\\\cdti-aids\\\\programa_tecnológico_aeronáutico_(pta)\\\\programa_tecnológico_aeronáutico_(pta)_card.md', 'data\\\\cdti\\\\cdti-aids\\\\programa_tecnológico_de_automoción_sostenible_(ptas)\\\\programa_tecnológico_de_automoción_sostenible_(ptas)_card.md', 'data\\\\cdti\\\\cdti-aids\\\\programa_tecnológico_espacial_(pte)\\\\programa_tecnológico_espacial_(pte)_card.md', 'data\\\\cdti\\\\cdti-aids\\\\proyectos_de_i+d_aeroespacial_y_salud\\\\proyectos_de_i+d_aeroespacial_y_salud_card.md', 'data\\\\cdti\\\\cdti-aids\\\\proyectos_de_i+d_audiovisual_y_videojuegos\\\\proyectos_de_i+d_audiovisual_y_videojuegos_card.md', 'data\\\\cdti\\\\cdti-aids\\\\proyectos_de_i+d_de_transferencia_tecnológica_cervera\\\\proyectos_de_i+d_de_transferencia_tecnológica_cervera_card.md', 'data\\\\cdti\\\\cdti-aids\\\\proyectos_de_innovación_fempa\\\\proyectos_de_innovación_fempa_card.md', 'data\\\\cdti\\\\cdti-aids\\\\proyectos_de_inversión_fempa\\\\proyectos_de_inversión_fempa_card.md', 'data\\\\cdti\\\\cdti-aids\\\\proyectos_de_i_+_d\\\\proyectos_de_i_+_d_card.md', 'data\\\\cdti\\\\cdti-aids\\\\proyectos_multi-país\\\\proyectos_multi-país_card.md', 'data\\\\cdti\\\\cdti-aids\\\\transmisiones\\\\transmisiones_card.md']\n"
     ]
    }
   ],
   "source": [
    "\n",
    "\n",
    "list_pdf = get_all_pdfs(AIDS_DIR)\n",
    "list_md = get_all_cards(AIDS_DIR)\n",
    "print(len(list_pdf), list_pdf)\n",
    "print(len(list_md), list_md)"
   ]
  },
  {
   "cell_type": "code",
   "execution_count": 9,
   "metadata": {},
   "outputs": [],
   "source": [
    "load_dotenv()\n",
    "\n",
    "api_key = os.getenv(\"AZURE_OPENAI_API_KEY\")\n",
    "api_base = os.getenv(\"AZURE_OPENAI_ENDPOINT\")\n",
    "deployment = os.getenv(\"03_MINI_DEPLOYMENT\")  # nombre del *deployment*, NO del modelo\n",
    "api_version = os.getenv(\"AZURE_OPENAI_API_VERSION\")  # Ajusta según la versión de tu Azure OpenAI\n",
    "\n",
    "llm = AzureChatOpenAI(\n",
    "    openai_api_key=api_key,\n",
    "    azure_endpoint=api_base,\n",
    "    deployment_name=deployment,\n",
    "    api_version=api_version,\n",
    "    # temperature=0\n",
    ")\n",
    "embeddings = AzureOpenAIEmbeddings(\n",
    "    model=\"text-embedding-3-large\",\n",
    "    azure_endpoint=api_base,\n",
    "    api_key=api_key,\n",
    "    openai_api_version=api_version\n",
    ")"
   ]
  },
  {
   "cell_type": "markdown",
   "metadata": {},
   "source": [
    "# Standard RAG"
   ]
  },
  {
   "cell_type": "code",
   "execution_count": 6,
   "metadata": {},
   "outputs": [],
   "source": [
    "# llms\n",
    "load_dotenv()\n",
    "\n",
    "api_key = os.getenv(\"AZURE_OPENAI_API_KEY\")\n",
    "api_base = os.getenv(\"AZURE_OPENAI_ENDPOINT\")\n",
    "deployment = os.getenv(\"03_MINI_DEPLOYMENT\")  # nombre del *deployment*, NO del modelo\n",
    "api_version = os.getenv(\"AZURE_OPENAI_API_VERSION\")  # Ajusta según la versión de tu Azure OpenAI\n",
    "\n",
    "llm = AzureChatOpenAI(\n",
    "    openai_api_key=api_key,\n",
    "    azure_endpoint=api_base,\n",
    "    deployment_name=deployment,\n",
    "    api_version=api_version,\n",
    "    # temperature=0\n",
    ")\n",
    "embeddings = AzureOpenAIEmbeddings(\n",
    "    model=\"text-embedding-3-large\",\n",
    "    azure_endpoint=api_base,\n",
    "    api_key=api_key,\n",
    "    openai_api_version=api_version\n",
    ")"
   ]
  },
  {
   "cell_type": "code",
   "execution_count": 10,
   "metadata": {},
   "outputs": [],
   "source": [
    "# Leer ficheros Markdown\n",
    "markdown_docs = []\n",
    "for file in list_md:\n",
    "    loader = TextLoader(file, encoding='utf-8')\n",
    "    markdown_docs.extend(loader.load())\n",
    "\n",
    "# Leer ficheros PDF\n",
    "pdf_docs = []\n",
    "for file in list_pdf:\n",
    "    loader = PyPDFLoader(file)\n",
    "    pdf_docs.extend(loader.load())\n",
    "\n",
    "# Unir todos los documentos\n",
    "total_docs = markdown_docs + pdf_docs"
   ]
  },
  {
   "cell_type": "code",
   "execution_count": 11,
   "metadata": {},
   "outputs": [
    {
     "name": "stdout",
     "output_type": "stream",
     "text": [
      "8271\n"
     ]
    }
   ],
   "source": [
    "text_splitter=RecursiveCharacterTextSplitter(chunk_size=500,chunk_overlap=100)\n",
    "text_splits=text_splitter.split_documents(total_docs)\n",
    "print(len(text_splits))"
   ]
  },
  {
   "cell_type": "code",
   "execution_count": null,
   "metadata": {},
   "outputs": [
    {
     "name": "stdout",
     "output_type": "stream",
     "text": [
      "✅ Lote 0–199 añadido.\n",
      "✅ Lote 200–399 añadido.\n",
      "✅ Lote 400–599 añadido.\n",
      "✅ Lote 600–799 añadido.\n",
      "✅ Lote 800–999 añadido.\n",
      "✅ Lote 1000–1199 añadido.\n",
      "✅ Lote 1200–1399 añadido.\n",
      "✅ Lote 1400–1599 añadido.\n",
      "✅ Lote 1600–1799 añadido.\n",
      "✅ Lote 1800–1999 añadido.\n",
      "✅ Lote 2000–2199 añadido.\n",
      "✅ Lote 2200–2399 añadido.\n",
      "✅ Lote 2400–2599 añadido.\n",
      "✅ Lote 2600–2799 añadido.\n",
      "✅ Lote 2800–2999 añadido.\n",
      "✅ Lote 3000–3199 añadido.\n",
      "✅ Lote 3200–3399 añadido.\n",
      "✅ Lote 3400–3599 añadido.\n",
      "✅ Lote 3600–3799 añadido.\n",
      "✅ Lote 3800–3999 añadido.\n",
      "✅ Lote 4000–4199 añadido.\n",
      "✅ Lote 4200–4399 añadido.\n",
      "✅ Lote 4400–4599 añadido.\n",
      "✅ Lote 4600–4799 añadido.\n",
      "✅ Lote 4800–4999 añadido.\n",
      "✅ Lote 5000–5199 añadido.\n",
      "✅ Lote 5200–5399 añadido.\n",
      "✅ Lote 5400–5599 añadido.\n",
      "✅ Lote 5600–5799 añadido.\n",
      "✅ Lote 5800–5999 añadido.\n",
      "✅ Lote 6000–6199 añadido.\n",
      "✅ Lote 6200–6399 añadido.\n",
      "✅ Lote 6400–6599 añadido.\n",
      "✅ Lote 6600–6799 añadido.\n",
      "✅ Lote 6800–6999 añadido.\n",
      "✅ Lote 7000–7199 añadido.\n",
      "✅ Lote 7200–7399 añadido.\n",
      "✅ Lote 7400–7599 añadido.\n",
      "✅ Lote 7600–7799 añadido.\n",
      "✅ Lote 7800–7999 añadido.\n",
      "✅ Lote 8000–8199 añadido.\n",
      "✅ Lote 8200–8270 añadido.\n",
      "🎉 Todos los documentos fueron procesados.\n"
     ]
    }
   ],
   "source": [
    "# Configuración\n",
    "documents = text_splits  # Tu lista de Document()s\n",
    "ids = [str(i + 1) for i in list(range(len(text_splits)))]       # Lista de IDs correspondientes\n",
    "\n",
    "chunk_processing_size = 200    # Tamaño de lote\n",
    "sleep_time = 30    # Tiempo de espera entre lotes (segundos)\n",
    "\n",
    "# Inicializar FAISS\n",
    "index = faiss.IndexFlatL2(len(embeddings.embed_query(\"hello world\")))\n",
    "\n",
    "vector_store = FAISS(\n",
    "    embedding_function=embeddings,\n",
    "    index=index,\n",
    "    docstore= InMemoryDocstore(),\n",
    "    index_to_docstore_id={}\n",
    ")\n",
    "\n",
    "# Procesamiento por lotes\n",
    "total = len(documents)\n",
    "for i in range(0, total, chunk_processing_size):\n",
    "    doc_chunk = documents[i:i + chunk_processing_size]\n",
    "    id_chunk = ids[i:i + chunk_processing_size]\n",
    "\n",
    "    success = False\n",
    "    while not success:\n",
    "        try:\n",
    "            vector_store.add_documents(documents=doc_chunk, ids=id_chunk)\n",
    "            print(f\"✅ Lote {i}–{i+len(doc_chunk)-1} añadido.\")\n",
    "            success = True\n",
    "        except RateLimitError:\n",
    "            print(f\"⚠️ Rate limit alcanzado. Esperando {sleep_time} segundos...\")\n",
    "            time.sleep(sleep_time)\n",
    "        except Exception as e:\n",
    "            print(f\"❌ Error inesperado en lote {i}–{i+len(doc_chunk)-1}: {e}\")\n",
    "            success = True  # Evita bucle infinito por errores irreparables\n",
    "\n",
    "    # print(f\"⏳ Esperando {sleep_time} segundos antes del siguiente lote...\")\n",
    "    # time.sleep(sleep_time)\n",
    "\n",
    "print(\"🎉 Todos los documentos fueron procesados.\")"
   ]
  },
  {
   "cell_type": "code",
   "execution_count": 37,
   "metadata": {},
   "outputs": [],
   "source": [
    "VECTORSTORE_PATH = \"rag_data/faiss/vanilla_vectorstore\"\n",
    "\n",
    "# vectorstore = FAISS.from_documents(text_splits, embeddings)\n",
    "\n",
    "vector_store.save_local(VECTORSTORE_PATH)\n",
    "\n",
    "\n",
    "\n"
   ]
  },
  {
   "cell_type": "code",
   "execution_count": 12,
   "metadata": {},
   "outputs": [],
   "source": [
    "# local BM25 retriever\n",
    "\n",
    "def save_bm25_retriever(text_splits, path):\n",
    "\n",
    "    with open(path, \"wb\") as f:\n",
    "        pickle.dump(text_splits, f)\n",
    "\n",
    "def load_bm25_retriever(path, k = 5):\n",
    "    with open(path, \"rb\") as f:\n",
    "        bm25_data = pickle.load(f)\n",
    "    keyword_retriever = BM25Retriever.from_documents(bm25_data)\n",
    "    keyword_retriever.k =  k\n",
    "\n",
    "    return keyword_retriever\n",
    "\n",
    "\n",
    "\n",
    "\n",
    "\n",
    "BM25_PATH = \"rag_data/bm25/vanilla_bm25.pkl\"\n",
    "\n",
    "save_bm25_retriever(text_splits, BM25_PATH)\n",
    "\n"
   ]
  },
  {
   "cell_type": "code",
   "execution_count": 13,
   "metadata": {},
   "outputs": [],
   "source": [
    "keyword_retriever = load_bm25_retriever(BM25_PATH)"
   ]
  },
  {
   "cell_type": "code",
   "execution_count": 14,
   "metadata": {},
   "outputs": [
    {
     "data": {
      "text/plain": [
       "BM25Retriever(vectorizer=<rank_bm25.BM25Okapi object at 0x0000020C5D071130>, k=5)"
      ]
     },
     "execution_count": 14,
     "metadata": {},
     "output_type": "execute_result"
    }
   ],
   "source": [
    "keyword_retriever"
   ]
  },
  {
   "cell_type": "code",
   "execution_count": 4,
   "metadata": {},
   "outputs": [],
   "source": [
    "VECTORSTORE_PATH = \"rag_data/faiss/vanilla_vectorstore\"\n",
    "vector_store = FAISS.load_local(VECTORSTORE_PATH, embeddings, allow_dangerous_deserialization=True)"
   ]
  },
  {
   "cell_type": "markdown",
   "metadata": {},
   "source": [
    "# vanilla RAG\n"
   ]
  },
  {
   "cell_type": "code",
   "execution_count": 16,
   "metadata": {},
   "outputs": [
    {
     "name": "stdout",
     "output_type": "stream",
     "text": [
      "La ayuda para proyectos de I+D está destinada a empresas que desarrollen actividades de investigación y desarrollo aplicadas, orientadas a la creación o mejora significativa de procesos productivos, productos o servicios. Entre sus características principales se encuentran:\n",
      "\n",
      "1. Los proyectos deben demostrar un diferencial tecnológico, es decir, aportar elementos innovadores que los diferencien de las tecnologías existentes en el mercado.\n",
      "\n",
      "2. Pueden comprender tanto actividades de investigación industrial como de desarrollo experimental.\n",
      "\n",
      "3. La ayuda está abierta a proyectos presentados individualmente por una única empresa, aunque también se pueden presentar en consorcio. En el caso de proyectos de cooperación nacional, si participan varias empresas, deben cumplir ciertos requisitos (por ejemplo, dentro del consorcio, al menos una debe ser una pyme y, en algunos casos, se exige autonomía entre las entidades participantes).\n",
      "\n",
      "4. No existen restricciones en cuanto al sector o a la tecnología a desarrollar, abarcando una amplia variedad de ámbitos.\n",
      "\n",
      "5. En algunos programas se establecen criterios adicionales, como presupuestos elegibles mínimos y máximos (por ejemplo, en el caso de ayudas dirigidas a proyectos de I+D en el ámbito audiovisual) y la distribución equilibrada de los recursos a lo largo de la duración del proyecto.\n",
      "\n",
      "6. La convocatoria en algunos casos es continua (por ejemplo, convocatoria abierta durante todo el año).\n",
      "\n",
      "7. Los solicitantes deben presentar la documentación técnica, administrativa y financiera correspondiente, siguiendo los modelos e indicaciones establecidas.\n",
      "\n",
      "En resumen, se trata de un instrumento de apoyo a la innovación empresarial, orientado a financiar iniciativas que impulsen el avance tecnológico y la competitividad a través del desarrollo de proyectos con un claro componente innovador.\n"
     ]
    }
   ],
   "source": [
    "template = \"\"\"\n",
    "Use the following pieces of context to answer the question at the end.\n",
    "If you don't know the answer, say that you don't know.\n",
    "Always answer in spanish.\n",
    "Context: {context}\n",
    "Question: {question}\n",
    "\"\"\"\n",
    "# Return the sources at the end of the answer, in markdown format, with the name of the document and the page number.\n",
    "\n",
    "retriever = vector_store.as_retriever(search_kwargs={\"k\": 10})\n",
    "\n",
    "prompt = ChatPromptTemplate.from_template(template)\n",
    "output_parser = StrOutputParser()\n",
    "\n",
    "chain = (\n",
    "    {\"context\": retriever, \"question\": RunnablePassthrough()}\n",
    "    | prompt\n",
    "    | llm\n",
    "    | output_parser\n",
    ")\n",
    "\n",
    "query = \"Dame información sobre la ayuda 'proyectos de i+d'\"\n",
    "response = chain.invoke(query)\n",
    "print(response)"
   ]
  },
  {
   "cell_type": "markdown",
   "metadata": {},
   "source": [
    "# RAG with sources"
   ]
  },
  {
   "cell_type": "code",
   "execution_count": null,
   "metadata": {},
   "outputs": [
    {
     "name": "stdout",
     "output_type": "stream",
     "text": [
      "La ayuda “proyectos de I+D” está dirigida a financiar iniciativas de investigación, desarrollo e innovación (I+D+i) que impulsen la competitividad y la capacidad tecnológica de las empresas y centros de investigación. Su objetivo es apoyar proyectos que aborden aspectos tecnológicos innovadores, permitiendo desde la fase de investigación básica hasta el desarrollo aplicado y la innovación de producto o proceso.\n",
      "\n",
      "Entre sus características se incluyen:\n",
      "\n",
      "• Financiación destinada a cubrir parte de los costes del proyecto, pudiendo variar según el tamaño de la empresa, el sector o la línea temática de la convocatoria.  \n",
      "• Requisitos técnicos y administrativos que garantizan la viabilidad y el carácter innovador de la propuesta, por lo que es necesario presentar una documentación específica que justifique el potencial impacto tecnológico y económico del proyecto.  \n",
      "• Posibles líneas de convocatoria diferenciadas según sectores (por ejemplo, aeroespacial o salud), lo que implica que, en cada edición, la convocatoria pueda adaptarse a necesidades o prioridades estratégicas concretas.\n",
      "\n",
      "Para más detalles sobre los requisitos, condiciones de cofinanciación, plazos y documentación necesaria, se recomienda consultar la documentación oficial de la ayuda, ya que estos elementos pueden variar en función de la convocatoria concreta.\n",
      "\n",
      "Fuentes:  \n",
      "• [proyectos_de_i_+_d.pdf, Page: 1](data/cdti/cdti-aids/proyectos_de_i_+_d/proyectos_de_id.pdf, Page: 1)  \n",
      "• [proyectos_de_i_+_d_card.md](data/cdti/cdti-aids/proyectos_de_i_+_d/proyectos_de_i_+_d_card.md)\n"
     ]
    }
   ],
   "source": [
    "\n",
    "\n",
    "# # Paso 1: Prompt con placeholders\n",
    "# template = \"\"\"\n",
    "# Usa los siguientes fragmentos de contexto para responder la pregunta al final.\n",
    "# Si no sabes la respuesta, di que no la sabes.\n",
    "# Siempre responde en español.\n",
    "\n",
    "# Contexto:\n",
    "# {context}\n",
    "\n",
    "# Pregunta: {question}\n",
    "\n",
    "# Devuelve las fuentes al final de la respuesta, en formato markdown, con el nombre del documento y número de página si están disponibles.\n",
    "# \"\"\"\n",
    "# prompt = ChatPromptTemplate.from_template(template)\n",
    "\n",
    "\n",
    "# def get_retrieved_docs(query):\n",
    "#     return vector_store.similarity_search(query, k=5)\n",
    "\n",
    "\n",
    "# def serialize_docs(retrieved_docs):\n",
    "#     sources = \"\"\n",
    "#     for doc in retrieved_docs:\n",
    "#         source = doc.metadata['source']\n",
    "#         try:\n",
    "#             page = doc.metadata['page']\n",
    "#         except KeyError:\n",
    "#             page = None\n",
    "#         new_source = f\"Source: {source}, Page: {page}\\n\" if page else f\"Source: {source}\\n\"\n",
    "#         sources += new_source\n",
    "\n",
    "#     return sources\n",
    "\n",
    "\n",
    "# retrieval_chain = (\n",
    "#     {\n",
    "#         \"question\": RunnablePassthrough(), # query\n",
    "#         \"context\": RunnablePassthrough()\n",
    "#             | RunnableLambda(get_retrieved_docs) # similarity_search\n",
    "#             | RunnableLambda(serialize_docs) # sources\n",
    "#     }\n",
    "#     | prompt\n",
    "#     | llm\n",
    "#     | StrOutputParser()\n",
    "# )\n",
    "\n",
    "\n",
    "# query = \"Dame información sobre la ayuda 'proyectos de i+d'\"\n",
    "# response = retrieval_chain.invoke(query)\n",
    "# print(response)"
   ]
  },
  {
   "cell_type": "markdown",
   "metadata": {},
   "source": [
    "# opcion de sources por fuera\n",
    "\n",
    "\n",
    "\n"
   ]
  },
  {
   "cell_type": "code",
   "execution_count": 18,
   "metadata": {},
   "outputs": [
    {
     "name": "stdout",
     "output_type": "stream",
     "text": [
      "La ayuda para “proyectos de I+D” está dirigida a financiar proyectos empresariales de investigación y desarrollo con carácter aplicado. A continuación, te resumo los aspectos principales extraídos de los documentos de contexto:\n",
      "\n",
      "1. Objetivo de la ayuda:  \n",
      "   • Financia proyectos destinados a la creación o mejora significativa de procesos productivos, productos o servicios.  \n",
      "   • Se valoran actividades de investigación industrial y de desarrollo experimental.\n",
      "\n",
      "2. Características de los proyectos:  \n",
      "   • Deben demostrar un aspecto tecnológico diferencial respecto a las tecnologías existentes en el mercado.  \n",
      "   • Son proyectos presentados por una única empresa, entendiendo que, en el caso de pymes, se aplican los criterios establecidos en la normativa correspondiente.\n",
      "\n",
      "3. Beneficiarios y convocatoria:  \n",
      "   • Los beneficiarios son empresas sin restricciones en cuanto al sector o tecnología a desarrollar.  \n",
      "   • La convocatoria es abierta durante todo el año, permitiendo la presentación de solicitudes en cualquier momento.\n",
      "\n",
      "En resumen, esta ayuda busca apoyar proyectos de I+D que aporten innovación y mejoras sustanciales en procesos, productos o servicios, incentivando tanto la investigación industrial como el desarrollo experimental en el ámbito empresarial.\n",
      "\n",
      "Fuentes:\n",
      "* data\\cdti\\cdti-aids\\proyectos_de_i_+_d\\proyectos_de_id.pdf, Página: 1\n",
      "* data\\cdti\\cdti-aids\\proyectos_de_i_+_d\\proyectos_de_i_+_d_card.md\n",
      "* data\\cdti\\cdti-aids\\actuación_conjunta_isciii-cdti\\ficha_apr_mision_salud_2023.pdf, Página: 3\n",
      "* data\\cdti\\cdti-aids\\proyectos_de_i+d_aeroespacial_y_salud\\id_pertes_cda_2024_11_29.pdf, Página: 3\n",
      "* data\\cdti\\cdti-aids\\kssp_financiación_nacional\\kssp_financiación_nacional_card.md\n",
      "\n"
     ]
    }
   ],
   "source": [
    "template = \"\"\"\n",
    "Usa los siguientes fragmentos de contexto para responder la pregunta al final.\n",
    "Si no sabes la respuesta, di que no la sabes.\n",
    "Siempre responde en español.\n",
    "\n",
    "Contexto:\n",
    "{context}\n",
    "\n",
    "Pregunta: {question}\n",
    "\"\"\"\n",
    "prompt = ChatPromptTemplate.from_template(template)\n",
    "\n",
    "retriever = vector_store.as_retriever(search_kwargs={\"k\": 5})\n",
    "\n",
    "prompt = ChatPromptTemplate.from_template(template)\n",
    "output_parser = StrOutputParser()\n",
    "\n",
    "chain = (\n",
    "    {\"context\": retriever, \"question\": RunnablePassthrough()}\n",
    "    | prompt\n",
    "    | llm\n",
    "    | output_parser\n",
    ")\n",
    "\n",
    "def get_retrieved_docs(query):\n",
    "    # return vector_store.similarity_search(query, k=5)\n",
    "    return retriever.get_relevant_documents(query)\n",
    "\n",
    "\n",
    "def serialize_docs(retrieved_docs):\n",
    "    sources = \"Fuentes:\\n\"\n",
    "    for doc in retrieved_docs:\n",
    "        source = doc.metadata['source']\n",
    "        try:\n",
    "            page = doc.metadata['page']\n",
    "        except KeyError:\n",
    "            page = None\n",
    "        new_source = f\"* {source}, Página: {page}\\n\" if page else f\"* {source}\\n\"\n",
    "        sources += new_source\n",
    "\n",
    "    return sources\n",
    "\n",
    "def get_sources(query):\n",
    "    retrieved_docs = vector_store.similarity_search(query, k=5)\n",
    "    sources = serialize_docs(retrieved_docs)\n",
    "    return sources\n",
    "\n",
    "\n",
    "query = \"Dame información sobre la ayuda 'proyectos de i+d'\"\n",
    "\n",
    "response = chain.invoke(query)\n",
    "sources = get_sources(query)\n",
    "print(response + \"\\n\\n\" + sources)\n"
   ]
  },
  {
   "cell_type": "markdown",
   "metadata": {},
   "source": [
    "# hybrid search"
   ]
  },
  {
   "cell_type": "code",
   "execution_count": 156,
   "metadata": {},
   "outputs": [
    {
     "data": {
      "text/plain": [
       "[Document(id='6947', metadata={'producer': 'iTextSharp 5.1.2 (c) 1T3XT BVBA', 'creator': 'PyPDF', 'creationdate': '2025-03-04T11:02:53+01:00', 'moddate': '2025-03-04T11:02:53+01:00', 'source': 'data\\\\cdti\\\\cdti-aids\\\\proyectos_de_i_+_d\\\\proyectos_de_id.pdf', 'total_pages': 42, 'page': 1, 'page_label': '2'}, page_content='REF.: Ficha proyectos de I+D \\nFecha: 02/01/2015 \\nÚltima modificación \\nTexto principal: 27/02/2025 y Anexos: 29/11/2024 \\n \\n2 \\n1. Definición.  \\nLos proyectos de I+D son proyectos de investigación y desarrollo empresarial de \\ncarácter aplicado para la creación o mejora significativa de un proceso \\nproductivo, producto o servicio. Los proyectos deben demostrar un aspecto \\ntecnológico diferencial sobre las tecnologías existentes en el mercado.'),\n",
       " Document(id='404', metadata={'source': 'data\\\\cdti\\\\cdti-aids\\\\proyectos_de_i_+_d\\\\proyectos_de_i_+_d_card.md'}, page_content='# Actuación\\nProyectos CDTI de I+D\\n\\n# Objetivo general de la actuación\\nAyudas a proyectos de I+D desarrollados por empresas y destinados a la creación y mejora significativa de procesos productivos, productos o servicios.\\nPueden comprender tanto actividades de investigación industrial como de desarrollo experimental.\\nNo existe ninguna restricción en cuanto al sector o a la tecnología a desarrollar.\\n\\n# Beneficiarios\\nEmpresas.\\n\\n# Tipo de convocatoria\\nConvocatoria abierta todo el año.'),\n",
       " Document(id='495', metadata={'producer': 'iTextSharp 5.1.2 (c) 1T3XT BVBA', 'creator': 'PyPDF', 'creationdate': '2024-11-25T14:39:30+01:00', 'moddate': '2024-11-25T14:39:30+01:00', 'source': 'data\\\\cdti\\\\cdti-aids\\\\actuación_conjunta_isciii-cdti\\\\ficha_apr_mision_salud_2023.pdf', 'total_pages': 27, 'page': 3, 'page_label': '4'}, page_content='producto o servicio. Los proyectos deben demostrar un aspecto tecnológico \\ndiferencial sobre las tecnologías existentes en el mercado. \\nLos proyectos de I+D pueden comprender tanto actividades de investigación \\nindustrial como de desarrollo experimental1.  \\nEn ningún caso podrán ser susceptibles de ayuda aquellas actuaciones que \\ndirecta o indirectamente ocasionen un perjuicio significativo al medio \\nambiente, de acuerdo con el artículo 17 del Reglamento (UE) 2020/852 del'),\n",
       " Document(id='6003', metadata={'producer': 'iTextSharp 5.1.2 (c) 1T3XT BVBA', 'creator': 'PyPDF', 'creationdate': '2025-01-13T11:26:04+01:00', 'moddate': '2025-01-13T11:26:04+01:00', 'source': 'data\\\\cdti\\\\cdti-aids\\\\proyectos_de_i+d_aeroespacial_y_salud\\\\id_pertes_cda_2024_11_29.pdf', 'total_pages': 35, 'page': 3, 'page_label': '4'}, page_content='diferencial sobre las tecnologías existentes en el mercado. \\nLos proyectos de I+D pueden comprender tanto actividades de investigación \\nindustrial como de desarrollo experimental1. \\nLos proyectos de I+D son presentados por una única empresa. Cuando se haga \\nreferencia a pyme (pequeña y mediana empresa), se entenderá como aquella \\nempresa que cumple los requisitos establecidos en la definición recogida en el \\nAnexo I del Reglamento General de Exención por Categorías (Reglamento (UE)'),\n",
       " Document(id='170', metadata={'source': 'data\\\\cdti\\\\cdti-aids\\\\kssp_financiación_nacional\\\\kssp_financiación_nacional_card.md'}, page_content='# Características del proyecto\\n· Las actividades objeto de ayuda serán las de investigación industrial y/o desarrollo experimental, según definición del Reglamento general de exención por categorías.\\n· Los proyectos financiables deberán de ser de tipo individual. Si en el proyecto internacional participase más de una entidad española que cumpla los requisitos para ser beneficiaria de esta ayuda, cada una de ellas presentará una solicitud de financiación individual y por separado.')]"
      ]
     },
     "execution_count": 156,
     "metadata": {},
     "output_type": "execute_result"
    }
   ],
   "source": [
    "retriever = vector_store.as_retriever(search_kwargs={\"k\": 5})\n",
    "retrieved_docs = retriever.get_relevant_documents(query)\n",
    "retrieved_docs\n",
    "# sources = serialize_docs(retrieved_docs)\n",
    "# print(sources)"
   ]
  },
  {
   "cell_type": "code",
   "execution_count": null,
   "metadata": {},
   "outputs": [
    {
     "data": {
      "text/plain": [
       "[Document(metadata={'producer': 'Antenna House PDF Output Library 6.6.1477 (Linux64)', 'creator': 'eBOE', 'creationdate': '2023-06-19T19:00:09+01:00', 'keywords': 'ORDEN CIN/644/2023 de 16/06/2023;MINISTERIO DE CIENCIA E INNOVACIÓN;BOE-A-2023-14674;BOE 146 de 2023;14674;20/06/2023', 'moddate': '2023-06-19T19:19:44+02:00', 'trapped': '/False', 'subject': 'BOE-A-2023-14674', 'author': 'MINISTERIO DE CIENCIA E INNOVACIÓN', 'title': 'Disposición 14674 del BOE núm. 146 de 2023', 'source': 'data\\\\cdti\\\\cdti-aids\\\\ayudas_cervera_para_centros_tecnológicos\\\\oobb_cin_644_2023.pdf', 'total_pages': 40, 'page': 28, 'page_label': '29'}, page_content='hábiles desde que se formule la solicitud de información será motivo de exclusión del \\nprocedimiento. A efectos de información y control de estas ayudas, se cederá la \\ninformación entre los sistemas establecidos para la gestión y control de estas \\nsubvenciones con los Sistemas de los Fondos Europeos.\\n5.\\u2003La comprobación formal para la liquidación de la ayuda se realizará sobre las \\ncuentas justificativas presentadas. Las facturas y justificantes de pago o documentos de'),\n",
       " Document(metadata={'producer': 'Antenna House PDF Output Library 6.6.1477 (Linux64)', 'creator': 'eBOE', 'creationdate': '2023-06-19T19:00:09+01:00', 'keywords': 'ORDEN CIN/644/2023 de 16/06/2023;MINISTERIO DE CIENCIA E INNOVACIÓN;BOE-A-2023-14674;BOE 146 de 2023;14674;20/06/2023', 'moddate': '2023-06-19T19:19:44+02:00', 'trapped': '/False', 'subject': 'BOE-A-2023-14674', 'author': 'MINISTERIO DE CIENCIA E INNOVACIÓN', 'title': 'Disposición 14674 del BOE núm. 146 de 2023', 'source': 'data\\\\cdti\\\\cdti-aids\\\\ecosistemas_de_innovación\\\\boe-a-2023-14674.pdf', 'total_pages': 40, 'page': 28, 'page_label': '29'}, page_content='hábiles desde que se formule la solicitud de información será motivo de exclusión del \\nprocedimiento. A efectos de información y control de estas ayudas, se cederá la \\ninformación entre los sistemas establecidos para la gestión y control de estas \\nsubvenciones con los Sistemas de los Fondos Europeos.\\n5.\\u2003La comprobación formal para la liquidación de la ayuda se realizará sobre las \\ncuentas justificativas presentadas. Las facturas y justificantes de pago o documentos de'),\n",
       " Document(metadata={'producer': 'iTextSharp 5.1.2 (c) 1T3XT BVBA', 'creator': 'PyPDF', 'creationdate': '2025-04-07T18:24:07+02:00', 'moddate': '2025-04-07T18:24:07+02:00', 'source': 'data\\\\cdti\\\\cdti-aids\\\\ayudas_pymes_sello_de_excelencia\\\\resolucion_sello_2025_web.pdf', 'total_pages': 38, 'page': 15, 'page_label': '16'}, page_content='corregirlas e informar sobre ellas.  En concreto, se incluirá la recogida de información sobre los titulares reales de los perceptores de la financiación.  Ante lo anteriormente expuesto, CDTI podrán acceder a la información contenida en el Registro de Titularidades Reales, o el acceso a otras bases de datos de la Administración que puedan suministrar dichos datos sobre los titulares reales. También, será posible la'),\n",
       " Document(metadata={'producer': 'iTextSharp 5.1.2 (c) 1T3XT BVBA', 'creator': 'PyPDF', 'creationdate': '2025-03-04T11:11:25+01:00', 'moddate': '2025-03-04T11:11:25+01:00', 'source': 'data\\\\cdti\\\\cdti-aids\\\\línea_directa_de_innovación\\\\lic.pdf', 'total_pages': 24, 'page': 23, 'page_label': '24'}, page_content='5. Lucha contra el fraude: información sobre la titularidad real de la entidad \\nbeneficiaria \\nConforme a la normativa aplicable a los Fondos Estructurales, el CDTI emprenderá \\nlas acciones necesarias para prevenir irregularidades, incluido el fraude, \\ndetectarlas, corregirlas e informar sobre ellas.  \\nEstas acciones incluirán la recogida de información sobre los titulares reales de los \\nperceptores de la ayuda, a través del registro público habilitado a tales efectos.'),\n",
       " Document(metadata={'producer': 'iTextSharp 5.1.2 (c) 1T3XT BVBA', 'creator': 'PyPDF', 'creationdate': '2025-02-04T12:28:32+01:00', 'moddate': '2025-02-04T12:28:32+01:00', 'source': 'data\\\\cdti\\\\cdti-aids\\\\proyectos_de_i+d_de_transferencia_tecnológica_cervera\\\\id_transferencia_cervera.pdf', 'total_pages': 32, 'page': 28, 'page_label': '29'}, page_content='5. Lucha contra el fraude: información sobre la titularidad real de la entidad \\nbeneficiaria \\nConforme a la normativa aplicable a los Fondos Estructurales, el CDTI emprenderá \\nlas acciones necesarias para prevenir irregularidades, incluido el fraude, \\ndetectarlas, corregirlas e informar sobre ellas.  \\nEstas acciones incluirán la recogida de información sobre los titulares reales de los \\nperceptores de la ayuda, a través del registro público habilitado a tales efectos.')]"
      ]
     },
     "execution_count": 157,
     "metadata": {},
     "output_type": "execute_result"
    }
   ],
   "source": [
    "\n",
    "keyword_retriever = BM25Retriever.from_documents(text_splits)\n",
    "keyword_retriever.k =  5\n",
    "bm25_retrieved_docs = keyword_retriever.get_relevant_documents(query)\n",
    "bm25_retrieved_docs"
   ]
  },
  {
   "cell_type": "code",
   "execution_count": null,
   "metadata": {},
   "outputs": [
    {
     "data": {
      "text/plain": [
       "[Document(metadata={'producer': 'Antenna House PDF Output Library 6.6.1477 (Linux64)', 'creator': 'eBOE', 'creationdate': '2023-06-19T19:00:09+01:00', 'keywords': 'ORDEN CIN/644/2023 de 16/06/2023;MINISTERIO DE CIENCIA E INNOVACIÓN;BOE-A-2023-14674;BOE 146 de 2023;14674;20/06/2023', 'moddate': '2023-06-19T19:19:44+02:00', 'trapped': '/False', 'subject': 'BOE-A-2023-14674', 'author': 'MINISTERIO DE CIENCIA E INNOVACIÓN', 'title': 'Disposición 14674 del BOE núm. 146 de 2023', 'source': 'data\\\\cdti\\\\cdti-aids\\\\ayudas_cervera_para_centros_tecnológicos\\\\oobb_cin_644_2023.pdf', 'total_pages': 40, 'page': 28, 'page_label': '29'}, page_content='hábiles desde que se formule la solicitud de información será motivo de exclusión del \\nprocedimiento. A efectos de información y control de estas ayudas, se cederá la \\ninformación entre los sistemas establecidos para la gestión y control de estas \\nsubvenciones con los Sistemas de los Fondos Europeos.\\n5.\\u2003La comprobación formal para la liquidación de la ayuda se realizará sobre las \\ncuentas justificativas presentadas. Las facturas y justificantes de pago o documentos de'),\n",
       " Document(metadata={'producer': 'iTextSharp 5.1.2 (c) 1T3XT BVBA', 'creator': 'PyPDF', 'creationdate': '2025-03-04T11:11:25+01:00', 'moddate': '2025-03-04T11:11:25+01:00', 'source': 'data\\\\cdti\\\\cdti-aids\\\\línea_directa_de_innovación\\\\lic.pdf', 'total_pages': 24, 'page': 23, 'page_label': '24'}, page_content='5. Lucha contra el fraude: información sobre la titularidad real de la entidad \\nbeneficiaria \\nConforme a la normativa aplicable a los Fondos Estructurales, el CDTI emprenderá \\nlas acciones necesarias para prevenir irregularidades, incluido el fraude, \\ndetectarlas, corregirlas e informar sobre ellas.  \\nEstas acciones incluirán la recogida de información sobre los titulares reales de los \\nperceptores de la ayuda, a través del registro público habilitado a tales efectos.'),\n",
       " Document(id='6947', metadata={'producer': 'iTextSharp 5.1.2 (c) 1T3XT BVBA', 'creator': 'PyPDF', 'creationdate': '2025-03-04T11:02:53+01:00', 'moddate': '2025-03-04T11:02:53+01:00', 'source': 'data\\\\cdti\\\\cdti-aids\\\\proyectos_de_i_+_d\\\\proyectos_de_id.pdf', 'total_pages': 42, 'page': 1, 'page_label': '2'}, page_content='REF.: Ficha proyectos de I+D \\nFecha: 02/01/2015 \\nÚltima modificación \\nTexto principal: 27/02/2025 y Anexos: 29/11/2024 \\n \\n2 \\n1. Definición.  \\nLos proyectos de I+D son proyectos de investigación y desarrollo empresarial de \\ncarácter aplicado para la creación o mejora significativa de un proceso \\nproductivo, producto o servicio. Los proyectos deben demostrar un aspecto \\ntecnológico diferencial sobre las tecnologías existentes en el mercado.'),\n",
       " Document(id='404', metadata={'source': 'data\\\\cdti\\\\cdti-aids\\\\proyectos_de_i_+_d\\\\proyectos_de_i_+_d_card.md'}, page_content='# Actuación\\nProyectos CDTI de I+D\\n\\n# Objetivo general de la actuación\\nAyudas a proyectos de I+D desarrollados por empresas y destinados a la creación y mejora significativa de procesos productivos, productos o servicios.\\nPueden comprender tanto actividades de investigación industrial como de desarrollo experimental.\\nNo existe ninguna restricción en cuanto al sector o a la tecnología a desarrollar.\\n\\n# Beneficiarios\\nEmpresas.\\n\\n# Tipo de convocatoria\\nConvocatoria abierta todo el año.'),\n",
       " Document(id='495', metadata={'producer': 'iTextSharp 5.1.2 (c) 1T3XT BVBA', 'creator': 'PyPDF', 'creationdate': '2024-11-25T14:39:30+01:00', 'moddate': '2024-11-25T14:39:30+01:00', 'source': 'data\\\\cdti\\\\cdti-aids\\\\actuación_conjunta_isciii-cdti\\\\ficha_apr_mision_salud_2023.pdf', 'total_pages': 27, 'page': 3, 'page_label': '4'}, page_content='producto o servicio. Los proyectos deben demostrar un aspecto tecnológico \\ndiferencial sobre las tecnologías existentes en el mercado. \\nLos proyectos de I+D pueden comprender tanto actividades de investigación \\nindustrial como de desarrollo experimental1.  \\nEn ningún caso podrán ser susceptibles de ayuda aquellas actuaciones que \\ndirecta o indirectamente ocasionen un perjuicio significativo al medio \\nambiente, de acuerdo con el artículo 17 del Reglamento (UE) 2020/852 del'),\n",
       " Document(metadata={'producer': 'iTextSharp 5.1.2 (c) 1T3XT BVBA', 'creator': 'PyPDF', 'creationdate': '2025-04-07T18:24:07+02:00', 'moddate': '2025-04-07T18:24:07+02:00', 'source': 'data\\\\cdti\\\\cdti-aids\\\\ayudas_pymes_sello_de_excelencia\\\\resolucion_sello_2025_web.pdf', 'total_pages': 38, 'page': 15, 'page_label': '16'}, page_content='corregirlas e informar sobre ellas.  En concreto, se incluirá la recogida de información sobre los titulares reales de los perceptores de la financiación.  Ante lo anteriormente expuesto, CDTI podrán acceder a la información contenida en el Registro de Titularidades Reales, o el acceso a otras bases de datos de la Administración que puedan suministrar dichos datos sobre los titulares reales. También, será posible la'),\n",
       " Document(id='6003', metadata={'producer': 'iTextSharp 5.1.2 (c) 1T3XT BVBA', 'creator': 'PyPDF', 'creationdate': '2025-01-13T11:26:04+01:00', 'moddate': '2025-01-13T11:26:04+01:00', 'source': 'data\\\\cdti\\\\cdti-aids\\\\proyectos_de_i+d_aeroespacial_y_salud\\\\id_pertes_cda_2024_11_29.pdf', 'total_pages': 35, 'page': 3, 'page_label': '4'}, page_content='diferencial sobre las tecnologías existentes en el mercado. \\nLos proyectos de I+D pueden comprender tanto actividades de investigación \\nindustrial como de desarrollo experimental1. \\nLos proyectos de I+D son presentados por una única empresa. Cuando se haga \\nreferencia a pyme (pequeña y mediana empresa), se entenderá como aquella \\nempresa que cumple los requisitos establecidos en la definición recogida en el \\nAnexo I del Reglamento General de Exención por Categorías (Reglamento (UE)'),\n",
       " Document(id='170', metadata={'source': 'data\\\\cdti\\\\cdti-aids\\\\kssp_financiación_nacional\\\\kssp_financiación_nacional_card.md'}, page_content='# Características del proyecto\\n· Las actividades objeto de ayuda serán las de investigación industrial y/o desarrollo experimental, según definición del Reglamento general de exención por categorías.\\n· Los proyectos financiables deberán de ser de tipo individual. Si en el proyecto internacional participase más de una entidad española que cumpla los requisitos para ser beneficiaria de esta ayuda, cada una de ellas presentará una solicitud de financiación individual y por separado.')]"
      ]
     },
     "execution_count": 158,
     "metadata": {},
     "output_type": "execute_result"
    }
   ],
   "source": [
    "ensemble_retriever = EnsembleRetriever(\n",
    "    retrievers=[retriever, keyword_retriever],\n",
    "    weights=[0.5, 0.5]\n",
    ")\n",
    "\n",
    "ensemble_retriever.get_relevant_documents(query)"
   ]
  },
  {
   "cell_type": "code",
   "execution_count": null,
   "metadata": {},
   "outputs": [
    {
     "name": "stdout",
     "output_type": "stream",
     "text": [
      "# Ayuda para Proyectos de I+D\n",
      "\n",
      "La ayuda para proyectos de I+D está orientada a apoyar a empresas en el desarrollo de proyectos de investigación y desarrollo empresarial, destinados a lograr una **creación o mejora significativa** de procesos productivos, productos o servicios.\n",
      "\n",
      "## Características generales\n",
      "\n",
      "- **Ámbito de aplicación:**  \n",
      "  Se financian proyectos que impliquen actividades de investigación industrial y/o desarrollo experimental. No existe restricción en cuanto al sector o tecnología a desarrollar.\n",
      "\n",
      "- **Objetivo:**  \n",
      "  Impulsar el desarrollo tecnológico diferencial, ofreciendo apoyo para la realización de estudios y mejoras que aporten un aspecto innovador en relación con las tecnologías existentes en el mercado.\n",
      "\n",
      "- **Tipo de proyectos:**  \n",
      "  Los proyectos deben demostrar un claro componente de innovación o mejora respecto al estado actual de la tecnología. Pueden ser tanto proyectos de investigación aplicada como de desarrollo experimental.\n",
      "\n",
      "- **Beneficiarios:**  \n",
      "  Son exclusivamente para empresas, siendo los proyectos presentados a título individual, aunque en proyectos internacionales, si participan varias entidades españolas que cumplan los requisitos, cada una debe presentar su solicitud por separado.\n",
      "\n",
      "## Detalles adicionales\n",
      "\n",
      "- La convocatoria es **abierta todo el año**, y los proyectos pueden abarcar diversas actividades de I+D.\n",
      "- Se abordan tanto aspectos relacionados con la investigación industrial como con el desarrollo experimental, siempre orientados a generar un impacto real en la competitividad empresarial.\n",
      "\n",
      "Esta información está extraída de documentos de actuación del CDTI (Centro para el Desarrollo Tecnológico Industrial) y otros textos normativos relacionados con ayudas a proyectos de I+D.  \n",
      "Si necesitas más detalles o información específica sobre el procedimiento de solicitud o los requisitos formales, te sugiero que consultes la documentación oficial correspondiente.\n",
      "\n",
      "Fuentes:\n",
      "* data\\cdti\\cdti-aids\\proyectos_de_i_+_d\\proyectos_de_id.pdf, Página: 1\n",
      "* data\\cdti\\cdti-aids\\proyectos_de_i_+_d\\proyectos_de_i_+_d_card.md\n",
      "* data\\cdti\\cdti-aids\\actuación_conjunta_isciii-cdti\\ficha_apr_mision_salud_2023.pdf, Página: 3\n",
      "* data\\cdti\\cdti-aids\\proyectos_de_i+d_aeroespacial_y_salud\\id_pertes_cda_2024_11_29.pdf, Página: 3\n",
      "* data\\cdti\\cdti-aids\\kssp_financiación_nacional\\kssp_financiación_nacional_card.md\n",
      "\n"
     ]
    }
   ],
   "source": [
    "\n",
    "\n",
    "\n",
    "template = \"\"\"\n",
    "Usa los siguientes fragmentos de contexto para responder la pregunta al final.\n",
    "Si no sabes la respuesta, di que no la sabes.\n",
    "Siempre responde en español y usando la sintaxis de markdown, pero no devuelvas la respuesta envuelta en un bloque markdown.\n",
    "\n",
    "Contexto:\n",
    "{context}\n",
    "\n",
    "Pregunta: {question}\n",
    "\"\"\"\n",
    "prompt = ChatPromptTemplate.from_template(template)\n",
    "\n",
    "retriever_vectordb = vector_store.as_retriever(search_kwargs={\"k\": 5})\n",
    "\n",
    "keyword_retriever = BM25Retriever.from_documents(text_splits)\n",
    "keyword_retriever.k =  5\n",
    "\n",
    "ensemble_retriever = EnsembleRetriever(\n",
    "    retrievers=[\n",
    "        retriever_vectordb,\n",
    "        keyword_retriever\n",
    "    ],\n",
    "    weights=[0.5, 0.5]\n",
    ")\n",
    "\n",
    "prompt = ChatPromptTemplate.from_template(template)\n",
    "output_parser = StrOutputParser()\n",
    "\n",
    "chain = (\n",
    "    {\"context\": ensemble_retriever, \"question\": RunnablePassthrough()}\n",
    "    | prompt\n",
    "    | llm\n",
    "    | output_parser\n",
    ")\n",
    "\n",
    "def get_retrieved_docs(query):\n",
    "    # return vector_store.similarity_search(query, k=5)\n",
    "    return ensemble_retriever.get_relevant_documents(query)\n",
    "\n",
    "\n",
    "def serialize_docs(retrieved_docs):\n",
    "    sources = \"Fuentes:\\n\"\n",
    "    for doc in retrieved_docs:\n",
    "        source = doc.metadata['source']\n",
    "        try:\n",
    "            page = doc.metadata['page']\n",
    "        except KeyError:\n",
    "            page = None\n",
    "        new_source = f\"* {source}, Página: {page}\\n\" if page else f\"* {source}\\n\"\n",
    "        sources += new_source\n",
    "\n",
    "    return sources\n",
    "\n",
    "def get_sources(query):\n",
    "    retrieved_docs = vector_store.similarity_search(query, k=5)\n",
    "    sources = serialize_docs(retrieved_docs)\n",
    "    return sources\n",
    "\n",
    "\n",
    "query = \"Dame información sobre la ayuda 'proyectos de i+d'\"\n",
    "\n",
    "response = chain.invoke(query)\n",
    "sources = get_sources(query)\n",
    "print(response + \"\\n\\n\" + sources)"
   ]
  },
  {
   "cell_type": "markdown",
   "metadata": {},
   "source": [
    "# reranknig\n"
   ]
  },
  {
   "cell_type": "code",
   "execution_count": null,
   "metadata": {},
   "outputs": [],
   "source": [
    "from langchain.retrievers import ContextualCompressionRetriever\n",
    "from langchain.retrievers.document_compressors import FlashrankRerank\n",
    "\n",
    "compressor = FlashrankRerank()\n",
    "compression_retriever = ContextualCompressionRetriever(\n",
    "    base_compressor=compressor, base_retriever=retriever\n",
    ")\n",
    "\n"
   ]
  },
  {
   "cell_type": "code",
   "execution_count": 5,
   "metadata": {},
   "outputs": [
    {
     "ename": "NameError",
     "evalue": "name 'text_splits' is not defined",
     "output_type": "error",
     "traceback": [
      "\u001b[31m---------------------------------------------------------------------------\u001b[39m",
      "\u001b[31mNameError\u001b[39m                                 Traceback (most recent call last)",
      "\u001b[36mCell\u001b[39m\u001b[36m \u001b[39m\u001b[32mIn[5]\u001b[39m\u001b[32m, line 15\u001b[39m\n\u001b[32m     11\u001b[39m prompt = ChatPromptTemplate.from_template(template)\n\u001b[32m     13\u001b[39m retriever_vectordb = vector_store.as_retriever(search_kwargs={\u001b[33m\"\u001b[39m\u001b[33mk\u001b[39m\u001b[33m\"\u001b[39m: \u001b[32m5\u001b[39m})\n\u001b[32m---> \u001b[39m\u001b[32m15\u001b[39m keyword_retriever = BM25Retriever.from_documents(\u001b[43mtext_splits\u001b[49m)\n\u001b[32m     16\u001b[39m keyword_retriever.k =  \u001b[32m5\u001b[39m\n\u001b[32m     18\u001b[39m ensemble_retriever = EnsembleRetriever(\n\u001b[32m     19\u001b[39m     retrievers=[\n\u001b[32m     20\u001b[39m         retriever_vectordb,\n\u001b[32m   (...)\u001b[39m\u001b[32m     23\u001b[39m     weights=[\u001b[32m0.5\u001b[39m, \u001b[32m0.5\u001b[39m]\n\u001b[32m     24\u001b[39m )\n",
      "\u001b[31mNameError\u001b[39m: name 'text_splits' is not defined"
     ]
    }
   ],
   "source": [
    "\n",
    "\n",
    "template = \"\"\"\n",
    "Usa los siguientes fragmentos de contexto para responder la pregunta al final.\n",
    "SSi no sabes la respuesta, di que no la sabes.\n",
    "Siempre responde en español y usando la sintaxis de markdown, pero no devuelvas la respuesta envuelta en un bloque markdown.\n",
    "\n",
    "Contexto:\n",
    "{context}\n",
    "\n",
    "Pregunta: {question}\n",
    "\"\"\"\n",
    "prompt = ChatPromptTemplate.from_template(template)\n",
    "\n",
    "retriever_vectordb = vector_store.as_retriever(search_kwargs={\"k\": 5})\n",
    "\n",
    "keyword_retriever = BM25Retriever.from_documents(text_splits)\n",
    "keyword_retriever.k =  5\n",
    "\n",
    "ensemble_retriever = EnsembleRetriever(\n",
    "    retrievers=[\n",
    "        retriever_vectordb,\n",
    "        keyword_retriever\n",
    "    ],\n",
    "    weights=[0.5, 0.5]\n",
    ")\n",
    "\n",
    "ranker = Ranker()\n",
    "compressor = FlashrankRerank()\n",
    "\n",
    "\n",
    "# compressor = SentenceTransformerRerank(model=\"cross-encoder/ms-marco-MiniLM-L-6-v2\")\n",
    "\n",
    "compression_retriever = ContextualCompressionRetriever(\n",
    "    base_compressor=compressor, \n",
    "    base_retriever=ensemble_retriever\n",
    ")\n",
    "\n",
    "\n",
    "prompt = ChatPromptTemplate.from_template(template)\n",
    "output_parser = StrOutputParser()\n",
    "\n",
    "chain = (\n",
    "    {\"context\": compression_retriever, \"question\": RunnablePassthrough()}\n",
    "    | prompt\n",
    "    | llm\n",
    "    | output_parser\n",
    ")\n",
    "\n",
    "def get_retrieved_docs(query):\n",
    "    # return vector_store.similarity_search(query, k=5)\n",
    "    return compression_retriever.get_relevant_documents(query)\n",
    "\n",
    "\n",
    "def serialize_docs(retrieved_docs):\n",
    "    sources = \"Fuentes:\\n\"\n",
    "    for doc in retrieved_docs:\n",
    "        source = doc.metadata['source']\n",
    "        try:\n",
    "            page = doc.metadata['page']\n",
    "        except KeyError:\n",
    "            page = None\n",
    "        new_source = f\"* {source}, Página: {page}\\n\" if page else f\"* {source}\\n\"\n",
    "        sources += new_source\n",
    "\n",
    "    return sources\n",
    "\n",
    "def get_sources(query):\n",
    "    retrieved_docs = vector_store.similarity_search(query, k=5)\n",
    "    sources = serialize_docs(retrieved_docs)\n",
    "    return sources\n",
    "\n",
    "\n",
    "query = \"Dame información sobre la ayuda 'proyectos de i+d'\"\n",
    "\n",
    "response = chain.invoke(query)\n",
    "sources = get_sources(query)\n",
    "print(response + \"\\n\\n\" + sources)"
   ]
  },
  {
   "cell_type": "markdown",
   "metadata": {},
   "source": [
    "# test SQLiteDB"
   ]
  },
  {
   "cell_type": "code",
   "execution_count": 1,
   "metadata": {},
   "outputs": [
    {
     "name": "stdout",
     "output_type": "stream",
     "text": [
      "loading data/processing/cdti_table.csv\n",
      "SQLite DB saved in: rag_data/sqlite/aids_table.sqlite\n"
     ]
    },
    {
     "data": {
      "text/html": [
       "<div>\n",
       "<style scoped>\n",
       "    .dataframe tbody tr th:only-of-type {\n",
       "        vertical-align: middle;\n",
       "    }\n",
       "\n",
       "    .dataframe tbody tr th {\n",
       "        vertical-align: top;\n",
       "    }\n",
       "\n",
       "    .dataframe thead th {\n",
       "        text-align: right;\n",
       "    }\n",
       "</style>\n",
       "<table border=\"1\" class=\"dataframe\">\n",
       "  <thead>\n",
       "    <tr style=\"text-align: right;\">\n",
       "      <th></th>\n",
       "      <th>count(*)</th>\n",
       "    </tr>\n",
       "  </thead>\n",
       "  <tbody>\n",
       "    <tr>\n",
       "      <th>0</th>\n",
       "      <td>32</td>\n",
       "    </tr>\n",
       "  </tbody>\n",
       "</table>\n",
       "</div>"
      ],
      "text/plain": [
       "   count(*)\n",
       "0        32"
      ]
     },
     "execution_count": 1,
     "metadata": {},
     "output_type": "execute_result"
    }
   ],
   "source": [
    "from src.processing.sql_db import SQLiteDB\n",
    "import pandas as pd\n",
    "\n",
    "sqlite_db = SQLiteDB()\n",
    "sqlite_db.sqlite_setup()\n",
    "\n",
    "query = \"SELECT count(*) FROM aids_table\"\n",
    "df_sql = pd.read_sql(query, con=sqlite_db.engine)\n",
    "df_sql.head()\n"
   ]
  },
  {
   "cell_type": "code",
   "execution_count": null,
   "metadata": {},
   "outputs": [],
   "source": []
  },
  {
   "cell_type": "code",
   "execution_count": null,
   "metadata": {},
   "outputs": [],
   "source": []
  },
  {
   "cell_type": "code",
   "execution_count": null,
   "metadata": {},
   "outputs": [],
   "source": []
  },
  {
   "cell_type": "code",
   "execution_count": null,
   "metadata": {},
   "outputs": [],
   "source": []
  },
  {
   "cell_type": "code",
   "execution_count": null,
   "metadata": {},
   "outputs": [],
   "source": []
  },
  {
   "cell_type": "code",
   "execution_count": 5,
   "metadata": {},
   "outputs": [],
   "source": [
    "import pandas as pd\n",
    "\n",
    "from src.processing.utils import get_aid_list\n",
    "from src.processing.cdti.loaders import CDTILoader\n",
    "from src.processing.cdti.params import DATA_PATH"
   ]
  },
  {
   "cell_type": "code",
   "execution_count": null,
   "metadata": {},
   "outputs": [],
   "source": [
    "table_dir = \"data/processing\"\n",
    "filename = \"cdti_table.csv\"\n"
   ]
  },
  {
   "cell_type": "code",
   "execution_count": 7,
   "metadata": {},
   "outputs": [],
   "source": [
    "RAG_DATA_PATH = \"rag_data\"\n",
    "sqlite_path = f\"{RAG_DATA_PATH}/sqlite/aids_table.sqlite\""
   ]
  },
  {
   "cell_type": "code",
   "execution_count": 8,
   "metadata": {},
   "outputs": [],
   "source": [
    "from sqlalchemy import create_engine"
   ]
  },
  {
   "cell_type": "code",
   "execution_count": 11,
   "metadata": {},
   "outputs": [
    {
     "data": {
      "text/html": [
       "<div>\n",
       "<style scoped>\n",
       "    .dataframe tbody tr th:only-of-type {\n",
       "        vertical-align: middle;\n",
       "    }\n",
       "\n",
       "    .dataframe tbody tr th {\n",
       "        vertical-align: top;\n",
       "    }\n",
       "\n",
       "    .dataframe thead th {\n",
       "        text-align: right;\n",
       "    }\n",
       "</style>\n",
       "<table border=\"1\" class=\"dataframe\">\n",
       "  <thead>\n",
       "    <tr style=\"text-align: right;\">\n",
       "      <th></th>\n",
       "      <th>organismo</th>\n",
       "      <th>nombre</th>\n",
       "      <th>linea</th>\n",
       "      <th>fecha_inicio</th>\n",
       "      <th>fecha_fin</th>\n",
       "      <th>objetivo</th>\n",
       "      <th>beneficiarios</th>\n",
       "      <th>anio</th>\n",
       "      <th>area</th>\n",
       "      <th>presupuesto_minimo</th>\n",
       "      <th>...</th>\n",
       "      <th>intensidad_de_subvencion</th>\n",
       "      <th>intensidad_del_prestamo</th>\n",
       "      <th>tipo_financiacion</th>\n",
       "      <th>forma_y_plazo_de_cobro</th>\n",
       "      <th>minimis</th>\n",
       "      <th>region_de_aplicacion</th>\n",
       "      <th>tipo_de_consorcio</th>\n",
       "      <th>costes_elegibles</th>\n",
       "      <th>link_ficha_tecnica</th>\n",
       "      <th>link_convocatoria</th>\n",
       "    </tr>\n",
       "  </thead>\n",
       "  <tbody>\n",
       "    <tr>\n",
       "      <th>0</th>\n",
       "      <td>CDTI</td>\n",
       "      <td>Proyectos de I + D</td>\n",
       "      <td>Proyectos de I+D individuales</td>\n",
       "      <td>Todo el año</td>\n",
       "      <td>Todo el año</td>\n",
       "      <td>Ayudas a proyectos de I+D desarrollados por em...</td>\n",
       "      <td>Empresas.</td>\n",
       "      <td>2025</td>\n",
       "      <td>I+D</td>\n",
       "      <td>175.000 euros</td>\n",
       "      <td>...</td>\n",
       "      <td>• Investigación industrial  \\n – Intensidad ge...</td>\n",
       "      <td>Ayuda de hasta el 85% del presupuesto aprobado.</td>\n",
       "      <td>Ayuda parcialmente reembolsable.</td>\n",
       "      <td>Formas de cobro:\\n• Pago anualizado, compuesto...</td>\n",
       "      <td>Si</td>\n",
       "      <td>Sí, la convocatoria impone restricciones geogr...</td>\n",
       "      <td>El consorcio debe estar formado por un mínimo ...</td>\n",
       "      <td>• Gastos directos:\\n  – Gastos de personal: in...</td>\n",
       "      <td>https://www.cdti.es/node/115</td>\n",
       "      <td>https://www.cdti.es/sites/default/files/2025-0...</td>\n",
       "    </tr>\n",
       "  </tbody>\n",
       "</table>\n",
       "<p>1 rows × 23 columns</p>\n",
       "</div>"
      ],
      "text/plain": [
       "  organismo              nombre                          linea fecha_inicio  \\\n",
       "0      CDTI  Proyectos de I + D  Proyectos de I+D individuales  Todo el año   \n",
       "\n",
       "     fecha_fin                                           objetivo  \\\n",
       "0  Todo el año  Ayudas a proyectos de I+D desarrollados por em...   \n",
       "\n",
       "  beneficiarios  anio area presupuesto_minimo  ...  \\\n",
       "0     Empresas.  2025  I+D      175.000 euros  ...   \n",
       "\n",
       "                            intensidad_de_subvencion  \\\n",
       "0  • Investigación industrial  \\n – Intensidad ge...   \n",
       "\n",
       "                           intensidad_del_prestamo  \\\n",
       "0  Ayuda de hasta el 85% del presupuesto aprobado.   \n",
       "\n",
       "                  tipo_financiacion  \\\n",
       "0  Ayuda parcialmente reembolsable.   \n",
       "\n",
       "                              forma_y_plazo_de_cobro minimis  \\\n",
       "0  Formas de cobro:\\n• Pago anualizado, compuesto...      Si   \n",
       "\n",
       "                                region_de_aplicacion  \\\n",
       "0  Sí, la convocatoria impone restricciones geogr...   \n",
       "\n",
       "                                   tipo_de_consorcio  \\\n",
       "0  El consorcio debe estar formado por un mínimo ...   \n",
       "\n",
       "                                    costes_elegibles  \\\n",
       "0  • Gastos directos:\\n  – Gastos de personal: in...   \n",
       "\n",
       "             link_ficha_tecnica  \\\n",
       "0  https://www.cdti.es/node/115   \n",
       "\n",
       "                                   link_convocatoria  \n",
       "0  https://www.cdti.es/sites/default/files/2025-0...  \n",
       "\n",
       "[1 rows x 23 columns]"
      ]
     },
     "execution_count": 11,
     "metadata": {},
     "output_type": "execute_result"
    }
   ],
   "source": [
    "df = pd.read_csv(f\"{CSV_PATH}/{filename}\")\n",
    "df.head(1)"
   ]
  },
  {
   "cell_type": "code",
   "execution_count": null,
   "metadata": {},
   "outputs": [],
   "source": [
    "engine = create_engine(f'sqlite:///{sqlite_path}')\n",
    "df.to_sql('tabla', con=engine, if_exists='replace', index=False)\n",
    "\n",
    "print(f\"Archivo SQLite guardado en: {sqlite_path}\")"
   ]
  },
  {
   "cell_type": "code",
   "execution_count": null,
   "metadata": {},
   "outputs": [],
   "source": [
    "from sqlalchemy import create_engine\n",
    "\n",
    "# Cargar el archivo CSV en un DataFrame\n",
    "csv_path = 'ruta_al_archivo.csv'  # Reemplaza con la ruta de tu archivo CSV\n",
    "df = pd.read_csv(csv_path)\n",
    "\n",
    "# Guardar el DataFrame como una base de datos SQLite usando sqlalchemy\n",
    "sqlite_path = os.path.join(DATA_PATH, 'archivo.sqlite')  # Usa DATA_PATH definido previamente\n",
    "engine = create_engine(f'sqlite:///{sqlite_path}')\n",
    "df.to_sql('tabla', con=engine, if_exists='replace', index=False)\n",
    "\n",
    "print(f\"Archivo SQLite guardado en: {sqlite_path}\")\n"
   ]
  },
  {
   "cell_type": "code",
   "execution_count": null,
   "metadata": {},
   "outputs": [],
   "source": [
    "from langchain.chains import SQLDatabaseChain\n",
    "from langchain.sql_database import SQLDatabase\n",
    "from langchain.llms import OpenAI\n",
    "\n",
    "# Crear una conexión a la base de datos SQLite\n",
    "db = SQLDatabase.from_uri(f\"sqlite:///{sqlite_path}\")\n",
    "\n",
    "# Crear un modelo LLM (puedes ajustar los parámetros según tus necesidades)\n",
    "llm = OpenAI(temperature=0)\n",
    "\n",
    "# Crear el SQLDatabaseChain\n",
    "sql_chain = SQLDatabaseChain(llm=llm, database=db, verbose=True)\n",
    "\n",
    "print(\"SQLDatabaseChain creado con éxito.\")"
   ]
  },
  {
   "cell_type": "code",
   "execution_count": null,
   "metadata": {},
   "outputs": [],
   "source": []
  },
  {
   "cell_type": "code",
   "execution_count": null,
   "metadata": {},
   "outputs": [],
   "source": []
  },
  {
   "cell_type": "code",
   "execution_count": null,
   "metadata": {},
   "outputs": [],
   "source": []
  },
  {
   "cell_type": "code",
   "execution_count": null,
   "metadata": {},
   "outputs": [],
   "source": []
  }
 ],
 "metadata": {
  "kernelspec": {
   "display_name": ".venv",
   "language": "python",
   "name": "python3"
  },
  "language_info": {
   "codemirror_mode": {
    "name": "ipython",
    "version": 3
   },
   "file_extension": ".py",
   "mimetype": "text/x-python",
   "name": "python",
   "nbconvert_exporter": "python",
   "pygments_lexer": "ipython3",
   "version": "3.12.0"
  }
 },
 "nbformat": 4,
 "nbformat_minor": 2
}
