{
 "cells": [
  {
   "cell_type": "code",
   "execution_count": 1,
   "metadata": {},
   "outputs": [],
   "source": [
    "# azure openai from langchain\n",
    "from src.processing.utils import get_aid_list\n",
    "from src.processing.cdti.pipeline import CDTIProcessingPipeline\n",
    "\n",
    "\n",
    "\n",
    "# from src.processing.cdti.loaders import CDTILoader\n",
    "# from src.processing.cdti.chains import CDTIChainBuilder\n",
    "\n",
    "# from src.processing.cdti.prompts import (\n",
    "#     AID_INTENSITY_PROMPT,\n",
    "#     PAYMENT_METHOD_PROMPT,\n",
    "#     MINIMIS_PROMPT,\n",
    "#     APPLICATION_REGION_PROMPT,\n",
    "#     CONSORTIUM_TYPE_PROMPT,\n",
    "#     ELIGIBLE_COSTS_PROMPT\n",
    "# )"
   ]
  },
  {
   "cell_type": "code",
   "execution_count": 2,
   "metadata": {},
   "outputs": [
    {
     "name": "stdout",
     "output_type": "stream",
     "text": [
      "aids found: 2\n",
      "Extracting aid: actuación_conjunta_isciii-cdti\n",
      "loading documents...\n",
      "Building chains...\n",
      "Excracting from markdown...\n",
      "Extracting from pdf...\n",
      "Extracting aid: ayudas_cervera_para_centros_tecnológicos\n",
      "loading documents...\n",
      "Building chains...\n",
      "Excracting from markdown...\n",
      "Extracting from pdf...\n"
     ]
    },
    {
     "ename": "KeyError",
     "evalue": "\"['forma_y_plazo_de_cobrominimis'] not in index\"",
     "output_type": "error",
     "traceback": [
      "\u001b[31m---------------------------------------------------------------------------\u001b[39m",
      "\u001b[31mKeyError\u001b[39m                                  Traceback (most recent call last)",
      "\u001b[36mCell\u001b[39m\u001b[36m \u001b[39m\u001b[32mIn[2]\u001b[39m\u001b[32m, line 3\u001b[39m\n\u001b[32m      1\u001b[39m cdti_processing_pipeline = CDTIProcessingPipeline()\n\u001b[32m----> \u001b[39m\u001b[32m3\u001b[39m df = \u001b[43mcdti_processing_pipeline\u001b[49m\u001b[43m.\u001b[49m\u001b[43mrun_pipeline\u001b[49m\u001b[43m(\u001b[49m\u001b[43m)\u001b[49m\n",
      "\u001b[36mFile \u001b[39m\u001b[32mc:\\Users\\jlrodriguez.andreu\\dev\\formacion\\TFM\\tfm-uoc\\src\\processing\\cdti\\pipeline.py:53\u001b[39m, in \u001b[36mCDTIProcessingPipeline.run_pipeline\u001b[39m\u001b[34m(self)\u001b[39m\n\u001b[32m     49\u001b[39m \u001b[38;5;28mprint\u001b[39m(\u001b[33m\"\u001b[39m\u001b[33maids found:\u001b[39m\u001b[33m\"\u001b[39m, \u001b[38;5;28mlen\u001b[39m(aid_list))\n\u001b[32m     51\u001b[39m results = [\u001b[38;5;28mself\u001b[39m.aid_processing(aid_name) \u001b[38;5;28;01mfor\u001b[39;00m aid_name \u001b[38;5;129;01min\u001b[39;00m aid_list]\n\u001b[32m---> \u001b[39m\u001b[32m53\u001b[39m df = \u001b[43mpd\u001b[49m\u001b[43m.\u001b[49m\u001b[43mDataFrame\u001b[49m\u001b[43m(\u001b[49m\u001b[43mresults\u001b[49m\u001b[43m)\u001b[49m\u001b[43m[\u001b[49m\u001b[43mPROCESSING_VARIABLES\u001b[49m\u001b[43m]\u001b[49m\n\u001b[32m     55\u001b[39m \u001b[38;5;28;01mreturn\u001b[39;00m df\n",
      "\u001b[36mFile \u001b[39m\u001b[32mc:\\Users\\jlrodriguez.andreu\\dev\\formacion\\TFM\\tfm-uoc\\.venv\\Lib\\site-packages\\pandas\\core\\frame.py:4108\u001b[39m, in \u001b[36mDataFrame.__getitem__\u001b[39m\u001b[34m(self, key)\u001b[39m\n\u001b[32m   4106\u001b[39m     \u001b[38;5;28;01mif\u001b[39;00m is_iterator(key):\n\u001b[32m   4107\u001b[39m         key = \u001b[38;5;28mlist\u001b[39m(key)\n\u001b[32m-> \u001b[39m\u001b[32m4108\u001b[39m     indexer = \u001b[38;5;28;43mself\u001b[39;49m\u001b[43m.\u001b[49m\u001b[43mcolumns\u001b[49m\u001b[43m.\u001b[49m\u001b[43m_get_indexer_strict\u001b[49m\u001b[43m(\u001b[49m\u001b[43mkey\u001b[49m\u001b[43m,\u001b[49m\u001b[43m \u001b[49m\u001b[33;43m\"\u001b[39;49m\u001b[33;43mcolumns\u001b[39;49m\u001b[33;43m\"\u001b[39;49m\u001b[43m)\u001b[49m[\u001b[32m1\u001b[39m]\n\u001b[32m   4110\u001b[39m \u001b[38;5;66;03m# take() does not accept boolean indexers\u001b[39;00m\n\u001b[32m   4111\u001b[39m \u001b[38;5;28;01mif\u001b[39;00m \u001b[38;5;28mgetattr\u001b[39m(indexer, \u001b[33m\"\u001b[39m\u001b[33mdtype\u001b[39m\u001b[33m\"\u001b[39m, \u001b[38;5;28;01mNone\u001b[39;00m) == \u001b[38;5;28mbool\u001b[39m:\n",
      "\u001b[36mFile \u001b[39m\u001b[32mc:\\Users\\jlrodriguez.andreu\\dev\\formacion\\TFM\\tfm-uoc\\.venv\\Lib\\site-packages\\pandas\\core\\indexes\\base.py:6200\u001b[39m, in \u001b[36mIndex._get_indexer_strict\u001b[39m\u001b[34m(self, key, axis_name)\u001b[39m\n\u001b[32m   6197\u001b[39m \u001b[38;5;28;01melse\u001b[39;00m:\n\u001b[32m   6198\u001b[39m     keyarr, indexer, new_indexer = \u001b[38;5;28mself\u001b[39m._reindex_non_unique(keyarr)\n\u001b[32m-> \u001b[39m\u001b[32m6200\u001b[39m \u001b[38;5;28;43mself\u001b[39;49m\u001b[43m.\u001b[49m\u001b[43m_raise_if_missing\u001b[49m\u001b[43m(\u001b[49m\u001b[43mkeyarr\u001b[49m\u001b[43m,\u001b[49m\u001b[43m \u001b[49m\u001b[43mindexer\u001b[49m\u001b[43m,\u001b[49m\u001b[43m \u001b[49m\u001b[43maxis_name\u001b[49m\u001b[43m)\u001b[49m\n\u001b[32m   6202\u001b[39m keyarr = \u001b[38;5;28mself\u001b[39m.take(indexer)\n\u001b[32m   6203\u001b[39m \u001b[38;5;28;01mif\u001b[39;00m \u001b[38;5;28misinstance\u001b[39m(key, Index):\n\u001b[32m   6204\u001b[39m     \u001b[38;5;66;03m# GH 42790 - Preserve name from an Index\u001b[39;00m\n",
      "\u001b[36mFile \u001b[39m\u001b[32mc:\\Users\\jlrodriguez.andreu\\dev\\formacion\\TFM\\tfm-uoc\\.venv\\Lib\\site-packages\\pandas\\core\\indexes\\base.py:6252\u001b[39m, in \u001b[36mIndex._raise_if_missing\u001b[39m\u001b[34m(self, key, indexer, axis_name)\u001b[39m\n\u001b[32m   6249\u001b[39m     \u001b[38;5;28;01mraise\u001b[39;00m \u001b[38;5;167;01mKeyError\u001b[39;00m(\u001b[33mf\u001b[39m\u001b[33m\"\u001b[39m\u001b[33mNone of [\u001b[39m\u001b[38;5;132;01m{\u001b[39;00mkey\u001b[38;5;132;01m}\u001b[39;00m\u001b[33m] are in the [\u001b[39m\u001b[38;5;132;01m{\u001b[39;00maxis_name\u001b[38;5;132;01m}\u001b[39;00m\u001b[33m]\u001b[39m\u001b[33m\"\u001b[39m)\n\u001b[32m   6251\u001b[39m not_found = \u001b[38;5;28mlist\u001b[39m(ensure_index(key)[missing_mask.nonzero()[\u001b[32m0\u001b[39m]].unique())\n\u001b[32m-> \u001b[39m\u001b[32m6252\u001b[39m \u001b[38;5;28;01mraise\u001b[39;00m \u001b[38;5;167;01mKeyError\u001b[39;00m(\u001b[33mf\u001b[39m\u001b[33m\"\u001b[39m\u001b[38;5;132;01m{\u001b[39;00mnot_found\u001b[38;5;132;01m}\u001b[39;00m\u001b[33m not in index\u001b[39m\u001b[33m\"\u001b[39m)\n",
      "\u001b[31mKeyError\u001b[39m: \"['forma_y_plazo_de_cobrominimis'] not in index\""
     ]
    }
   ],
   "source": [
    "cdti_processing_pipeline = CDTIProcessingPipeline()\n",
    "\n",
    "df = cdti_processing_pipeline.run_pipeline()"
   ]
  },
  {
   "cell_type": "code",
   "execution_count": null,
   "metadata": {},
   "outputs": [
    {
     "data": {
      "text/plain": [
       "Index(['organismo', 'nombre', 'linea', 'fecha_inicio', 'fecha_fin', 'objetivo',\n",
       "       'beneficiarios', 'anio', 'area', 'presupuesto_minimo',\n",
       "       'duración_mínima', 'duración_máxima', 'intensidad_del_prestamo',\n",
       "       'tipo_financiacion', 'link_ficha_tecnica', 'link_convocatoria',\n",
       "       'aid_intensity', 'payment_method', 'minimis', 'application_region',\n",
       "       'consortium_type', 'eligible_costs'],\n",
       "      dtype='object')"
      ]
     },
     "execution_count": 4,
     "metadata": {},
     "output_type": "execute_result"
    }
   ],
   "source": [
    "df.columns"
   ]
  },
  {
   "cell_type": "code",
   "execution_count": null,
   "metadata": {},
   "outputs": [],
   "source": [
    "df"
   ]
  },
  {
   "cell_type": "code",
   "execution_count": null,
   "metadata": {},
   "outputs": [],
   "source": [
    "from src.processing.params import PROCESSING_VARIABLES\n",
    "PROCESSING_VARIABLES"
   ]
  },
  {
   "cell_type": "code",
   "execution_count": null,
   "metadata": {},
   "outputs": [
    {
     "name": "stdout",
     "output_type": "stream",
     "text": [
      "Directorios encontrados: ['actuación_conjunta_isciii-cdti', 'ayudas_cervera_para_centros_tecnológicos', 'ayudas_neotec', 'ayudas_pymes_sello_de_excelencia', 'cdti-era-net', 'cdti-eurostars', 'cdti-partenariados_pilar_2_(sera)', 'ecosistemas_de_innovación', 'innterconecta_-_step', 'innvierte', 'ipcei_med4cure_convocatoria_de_expresiones_de_interés', 'kssp_financiación_nacional', 'línea_directa_de_expansión', 'línea_directa_de_expansión_aeroespacial_y_salud', 'línea_directa_de_innovación', 'línea_directa_de_innovación_aeroespacial_y_salud', 'misiones_ciencia_e_innovación', 'misiones_perte_chip', 'programa_tecnológico_aeronáutico_(pta)', 'programa_tecnológico_de_automoción_sostenible_(ptas)', 'programa_tecnológico_espacial_(pte)', 'proyectos_de_i+d_aeroespacial_y_salud', 'proyectos_de_i+d_audiovisual_y_videojuegos', 'proyectos_de_i+d_de_transferencia_tecnológica_cervera', 'proyectos_de_innovación_fempa', 'proyectos_de_inversión_fempa', 'proyectos_de_i_+_d', 'proyectos_multi-país', 'transmisiones']\n"
     ]
    }
   ],
   "source": [
    "base_path = \"data/cdti/cdti-aids\"\n",
    "\n",
    "# Obtener listado de directorios\n",
    "dir_list = get_aid_list(base_path)\n",
    "print(\"Directorios encontrados:\", dir_list)"
   ]
  },
  {
   "cell_type": "code",
   "execution_count": 3,
   "metadata": {},
   "outputs": [
    {
     "data": {
      "text/plain": [
       "'actuación_conjunta_isciii-cdti'"
      ]
     },
     "execution_count": 3,
     "metadata": {},
     "output_type": "execute_result"
    }
   ],
   "source": [
    "aid_name = dir_list[0]\n",
    "aid_name"
   ]
  },
  {
   "cell_type": "code",
   "execution_count": 4,
   "metadata": {},
   "outputs": [
    {
     "name": "stdout",
     "output_type": "stream",
     "text": [
      "Extracting aid: actuación_conjunta_isciii-cdti\n",
      "loading documents...\n",
      "Building chains...\n",
      "Excracting from markdown...\n",
      "Extracting from pdf...\n"
     ]
    }
   ],
   "source": [
    "cdti_processing_pipeline = CDTIProcessingPipeline()\n",
    "result = cdti_processing_pipeline.aid_processing(aid_name)"
   ]
  },
  {
   "cell_type": "code",
   "execution_count": null,
   "metadata": {},
   "outputs": [
    {
     "data": {
      "text/plain": [
       "{'organismo': 'CDTI',\n",
       " 'nombre': 'Actuación conjunta ISCIII-CDTI',\n",
       " 'linea': [],\n",
       " 'fecha_inicio': '10/07/2023',\n",
       " 'fecha_fin': '28/07/2023',\n",
       " 'objetivo': 'Impulso del empleo de calidad y mejora de la salud mediante el aprovechamiento del conocimiento científico, la consolidación de la innovación sanitaria y la utilización de datos para la transformación, orientados al desarrollo de diagnósticos clínicos y terapias avanzadas.',\n",
       " 'beneficiarios': 'Empresas.',\n",
       " 'anio': '2023',\n",
       " 'area': 'I+D',\n",
       " 'presupuesto_minimo': '175.000 euros',\n",
       " 'duración_mínima': '12 meses',\n",
       " 'duración_máxima': '29 meses',\n",
       " 'intensidad_del_prestamo': 'Ayuda de hasta el 90% del presupuesto aprobado, siempre que no se superen los límites de intensidad máxima permitidos por la normativa comunitaria de ayudas de estado.',\n",
       " 'tipo_financiacion': 'Ayuda parcialmente reembolsable.',\n",
       " 'link_ficha_tecnica': 'https://www.cdti.es/node/180',\n",
       " 'link_convocatoria': 'https://www.cdti.es/sites/default/files/2023-09/ficha_apr_mision_salud_2023.pdf',\n",
       " 'aid_intensity': 'Investigación Industrial  \\n\\u2003• Pequeña Empresa: 70%  \\n\\u2003• Mediana Empresa: 60%  \\n\\u2003• Gran Empresa: 50%  \\n\\nAmplia difusión de los resultados del proyecto  \\n\\u2003• Pequeña Empresa: 80%  \\n\\u2003• Mediana Empresa: 75%  \\n\\u2003• Gran Empresa: 65%  \\n\\nDesarrollo experimental  \\n\\u2003• Pequeña Empresa: 45%  \\n\\u2003• Mediana Empresa: 35%  \\n\\u2003• Gran Empresa: 25%',\n",
       " 'payment_method': '• Condiciones generales de pago:  \\n  - El pago de la subvención está condicionado a que el beneficiario esté al corriente de sus obligaciones tributarias, frente a la Seguridad Social y de reembolso de otras ayudas o préstamos previamente concedidos.  \\n  - Se debe acreditar que el beneficiario no está sujeto a una orden de recuperación por ayudas ilegales o incompatibles con el mercado común.\\n\\n• Forma de cobro – Anticipo:  \\n  - La empresa puede acogerse a una de las alternativas de anticipo, abonándose el importe en el momento de la formalización del contrato de préstamo.\\n\\n• Plazos para la formalización del contrato de préstamo:  \\n  - El contrato debe formalizarse en un plazo máximo de tres meses desde la recepción de la comunicación de aprobación de la ayuda.  \\n  - Si la formalización no se realiza en dicho plazo por causas imputables a la beneficiaria, la concesión se revoca.  \\n  - Se podrá solicitar, con la debida justificación, una prórroga adicional máxima de un mes.',\n",
       " 'minimis': 'No',\n",
       " 'application_region': 'No',\n",
       " 'consortium_type': 'El consorcio se debe constituir con un máximo de 6 entidades participantes, que pueden incluir una o más empresas y centros u organismos de investigación. Si intervienen varias empresas, una de ellas actuará como coordinadora.',\n",
       " 'eligible_costs': '• Gastos de personal: remuneraciones de investigadores, técnicos y personal auxiliar dedicado al proyecto.  \\n• Costes de instrumental y material: uso durante el proyecto; si no se usa durante toda la vida útil, sólo se admite la amortización correspondiente a la duración del proyecto.  \\n• Costes de investigación contractual, conocimientos y patentes adquiridas por licencia de fuentes externas a precios de mercado; incluye también costes de consultoría y servicios equivalentes destinados exclusivamente al proyecto (excepto los asociados a la solicitud).  \\n• Gastos generales suplementarios y otros gastos de explotación: incluyen costes de material, suministros y productos similares derivados directamente del proyecto.  \\n• Gasto por informe del auditor: máximo de 2.000 euros por beneficiario e hito.  \\n• Leasing: elegible si el activo permanece en la empresa y las cuotas se asimilan a una amortización; en cambio, el renting no es elegible.  \\n• Exclusiones: no son financiables el Impuesto sobre el Valor Añadido (o equivalente), gastos no justificados y gastos de homologación o marcado CE, entre otros que no respondan a la actividad de I+D.'}"
      ]
     },
     "execution_count": 6,
     "metadata": {},
     "output_type": "execute_result"
    }
   ],
   "source": [
    "result"
   ]
  },
  {
   "cell_type": "code",
   "execution_count": 2,
   "metadata": {},
   "outputs": [
    {
     "name": "stdout",
     "output_type": "stream",
     "text": [
      "Directorios encontrados: ['actuación_conjunta_isciii-cdti', 'ayudas_cervera_para_centros_tecnológicos', 'ayudas_neotec', 'ayudas_pymes_sello_de_excelencia', 'cdti-era-net', 'cdti-eurostars', 'cdti-partenariados_pilar_2_(sera)', 'ecosistemas_de_innovación', 'innterconecta_-_step', 'innvierte', 'ipcei_med4cure_convocatoria_de_expresiones_de_interés', 'kssp_financiación_nacional', 'línea_directa_de_expansión', 'línea_directa_de_expansión_aeroespacial_y_salud', 'línea_directa_de_innovación', 'línea_directa_de_innovación_aeroespacial_y_salud', 'misiones_ciencia_e_innovación', 'misiones_perte_chip', 'programa_tecnológico_aeronáutico_(pta)', 'programa_tecnológico_de_automoción_sostenible_(ptas)', 'programa_tecnológico_espacial_(pte)', 'proyectos_de_i+d_aeroespacial_y_salud', 'proyectos_de_i+d_audiovisual_y_videojuegos', 'proyectos_de_i+d_de_transferencia_tecnológica_cervera', 'proyectos_de_innovación_fempa', 'proyectos_de_inversión_fempa', 'proyectos_de_i_+_d', 'proyectos_multi-país', 'transmisiones']\n"
     ]
    }
   ],
   "source": [
    "base_path = \"data/cdti/cdti-aids\"\n",
    "\n",
    "# Obtener listado de directorios\n",
    "dir_list = aid_list(base_path)\n",
    "print(\"Directorios encontrados:\", dir_list)"
   ]
  },
  {
   "cell_type": "code",
   "execution_count": 3,
   "metadata": {},
   "outputs": [
    {
     "data": {
      "text/plain": [
       "'actuación_conjunta_isciii-cdti'"
      ]
     },
     "execution_count": 3,
     "metadata": {},
     "output_type": "execute_result"
    }
   ],
   "source": [
    "aid_name = dir_list[0]\n",
    "aid_name\n",
    "\n",
    "# aid_name = \"proyectos_de_i_+_d\"\n",
    "# aid_name = \"proyectos_de_i+d_aeroespacial_y_salud\""
   ]
  },
  {
   "cell_type": "code",
   "execution_count": 4,
   "metadata": {},
   "outputs": [
    {
     "data": {
      "text/plain": [
       "{'organismo': 'CDTI',\n",
       " 'nombre': 'Actuación conjunta ISCIII-CDTI',\n",
       " 'linea': [],\n",
       " 'fecha_inicio': '10/07/2023',\n",
       " 'fecha_fin': '28/07/2023',\n",
       " 'objetivo': 'Impulso, coordinación y desarrollo de proyectos de I+D orientados a la medicina personalizada y terapias avanzadas, favoreciendo la innovación sanitaria y el mejoramiento de la salud de la población.',\n",
       " 'beneficiarios': 'Empresas.',\n",
       " 'anio': 2023,\n",
       " 'area': 'I+D',\n",
       " 'presupuesto_minimo': '175.000 euros',\n",
       " 'duración_mínima': '12 meses',\n",
       " 'duración_máxima': '29 meses',\n",
       " 'intensidad_del_prestamo': 'Ayuda de hasta el 90% del presupuesto aprobado, siempre que no se superen los límites de intensidad máxima permitidos por la normativa comunitaria de ayudas de estado.',\n",
       " 'tipo_financiacion': 'Ayuda parcialmente reembolsable.',\n",
       " 'link_ficha_tecnica': 'https://www.cdti.es/node/180',\n",
       " 'link_convocatoria': 'https://www.cdti.es/sites/default/files/2023-09/ficha_apr_mision_salud_2023.pdf'}"
      ]
     },
     "execution_count": 4,
     "metadata": {},
     "output_type": "execute_result"
    }
   ],
   "source": [
    "cdti_loader = CDTILoader(aid_name)\n",
    "\n",
    "markdown_document = cdti_loader.load_markdown()\n",
    "\n",
    "# extraction chain\n",
    "cdti_chain_builder = CDTIChainBuilder()\n",
    "extraction_chain = cdti_chain_builder.build_extraction_chain()\n",
    "extraction_chain_result = extraction_chain.invoke({\"document\": markdown_document})\n",
    "extraction_chain_result\n"
   ]
  },
  {
   "cell_type": "code",
   "execution_count": 5,
   "metadata": {},
   "outputs": [],
   "source": [
    "# rag chain\n",
    "pdf_document = cdti_loader.load_pdf()\n",
    "rag_chain = cdti_chain_builder.build_dynamic_rag_chain(pdf_document)\n",
    "\n",
    "dynamic_rag_prompts = {\n",
    "    \"aid_intensity\": AID_INTENSITY_PROMPT,\n",
    "    \"payment_method\": PAYMENT_METHOD_PROMPT,\n",
    "    \"minimis\": MINIMIS_PROMPT,\n",
    "    \"application_region\": APPLICATION_REGION_PROMPT,\n",
    "    \"consortium_type\": CONSORTIUM_TYPE_PROMPT,\n",
    "    \"eligible_costs\": ELIGIBLE_COSTS_PROMPT\n",
    "}\n",
    "\n",
    "result_rag_extraction = {key: rag_chain.invoke(prompt) for key, prompt in dynamic_rag_prompts.items()}\n"
   ]
  },
  {
   "cell_type": "code",
   "execution_count": 6,
   "metadata": {},
   "outputs": [
    {
     "data": {
      "text/plain": [
       "{'aid_intensity': '• Investigación Industrial\\n  – Pequeña Empresa: 70%\\n  – Mediana Empresa: 60%\\n  – Gran Empresa: 50%\\n  – Condiciones:\\n\\u2003\\u2003a) Colaboración efectiva (por ejemplo, entre empresas, al menos una de las cuales sea PYME, o entre empresas y organismos de investigación – en este último caso, los organismos deben asumir, al menos, el 10% de los costes subvencionables y tener derecho a publicar resultados).\\n\\u2003\\u2003b) Amplia difusión de los resultados del proyecto.\\n\\n• Desarrollo Experimental\\n  – Pequeña Empresa: 45%\\n  – Mediana Empresa: 35%\\n  – Gran Empresa: 25%\\n  – Condición:\\n\\u2003\\u2003a) Colaboración efectiva (mismos criterios que en el apartado de Investigación Industrial).\\n\\n• Modalidad de la ayuda (información adicional)\\n  – La financiación se realiza mediante una ayuda parcialmente reembolsable, con una cobertura de hasta el 90% del presupuesto total aprobado, según los límites de intensidad máxima de ayuda establecidos en la normativa comunitaria vigente.',\n",
       " 'payment_method': '• Formas de cobro:\\n  - Se realizará mediante un anticipo, que se abonará en el momento de la formalización del contrato de préstamo.\\n  - Para acceder al anticipo, la empresa debe presentar la documentación requerida (por ejemplo, NIF, domicilio fiscal, acreditación de inscripción en el censo de empresarios, etc.) y cumplir con obligaciones como la declaración de ausencia de conflictos de interés y otros compromisos establecidos en la convocatoria.\\n\\n• Plazos:\\n  - El contrato de préstamo debe formalizarse en un plazo máximo de tres meses desde la recepción de la comunicación de aprobación de la ayuda.\\n  - Si, por causas imputables al beneficiario, no se formaliza el contrato en dicho plazo, la concesión de la ayuda se considerará revocada.\\n  - Se podrá solicitar, de forma debidamente justificada, una prórroga adicional de un máximo de un mes para la formalización del contrato.',\n",
       " 'minimis': 'No',\n",
       " 'application_region': 'No.',\n",
       " 'consortium_type': 'El consorcio debe estar formado por una empresa que actúe como coordinadora y hasta un máximo de 6 entidades participantes en total (empresas, centros u organismos de investigación).',\n",
       " 'eligible_costs': '• Gastos de personal: investigaciones, técnicos y personal auxiliar dedicados al proyecto.  \\n• Instrumental y material: costes de adquisición y, si no se usan durante toda su vida útil en el proyecto, solo se considera la amortización correspondiente a la duración del proyecto.  \\n• Investigación contractual, conocimientos y patentes: adquisición o licencia de fuentes externas a precios de mercado, y consultorías y servicios equivalentes destinados exclusivamente al proyecto (excepto la consultoría asociada a la solicitud).  \\n• Gastos generales suplementarios: aquellos derivado directamente del proyecto de investigación.  \\n• Otros gastos de explotación: costes de materiales, suministros y productos similares directamente relacionados con el proyecto.  \\n• Gasto derivado del informe del auditor: elegible hasta un máximo de 2.000 euros por beneficiario e hito.  \\n• Subcontratación de actividades: contratación de actividades a empresas u organismos de investigación (como universidades, centros tecnológicos o ICTS).  \\n• Leasing: elegible si el activo se queda en la empresa y las cuotas se asimilan a la amortización.  \\n• Exclusiones: no son financiables el Impuesto sobre el Valor Añadido, renting (por tratarse de alquiler incluido en los gastos generales) y gastos no justificados o relacionados con homologación/marcado CE.'}"
      ]
     },
     "execution_count": 6,
     "metadata": {},
     "output_type": "execute_result"
    }
   ],
   "source": [
    "result_rag_extraction"
   ]
  },
  {
   "cell_type": "code",
   "execution_count": null,
   "metadata": {},
   "outputs": [],
   "source": []
  },
  {
   "cell_type": "code",
   "execution_count": null,
   "metadata": {},
   "outputs": [],
   "source": []
  },
  {
   "cell_type": "code",
   "execution_count": null,
   "metadata": {},
   "outputs": [],
   "source": []
  },
  {
   "cell_type": "code",
   "execution_count": 13,
   "metadata": {},
   "outputs": [],
   "source": [
    "result_rag_extraction = {}"
   ]
  },
  {
   "cell_type": "code",
   "execution_count": 15,
   "metadata": {},
   "outputs": [
    {
     "name": "stdout",
     "output_type": "stream",
     "text": [
      "• Investigación Industrial  \n",
      " ○ Pequeña Empresa: 70%  \n",
      " ○ Mediana Empresa: 60%  \n",
      " ○ Gran Empresa: 50%\n",
      "\n",
      "• Amplia difusión de resultados  \n",
      " ○ Pequeña Empresa: 80%  \n",
      " ○ Mediana Empresa: 75%  \n",
      " ○ Gran Empresa: 65%\n",
      "\n",
      "• Desarrollo experimental  \n",
      " ○ Pequeña Empresa: 45%  \n",
      " ○ Mediana Empresa: 35%  \n",
      " ○ Gran Empresa: 25%\n",
      "\n",
      "• Modalidad de la ayuda  \n",
      " ○ Ayuda Parcialmente Reembolsable con cobertura de hasta el 90% del presupuesto total aprobado.\n"
     ]
    }
   ],
   "source": [
    "result_rag_extraction['intensidad_de_subvencion'] = rag_chain.invoke(AID_INTENSITY_PROMPT)\n",
    "print(result_rag_extraction['intensidad_de_subvencion'])\n"
   ]
  },
  {
   "cell_type": "code",
   "execution_count": 16,
   "metadata": {},
   "outputs": [
    {
     "name": "stdout",
     "output_type": "stream",
     "text": [
      "• Formas de cobro:\n",
      "  - Pago mediante anticipo.\n",
      "    • La empresa puede acogerse a una de las alternativas de anticipo.\n",
      "    • El anticipo se abona en el momento de la formalización del contrato de préstamo.\n",
      "  - Condicionantes del pago:\n",
      "    • Acreditar estar al corriente en obligaciones tributarias y con la Seguridad Social.\n",
      "    • Demostrar cumplimiento en el reembolso de ayudas o préstamos previos.\n",
      "    • No existir una orden de recuperación pendiente por decisiones de la Comisión Europea.\n",
      "\n",
      "• Plazos de cobro:\n",
      "  - El anticipo se efectúa en el momento de la formalización del contrato de préstamo.\n",
      "  - No se especifican otros plazos de cobro en los fragmentos suministrados.\n"
     ]
    }
   ],
   "source": [
    "result_rag_extraction['forma_y_plazo_de_cobro'] = rag_chain.invoke(PAYMENT_METHOD_PROMPT)\n",
    "print(result_rag_extraction['forma_y_plazo_de_cobro'])"
   ]
  },
  {
   "cell_type": "code",
   "execution_count": 17,
   "metadata": {},
   "outputs": [
    {
     "name": "stdout",
     "output_type": "stream",
     "text": [
      "No\n"
     ]
    }
   ],
   "source": [
    "result_rag_extraction['minimis'] = rag_chain.invoke(MINIMIS_PROMPT)\n",
    "print(result_rag_extraction['minimis'])"
   ]
  },
  {
   "cell_type": "code",
   "execution_count": 18,
   "metadata": {},
   "outputs": [
    {
     "name": "stdout",
     "output_type": "stream",
     "text": [
      "No\n"
     ]
    }
   ],
   "source": [
    "result_rag_extraction['region_de_aplicacion'] = rag_chain.invoke(APPLICATION_REGION_PROMPT)\n",
    "print(result_rag_extraction['region_de_aplicacion'])"
   ]
  },
  {
   "cell_type": "code",
   "execution_count": 19,
   "metadata": {},
   "outputs": [
    {
     "name": "stdout",
     "output_type": "stream",
     "text": [
      "El consorcio puede estar formado por un máximo de 6 entidades participantes (empresas, centros y organismos de investigación), en el que, si hay varias empresas, una actuará como coordinadora.\n"
     ]
    }
   ],
   "source": [
    "result_rag_extraction['tipo_de_consorcio'] = rag_chain.invoke(CONSORTIUM_TYPE_PROMPT)\n",
    "print(result_rag_extraction['tipo_de_consorcio'])"
   ]
  },
  {
   "cell_type": "code",
   "execution_count": 20,
   "metadata": {},
   "outputs": [
    {
     "name": "stdout",
     "output_type": "stream",
     "text": [
      "• Gastos de personal: salarios de investigadores, técnicos y personal auxiliar dedicado al proyecto.  \n",
      "• Costes de instrumental y material: incluyendo la amortización proporcional durante el periodo de utilización en el proyecto.  \n",
      "• Costes de investigación contractual: adquisición de conocimientos, patentes y licencias de fuentes externas, a precios de mercado.  \n",
      "• Costes de consultoría y servicios equivalentes: siempre que estén destinados exclusivamente al proyecto (exceptuando la consultoría asociada a la solicitud).  \n",
      "• Gastos generales suplementarios: directamente derivados del proyecto de investigación.  \n",
      "• Otros gastos de explotación: materiales, suministros y productos similares que se deriven directamente del proyecto.  \n",
      "• Gasto del informe del auditor: elegible hasta un máximo de 2.000 euros por beneficiario e hito.  \n",
      "• Subcontratación de actividades: colaboración externa con empresas, universidades, centros tecnológicos o infraestructuras científicas singulares.  \n",
      "• Observación: No se financia el Impuesto sobre el Valor Añadido ni impuestos equivalentes; tampoco serán elegibles gastos no justificados o alquileres de licencias y servicios en la nube, salvo que se identifiquen y contabilicen específicamente para el proyecto.  \n",
      "• Leasing: Es elegible si el activo permanece en la empresa y las cuotas se asimilan a un gasto de amortización.\n"
     ]
    }
   ],
   "source": [
    "result_rag_extraction['costes_elegibles'] = rag_chain.invoke(ELIGIBLE_COSTS_PROMPT)\n",
    "print(result_rag_extraction['costes_elegibles'])"
   ]
  },
  {
   "cell_type": "code",
   "execution_count": null,
   "metadata": {},
   "outputs": [],
   "source": []
  },
  {
   "cell_type": "code",
   "execution_count": null,
   "metadata": {},
   "outputs": [],
   "source": []
  },
  {
   "cell_type": "code",
   "execution_count": null,
   "metadata": {},
   "outputs": [],
   "source": [
    "eligible_costs_prompt = \"Busca información sobre los costes elegibles de la subvención y devuelve el resultado de forma esquemática y resumida. Responde directamente, sin añadir texto introductorio o de finalización explicativos.\"\n",
    "result_rag_extraction['costes_elegibles'] = rag_chain.invoke(eligible_costs_prompt)\n",
    "print(result_rag_extraction['costes_elegibles'])"
   ]
  },
  {
   "cell_type": "code",
   "execution_count": null,
   "metadata": {},
   "outputs": [],
   "source": []
  },
  {
   "cell_type": "code",
   "execution_count": 2,
   "metadata": {},
   "outputs": [],
   "source": [
    "from langchain_openai import AzureChatOpenAI\n",
    "from langchain_openai import AzureOpenAIEmbeddings\n",
    "from dotenv import load_dotenv\n",
    "import os\n",
    "\n",
    "\n"
   ]
  },
  {
   "cell_type": "code",
   "execution_count": 3,
   "metadata": {},
   "outputs": [],
   "source": [
    "load_dotenv()\n",
    "\n",
    "# Variables necesarias para Azure OpenAI\n",
    "api_key = os.getenv(\"AZURE_OPENAI_API_KEY\")\n",
    "api_base = os.getenv(\"AZURE_OPENAI_ENDPOINT\")\n",
    "deployment = os.getenv(\"03_MINI_DEPLOYMENT\")  # nombre del *deployment*, NO del modelo\n",
    "api_version = os.getenv(\"AZURE_OPENAI_API_VERSION\")  # Ajusta según la versión de tu Azure OpenAI\n",
    "\n",
    "\n",
    "# ------------------ 3. Configurar modelo Azure ------------------ #\n",
    "llm = AzureChatOpenAI(\n",
    "    openai_api_key=api_key,\n",
    "    azure_endpoint=api_base,\n",
    "    deployment_name=deployment,\n",
    "    api_version=api_version,\n",
    "    # temperature=0\n",
    ")\n",
    "\n",
    "# embeddings\n",
    "embedding_model = AzureOpenAIEmbeddings(\n",
    "    model=\"text-embedding-3-large\",\n",
    "    azure_endpoint=api_base,\n",
    "    api_key=api_key,\n",
    "    openai_api_version=api_version\n",
    ")\n",
    "\n",
    "\n",
    "\n"
   ]
  },
  {
   "cell_type": "code",
   "execution_count": 4,
   "metadata": {},
   "outputs": [
    {
     "name": "stdout",
     "output_type": "stream",
     "text": [
      "¡Hola! ¿En qué puedo ayudarte hoy?\n"
     ]
    }
   ],
   "source": [
    "response = llm.invoke(\"hola\")\n",
    "print(response.content)"
   ]
  },
  {
   "cell_type": "code",
   "execution_count": null,
   "metadata": {},
   "outputs": [],
   "source": [
    "# test lectura de ficha\n",
    "\n",
    "# from langchain.document_loaders import TextLoader\n",
    "from langchain_core.runnables import Runnable\n",
    "from langchain_core.prompts import ChatPromptTemplate\n",
    "from langchain_core.output_parsers import StrOutputParser, JsonOutputParser\n",
    "from langchain_core.messages import SystemMessage"
   ]
  },
  {
   "cell_type": "code",
   "execution_count": 8,
   "metadata": {},
   "outputs": [
    {
     "name": "stdout",
     "output_type": "stream",
     "text": [
      "Directorios encontrados: ['actuación_conjunta_isciii-cdti', 'ayudas_cervera_para_centros_tecnológicos', 'ayudas_neotec', 'ayudas_pymes_sello_de_excelencia', 'cdti-era-net', 'cdti-eurostars', 'cdti-partenariados_pilar_2_(sera)', 'ecosistemas_de_innovación', 'innterconecta_-_step', 'innvierte', 'ipcei_med4cure_convocatoria_de_expresiones_de_interés', 'kssp_financiación_nacional', 'línea_directa_de_expansión', 'línea_directa_de_expansión_aeroespacial_y_salud', 'línea_directa_de_innovación', 'línea_directa_de_innovación_aeroespacial_y_salud', 'misiones_ciencia_e_innovación', 'misiones_perte_chip', 'programa_tecnológico_aeronáutico_(pta)', 'programa_tecnológico_de_automoción_sostenible_(ptas)', 'programa_tecnológico_espacial_(pte)', 'proyectos_de_i+d_aeroespacial_y_salud', 'proyectos_de_i+d_audiovisual_y_videojuegos', 'proyectos_de_i+d_de_transferencia_tecnológica_cervera', 'proyectos_de_innovación_fempa', 'proyectos_de_inversión_fempa', 'proyectos_de_i_+_d', 'proyectos_multi-país', 'transmisiones']\n"
     ]
    }
   ],
   "source": [
    "base_path = \"data/cdti/cdti-aids\"\n",
    "\n",
    "# Obtener listado de directorios\n",
    "dir_list = aid_list(base_path)\n",
    "print(\"Directorios encontrados:\", dir_list)"
   ]
  },
  {
   "cell_type": "code",
   "execution_count": null,
   "metadata": {},
   "outputs": [
    {
     "data": {
      "text/plain": [
       "'actuación_conjunta_isciii-cdti'"
      ]
     },
     "execution_count": 9,
     "metadata": {},
     "output_type": "execute_result"
    }
   ],
   "source": [
    "aid_name = dir_list[0]\n",
    "aid_name\n",
    "\n",
    "# aid_name = \"proyectos_de_i_+_d\"\n",
    "# aid_name = \"proyectos_de_i+d_aeroespacial_y_salud\""
   ]
  },
  {
   "cell_type": "code",
   "execution_count": null,
   "metadata": {},
   "outputs": [],
   "source": [
    "# load files\n",
    "aid_name = \"actuación_conjunta_isciii-cdti\"\n",
    "\n",
    "aid_path = f\"data/cdti/cdti-aids/{aid_name}\"\n",
    "description_path = f\"{aid_path}/{aid_name}_description.md\"\n",
    "card_path = f\"{aid_path}/{aid_name}_card.md\"\n",
    "metadata_path = f\"{aid_path}/{aid_name}_metadata.md\"\n",
    "\n",
    "# description\n",
    "loader = TextLoader(description_path, encoding=\"utf-8\")\n",
    "docs = loader.load()\n",
    "description = docs[0].page_content  # asumimos que es un único documento\n",
    "\n",
    "# card\n",
    "loader = TextLoader(card_path, encoding=\"utf-8\")\n",
    "docs = loader.load()\n",
    "card = docs[0].page_content  # asumimos que es un único documento\n",
    "\n",
    "# metadata\n",
    "loader = TextLoader(metadata_path, encoding=\"utf-8\")\n",
    "docs = loader.load()\n",
    "metadata = docs[0].page_content  # asumimos que es un único documento\n",
    "\n",
    "# join\n",
    "document = description + \"\\n\\n\" + card + \"\\n\\n\" + metadata\n"
   ]
  },
  {
   "cell_type": "code",
   "execution_count": 6,
   "metadata": {},
   "outputs": [],
   "source": [
    "EXTRACTION_SYSTEM_MESSAGE = \"Eres un asistente que extrae información de fichas administrativas en español.\"\n",
    "\n",
    "EXTRACTION_HUMAN_MESSAGE = \"\"\"\n",
    "A continuación tienes el contenido de una ficha técnica de una subvención en formato Markdown.\n",
    "\n",
    "Devuelve un objeto JSON con las siguientes claves extraídas del texto:\n",
    "- \"organismo\": Entidad que da la subvención. Algunos ejemplos son CDTI, SODERCAN, SPRI, etc.\n",
    "- \"nombre\": Título de la ayuda o subvención. Suele ser la primera línea del texto\n",
    "- \"linea\": Modalidades de la subvención. Solo la ayuda llamada \"proyectos de I+D\" tiene 5 lineas de ayudas llamadas modalidades. Devolver una lista de python esas 5 modalidades. Esl resto devolver una lista vacía (\"[]\").\n",
    "- \"fecha_inicio\": Fecha de inicio del plazo para presentar la solicitud, en formato dd/mm/yyyy si es posible. Si es todo el año, devolver el string \"Todo el año\" en fecha inicio y fecha fin.\n",
    "- \"fecha_fin\": Fecha de fin del plazo para presentar la solicitud, en formato dd/mm/yyyy si es posible. Si es todo el año, devolver el string \"Todo el año\" en fecha inicio y fecha fin.\n",
    "- \"objetivo: Objetivo general de la ayuda o actuación. Si existe el parrafo \"Objetivo General de la actuación\", devolver ese texto. En caso contrario, se construye un breve párrafo de objetivo de la ayuda a partir del texto Usa verbos en formato sustantivo (Creación en vez de crear, apoyo en vez de apoyar, etc).\n",
    "- \"beneficiarios\": Beneficiarios de la ayuda o actuación. Si existe el parrafo \"Beneficiarios\", devolver ese texto. En caso contrario, se construye una frase breve de beneficiarios a partir del texto.\n",
    "No expliques nada. Solo responde con un JSON válido.\n",
    "- \"anio\": Año de la convocatoria. Si no hace referencia al año, devolver el año actual (2025).\n",
    "- \"area\": Clasifica la convocatoria en una de las siguientes areas: [I+D, Innovación, Inversión, Internacional]\n",
    "- \"presupuesto_minimo\": Extrae el valor del presupuesto mínimo. Si no existe, devolver \"\".\n",
    "- \"duración_mínima\": Extrae la duración mínima de la ayuda en formato string (\"<duracion> meses\"). Si no existe, devolver \"\".\n",
    "- \"duración_máxima\": Extrae la duración máxima de la ayuda en formato string (\"<duracion> meses\"). Si aparece una fecha, calcula la duración máxima en meses desde la fecha de inicio de la convocatoria. Si no existe, devolver \"\".\n",
    "- \"intensidad_del_prestamo\": Extrae la información sobre la intensidad del préstamo. Suele ser un porcentaje, y se suele encontrar en el apartado \"características de la ayuda\". Devuelve el texto asociado, no solo el valor.\n",
    "- \"tipo_financiacion\": Extrae el tipo de la ayuda. Suele ser un apartado propio. Si no lo encuentras, devuelve un string vacío.\n",
    "- \"link_ficha_tecnica\": Extrae la url del apartado \"aid url\". Si no existe, devolver un string vacío.\n",
    "- \"link_convocatoria\": Extrae la url del apartado \"doc url\". Si no existe, devolver un string vacío.\n",
    "Contenido:\n",
    "--------------------\n",
    "{document}\n",
    "--------------------\n",
    "\"\"\"\n",
    "\n",
    "#Busca si la convocatoria tiene restricciones por zona geográfica. si no las tiene, devuelve \"No\""
   ]
  },
  {
   "cell_type": "code",
   "execution_count": 27,
   "metadata": {},
   "outputs": [],
   "source": [
    "# 4. Prompt que pide varios campos\n",
    "prompt = ChatPromptTemplate.from_messages([\n",
    "    SystemMessage(content=EXTRACTION_SYSTEM_MESSAGE),\n",
    "    (\"human\", EXTRACTION_HUMAN_MESSAGE)\n",
    "])\n",
    "\n",
    "# 5. Parser JSON para extraer la salida limpia\n",
    "json_parser = JsonOutputParser()\n",
    "\n",
    "# 6. Encadenar todo\n",
    "chain = prompt | llm | json_parser\n",
    "\n"
   ]
  },
  {
   "cell_type": "code",
   "execution_count": 28,
   "metadata": {},
   "outputs": [],
   "source": [
    "# 7. Ejecutar cadena con el documento\n",
    "result_extraction_chain = chain.invoke({\"document\": document})"
   ]
  },
  {
   "cell_type": "code",
   "execution_count": 29,
   "metadata": {},
   "outputs": [
    {
     "data": {
      "text/plain": [
       "{'organismo': 'CDTI',\n",
       " 'nombre': 'Actuación conjunta ISCIII-CDTI',\n",
       " 'linea': [],\n",
       " 'fecha_inicio': '10/07/2023',\n",
       " 'fecha_fin': '28/07/2023',\n",
       " 'objetivo': 'Impulso del empleo de calidad y mejora de la salud de la población española mediante el conocimiento científico, la innovación sanitaria de vanguardia y la utilización de datos como vectores de transformación.',\n",
       " 'beneficiarios': 'Empresas.',\n",
       " 'anio': '2023',\n",
       " 'area': 'I+D',\n",
       " 'presupuesto_minimo': '175.000 euros',\n",
       " 'duración_mínima': '12 meses',\n",
       " 'duración_máxima': '29 meses',\n",
       " 'intensidad_del_prestamo': 'Ayuda de hasta el 90% del presupuesto aprobado, siempre que no se superen los límites de intensidad máxima permitidos por la normativa comunitaria de ayudas de estado.',\n",
       " 'tipo_financiacion': 'Ayuda parcialmente reembolsable.',\n",
       " 'link_ficha_tecnica': 'https://www.cdti.es/node/180',\n",
       " 'link_convocatoria': 'https://www.cdti.es/sites/default/files/2023-09/ficha_apr_mision_salud_2023.pdf'}"
      ]
     },
     "execution_count": 29,
     "metadata": {},
     "output_type": "execute_result"
    }
   ],
   "source": [
    "result_extraction_chain\n"
   ]
  },
  {
   "cell_type": "code",
   "execution_count": null,
   "metadata": {},
   "outputs": [],
   "source": [
    "# campos para pdf:\n",
    "# intensidad_de_subvención\n",
    "# forma_y_plazo_de_cobro\n",
    "# minimis\n",
    "# region_de_aplicacion\n",
    "# tipo_de_consorcio\n",
    "# costes_elegibles"
   ]
  },
  {
   "cell_type": "code",
   "execution_count": null,
   "metadata": {},
   "outputs": [],
   "source": [
    "# prueba lectura pdf"
   ]
  },
  {
   "cell_type": "code",
   "execution_count": 31,
   "metadata": {},
   "outputs": [
    {
     "name": "stdout",
     "output_type": "stream",
     "text": [
      "data/cdti/cdti-aids/actuación_conjunta_isciii-cdti/ficha_apr_mision_salud_2023.pdf\n"
     ]
    }
   ],
   "source": [
    "import os\n",
    "\n",
    "def obtener_nombre_pdf(directorio):\n",
    "    for archivo in os.listdir(directorio):\n",
    "        if archivo.endswith(\".pdf\"):\n",
    "            return archivo  # Devuelve el nombre del primer PDF encontrado\n",
    "    return None  # Si no se encuentra ningún PDF\n",
    "\n",
    "\n",
    "aid_name = \"actuación_conjunta_isciii-cdti\"\n",
    "path_aid = f\"data/cdti/cdti-aids/{aid_name}\"\n",
    "\n",
    "\n",
    "pdf_file = obtener_nombre_pdf(path_aid)\n",
    "pdf_path = path_aid + \"/\" + pdf_file\n",
    "print(pdf_path)"
   ]
  },
  {
   "cell_type": "code",
   "execution_count": 32,
   "metadata": {},
   "outputs": [],
   "source": [
    "# test 1: rag dinamico leyendo pdf con pypdf2"
   ]
  },
  {
   "cell_type": "code",
   "execution_count": 33,
   "metadata": {},
   "outputs": [],
   "source": [
    "from langchain_community.document_loaders import PyPDFLoader\n",
    "from langchain_text_splitters import RecursiveCharacterTextSplitter\n",
    "from langchain_chroma import Chroma\n",
    "# from langchain_qdrant import QdrantVectorStore\n",
    "# from qdrant_client import QdrantClient\n",
    "\n",
    "loader = PyPDFLoader(pdf_path)\n",
    "documents = loader.load()\n",
    "splitter = RecursiveCharacterTextSplitter(chunk_size=1000, chunk_overlap=200)\n",
    "chunks = splitter.split_documents(documents)\n",
    "\n",
    "#chroma\n",
    "vector_store = Chroma.from_documents(\n",
    "    documents=chunks,\n",
    "    embedding=embedding_model\n",
    ")\n",
    "\n",
    "#qdrant\n",
    "# client = QdrantClient(\":memory:\")\n",
    "# vector_store = QdrantVectorStore(\n",
    "#     client=client,\n",
    "#     collection_name=\"test\",\n",
    "#     embedding=embedding_model,\n",
    "# )\n",
    "\n",
    "retriever = vector_store.as_retriever(\n",
    "    search_type=\"similarity\",\n",
    "    search_kwargs={\"k\": 5}\n",
    ")\n",
    "\n",
    "\n",
    "prompt = ChatPromptTemplate.from_template(\"\"\"\n",
    "Use the following pieces of context to answer the question at the end.\n",
    "If you don't know the answer, say that you don't know.\n",
    "Always answer in spanish.\n",
    "Context: {context}\n",
    "Question: {question}\n",
    "\"\"\")\n",
    "\n",
    "\n",
    "from langchain_core.runnables import RunnablePassthrough\n",
    "from langchain_core.output_parsers import StrOutputParser\n",
    "\n",
    "rag_chain = (\n",
    "    {\"context\": retriever,\n",
    "    \"question\": RunnablePassthrough()}\n",
    "    | prompt\n",
    "    | llm\n",
    "    | StrOutputParser()\n",
    ")"
   ]
  },
  {
   "cell_type": "code",
   "execution_count": 34,
   "metadata": {},
   "outputs": [],
   "source": [
    "result_rag_extraction = {}"
   ]
  },
  {
   "cell_type": "code",
   "execution_count": 35,
   "metadata": {},
   "outputs": [
    {
     "name": "stdout",
     "output_type": "stream",
     "text": [
      "Intensidad de subvención según tipología de proyecto:\n",
      "\n",
      "1. Investigación Industrial  \n",
      " • Pequeña Empresa: 70%  \n",
      " • Mediana Empresa: 60%  \n",
      " • Gran Empresa: 50%\n",
      "\n",
      "2. Desarrollo experimental  \n",
      " • Pequeña Empresa: 45%  \n",
      " • Mediana Empresa: 35%  \n",
      " • Gran Empresa: 25%\n",
      "\n",
      "Modalidad de la ayuda:  \n",
      "– Ayuda Parcialmente Reembolsable con cobertura de hasta el 90% del presupuesto total aprobado, sujeto a los límites de intensidad máxima de ayuda establecidos por la normativa comunitaria (Reglamento (UE) n.º 651/2014).\n"
     ]
    }
   ],
   "source": [
    "# campos para pdf:\n",
    "# intensidad_de_subvención\n",
    "# forma_y_plazo_de_cobro\n",
    "# minimis\n",
    "# region_de_aplicacion\n",
    "# tipo_de_consorcio\n",
    "# costes_elegibles\n",
    "\n",
    "aid_intensity_prompt = \"Busca información sobre la intensidad de subvención y devuelve el resultado de forma esquemática. Responde directamente, sin añadir texto introductorio o de finalización explicativos.\"\n",
    "result_rag_extraction['intensidad_de_subvencion'] = rag_chain.invoke(aid_intensity_prompt)\n",
    "print(result_rag_extraction['intensidad_de_subvencion'])\n"
   ]
  },
  {
   "cell_type": "code",
   "execution_count": 36,
   "metadata": {},
   "outputs": [
    {
     "name": "stdout",
     "output_type": "stream",
     "text": [
      "• Condiciones previas al cobro:\n",
      " – El beneficiario debe estar al corriente en el cumplimiento de las obligaciones tributarias y frente a la Seguridad Social.  \n",
      " – Debe haberse realizado el pago de las obligaciones de reembolso de otras ayudas, préstamos o anticipos concedidos anteriormente por el CDTI o con cargo a los Presupuestos Generales del Estado.  \n",
      " – Se deberá acreditar que no existe una orden de recuperación pendiente tras decisiones anteriores de la Comisión Europea relativas a ayudas ilegales o incompatibles con el mercado común.\n",
      "\n",
      "• Forma de cobro:\n",
      " – La empresa puede acogerse a una de las alternativas de anticipo ofrecidas.  \n",
      " – Dicho anticipo se abonará en el momento de la formalización del contrato de préstamo.\n",
      "\n",
      "• Plazo de cobro:\n",
      " – El pago (anticipo) se efectúa en el momento en que se formaliza el contrato de préstamo, siempre y cuando se cumplan las condiciones y requisitos indicados.\n"
     ]
    }
   ],
   "source": [
    "payment_method_prompt = \"Busca información sobre las formas y plazos de cobro de la subvención y devuelve el resultado de forma esquemática. Responde directamente, sin añadir texto introductorio o de finalización explicativos.\"\n",
    "result_rag_extraction['forma_y_plazo_de_cobro'] = rag_chain.invoke(payment_method_prompt)\n",
    "print(result_rag_extraction['forma_y_plazo_de_cobro'])"
   ]
  },
  {
   "cell_type": "code",
   "execution_count": null,
   "metadata": {},
   "outputs": [
    {
     "name": "stdout",
     "output_type": "stream",
     "text": [
      "{'organismo': '', 'nombre': '', 'linea': [], 'fecha_inicio': '', 'fecha_fin': '', 'objetivo': '', 'beneficiarios': '', 'anio': '2025', 'area': '', 'presupuesto_minimo': '', 'duración_mínima': '', 'duración_máxima': '', 'intensidad_del_prestamo': '', 'tipo_financiacion': '', 'link_ficha_tecnica': '', 'link_convocatoria': '', 'disponibilidad_minimis': 'No'}\n"
     ]
    }
   ],
   "source": [
    "minimis_prompt = \"Busca si la subvención aparece información sobre disponibilidad de minimis. Responde únicamente 'Si' o 'No'.\"\n",
    "result_rag_extraction['minimis'] = chain.invoke(minimis_prompt)\n",
    "print(result_rag_extraction['minimis'])"
   ]
  },
  {
   "cell_type": "code",
   "execution_count": 38,
   "metadata": {},
   "outputs": [
    {
     "name": "stdout",
     "output_type": "stream",
     "text": [
      "No\n"
     ]
    }
   ],
   "source": [
    "# application_region_prompt = \"Busca información sobre la región de aplicación de la subvención, donde tiene que estar localizada geográficamente la empresa candidata, y devuelve el resultado de forma esquemática. Responde directamente, sin añadir texto introductorio o de finalización explicativos.\"\n",
    "# application_region_prompt = \"Busca información sobre requisitos geofráficos de las empresas candidatas para optar a la subvención y devuelve el resultado de forma esquemática. Responde directamente, sin añadir texto introductorio o de finalización explicativos.\"\n",
    "\n",
    "application_region_prompt = \"Busca si la convocatoria tiene restricciones por zona geográfica. si no las tiene, devuelve únicamente 'No'\"\n",
    "result_rag_extraction['region_de_aplicacion'] = rag_chain.invoke(application_region_prompt)\n",
    "print(result_rag_extraction['region_de_aplicacion'])"
   ]
  },
  {
   "cell_type": "code",
   "execution_count": 39,
   "metadata": {},
   "outputs": [
    {
     "name": "stdout",
     "output_type": "stream",
     "text": [
      "El consorcio puede estar formado por una empresa y hasta 5 entidades colaboradoras, siendo un máximo de 6 participantes en total.\n"
     ]
    }
   ],
   "source": [
    "consortium_type_prompt = \"Busca información sobre el tipo de consorcio de la subvención (numero de empresas aceptables o colaboradoras) y devuelve el resultado de forma concisa. Responde directamente, sin añadir texto introductorio o de finalización explicativos.\"\n",
    "result_rag_extraction['tipo_de_consorcio'] = rag_chain.invoke(consortium_type_prompt)\n",
    "print(result_rag_extraction['tipo_de_consorcio'])"
   ]
  },
  {
   "cell_type": "code",
   "execution_count": 40,
   "metadata": {},
   "outputs": [
    {
     "name": "stdout",
     "output_type": "stream",
     "text": [
      "• Costes elegibles:\n",
      "  - Consultoría y servicios equivalentes destinados de forma exclusiva al proyecto, excluyendo la consultoría vinculada a la solicitud.\n",
      "  - Gastos generales suplementarios que se deriven directamente del proyecto de investigación.\n",
      "  - Otros gastos de explotación, incluyendo costes de material, suministros y productos similares, siempre que se deriven directamente del proyecto.\n",
      "  - Gasto del informe realizado por el auditor (máximo 2.000 euros por beneficiario e hito).\n",
      "  - Subcontratación de actividades (colaboración con empresas, universidades, centros tecnológicos, ICTS u otros organismos de investigación).\n",
      "  - Amortización de gastos en inmovilizado (se admite solo la amortización del coste elegible).\n",
      "  - Leasing, siempre que el activo permanezca en la empresa y las cuotas se consideren como coste asimilable.\n",
      "\n",
      "• Exclusiones:\n",
      "  - Costes de consultoría asociados a la solicitud del proyecto.\n",
      "  - Impuesto sobre el Valor Añadido o impuesto equivalente.\n",
      "  - Alquileres de licencias o servicios en la nube, salvo que se identifiquen y contabilicen específicamente para el proyecto.\n"
     ]
    }
   ],
   "source": [
    "eligible_costs_prompt = \"Busca información sobre los costes elegibles de la subvención y devuelve el resultado de forma esquemática y resumida. Responde directamente, sin añadir texto introductorio o de finalización explicativos.\"\n",
    "result_rag_extraction['costes_elegibles'] = rag_chain.invoke(eligible_costs_prompt)\n",
    "print(result_rag_extraction['costes_elegibles'])"
   ]
  },
  {
   "cell_type": "code",
   "execution_count": null,
   "metadata": {},
   "outputs": [],
   "source": []
  },
  {
   "cell_type": "code",
   "execution_count": null,
   "metadata": {},
   "outputs": [],
   "source": []
  },
  {
   "cell_type": "code",
   "execution_count": null,
   "metadata": {},
   "outputs": [],
   "source": []
  },
  {
   "cell_type": "code",
   "execution_count": 80,
   "metadata": {},
   "outputs": [],
   "source": [
    "import pdfplumber\n",
    "\n",
    "def page_elements_ordered_by_top(page):\n",
    "    # Extraer bloques de texto (usamos extract_words con joins)\n",
    "    words = page.extract_words(use_text_flow=True, keep_blank_chars=True)\n",
    "    text_blocks = []\n",
    "\n",
    "    if words:\n",
    "        block = \"\"\n",
    "        last_bottom = None\n",
    "        for w in words:\n",
    "            if last_bottom and abs(w['top'] - last_bottom) > 10:\n",
    "                if block.strip():\n",
    "                    text_blocks.append({\"top\": last_bottom, \"type\": \"text\", \"content\": block.strip()})\n",
    "                block = \"\"\n",
    "            block += w['text'] + \" \"\n",
    "            last_bottom = w['bottom']\n",
    "        if block.strip():\n",
    "            text_blocks.append({\"top\": last_bottom, \"type\": \"text\", \"content\": block.strip()})\n",
    "\n",
    "    # Extraer tablas\n",
    "    tables = page.extract_tables()\n",
    "    table_blocks = []\n",
    "    for table in tables:\n",
    "        if table:\n",
    "            # Estimamos la posición vertical usando el primer valor visible de la tabla\n",
    "            table_blocks.append({\"top\": page.bbox[1] + 1, \"type\": \"table\", \"content\": table})\n",
    "\n",
    "    # Combinar y ordenar por posición\n",
    "    return sorted(text_blocks + table_blocks, key=lambda x: x[\"top\"])\n",
    "\n",
    "def pdf_to_markdown_structured(pdf_path):\n",
    "    markdown_output = \"\"\n",
    "\n",
    "    with pdfplumber.open(pdf_path) as pdf:\n",
    "        for i, page in enumerate(pdf.pages):\n",
    "            markdown_output += f\"\\n\\n## Página {i + 1}\\n\\n\"\n",
    "            elements = page_elements_ordered_by_top(page)\n",
    "\n",
    "            for element in elements:\n",
    "                if element[\"type\"] == \"text\":\n",
    "                    markdown_output += element[\"content\"] + \"\\n\\n\"\n",
    "                elif element[\"type\"] == \"table\":\n",
    "                    table = element[\"content\"]\n",
    "                    headers = table[0]\n",
    "                    markdown_output += \"| \" + \" | \".join(headers) + \" |\\n\"\n",
    "                    markdown_output += \"| \" + \" | \".join([\"---\"] * len(headers)) + \" |\\n\"\n",
    "                    for row in table[1:]:\n",
    "                        markdown_output += \"| \" + \" | \".join(row or [\"\"] * len(headers)) + \" |\\n\"\n",
    "                    markdown_output += \"\\n\"\n",
    "\n",
    "    return markdown_output"
   ]
  },
  {
   "cell_type": "code",
   "execution_count": null,
   "metadata": {},
   "outputs": [],
   "source": []
  },
  {
   "cell_type": "code",
   "execution_count": 81,
   "metadata": {},
   "outputs": [],
   "source": [
    "import os\n",
    "\n",
    "def obtener_nombre_pdf(directorio):\n",
    "    for archivo in os.listdir(directorio):\n",
    "        if archivo.endswith(\".pdf\"):\n",
    "            return archivo  # Devuelve el nombre del primer PDF encontrado\n",
    "    return None  # Si no se encuentra ningún PDF"
   ]
  },
  {
   "cell_type": "code",
   "execution_count": 82,
   "metadata": {},
   "outputs": [
    {
     "name": "stdout",
     "output_type": "stream",
     "text": [
      "data/cdti/cdti-aids/actuación_conjunta_isciii-cdti/ficha_apr_mision_salud_2023.pdf\n"
     ]
    }
   ],
   "source": [
    "aid_name = \"actuación_conjunta_isciii-cdti\"\n",
    "path_aid = f\"data/cdti/cdti-aids/{aid_name}\"\n",
    "\n",
    "\n",
    "pdf_file = obtener_nombre_pdf(path_aid)\n",
    "pdf_path = path_aid + \"/\" + pdf_file\n",
    "print(pdf_path)"
   ]
  },
  {
   "cell_type": "code",
   "execution_count": 83,
   "metadata": {},
   "outputs": [
    {
     "name": "stderr",
     "output_type": "stream",
     "text": [
      "CropBox missing from /Page, defaulting to MediaBox\n",
      "CropBox missing from /Page, defaulting to MediaBox\n",
      "CropBox missing from /Page, defaulting to MediaBox\n",
      "CropBox missing from /Page, defaulting to MediaBox\n",
      "CropBox missing from /Page, defaulting to MediaBox\n",
      "CropBox missing from /Page, defaulting to MediaBox\n",
      "CropBox missing from /Page, defaulting to MediaBox\n",
      "CropBox missing from /Page, defaulting to MediaBox\n",
      "CropBox missing from /Page, defaulting to MediaBox\n",
      "CropBox missing from /Page, defaulting to MediaBox\n",
      "CropBox missing from /Page, defaulting to MediaBox\n",
      "CropBox missing from /Page, defaulting to MediaBox\n",
      "CropBox missing from /Page, defaulting to MediaBox\n",
      "CropBox missing from /Page, defaulting to MediaBox\n",
      "CropBox missing from /Page, defaulting to MediaBox\n",
      "CropBox missing from /Page, defaulting to MediaBox\n",
      "CropBox missing from /Page, defaulting to MediaBox\n",
      "CropBox missing from /Page, defaulting to MediaBox\n",
      "CropBox missing from /Page, defaulting to MediaBox\n",
      "CropBox missing from /Page, defaulting to MediaBox\n",
      "CropBox missing from /Page, defaulting to MediaBox\n",
      "CropBox missing from /Page, defaulting to MediaBox\n",
      "CropBox missing from /Page, defaulting to MediaBox\n",
      "CropBox missing from /Page, defaulting to MediaBox\n",
      "CropBox missing from /Page, defaulting to MediaBox\n",
      "CropBox missing from /Page, defaulting to MediaBox\n",
      "CropBox missing from /Page, defaulting to MediaBox\n",
      "CropBox missing from /Page, defaulting to MediaBox\n",
      "CropBox missing from /Page, defaulting to MediaBox\n",
      "CropBox missing from /Page, defaulting to MediaBox\n",
      "CropBox missing from /Page, defaulting to MediaBox\n",
      "CropBox missing from /Page, defaulting to MediaBox\n",
      "CropBox missing from /Page, defaulting to MediaBox\n",
      "CropBox missing from /Page, defaulting to MediaBox\n",
      "CropBox missing from /Page, defaulting to MediaBox\n",
      "CropBox missing from /Page, defaulting to MediaBox\n",
      "CropBox missing from /Page, defaulting to MediaBox\n",
      "CropBox missing from /Page, defaulting to MediaBox\n",
      "CropBox missing from /Page, defaulting to MediaBox\n",
      "CropBox missing from /Page, defaulting to MediaBox\n",
      "CropBox missing from /Page, defaulting to MediaBox\n",
      "CropBox missing from /Page, defaulting to MediaBox\n",
      "CropBox missing from /Page, defaulting to MediaBox\n",
      "CropBox missing from /Page, defaulting to MediaBox\n",
      "CropBox missing from /Page, defaulting to MediaBox\n",
      "CropBox missing from /Page, defaulting to MediaBox\n",
      "CropBox missing from /Page, defaulting to MediaBox\n",
      "CropBox missing from /Page, defaulting to MediaBox\n",
      "CropBox missing from /Page, defaulting to MediaBox\n",
      "CropBox missing from /Page, defaulting to MediaBox\n",
      "CropBox missing from /Page, defaulting to MediaBox\n",
      "CropBox missing from /Page, defaulting to MediaBox\n",
      "CropBox missing from /Page, defaulting to MediaBox\n",
      "CropBox missing from /Page, defaulting to MediaBox\n"
     ]
    },
    {
     "name": "stdout",
     "output_type": "stream",
     "text": [
      "✅ Markdown generado en 'salida.md'\n"
     ]
    }
   ],
   "source": [
    "\n",
    "\n",
    "markdown = pdf_to_markdown_structured(pdf_path)\n",
    "with open(\"salida.md\", \"w\", encoding=\"utf-8\") as f:\n",
    "    f.write(markdown)\n",
    "print(\"✅ Markdown generado en 'salida.md'\")"
   ]
  },
  {
   "cell_type": "code",
   "execution_count": null,
   "metadata": {},
   "outputs": [],
   "source": []
  },
  {
   "cell_type": "code",
   "execution_count": null,
   "metadata": {},
   "outputs": [],
   "source": []
  }
 ],
 "metadata": {
  "kernelspec": {
   "display_name": ".venv",
   "language": "python",
   "name": "python3"
  },
  "language_info": {
   "codemirror_mode": {
    "name": "ipython",
    "version": 3
   },
   "file_extension": ".py",
   "mimetype": "text/x-python",
   "name": "python",
   "nbconvert_exporter": "python",
   "pygments_lexer": "ipython3",
   "version": "3.12.0"
  }
 },
 "nbformat": 4,
 "nbformat_minor": 2
}
