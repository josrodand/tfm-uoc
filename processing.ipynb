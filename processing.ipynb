{
 "cells": [
  {
   "cell_type": "code",
   "execution_count": null,
   "metadata": {},
   "outputs": [],
   "source": [
    "# azure openai from langchain"
   ]
  },
  {
   "cell_type": "code",
   "execution_count": 16,
   "metadata": {},
   "outputs": [],
   "source": [
    "from langchain_openai import AzureChatOpenAI\n",
    "from dotenv import load_dotenv\n",
    "import os\n",
    "\n",
    "\n"
   ]
  },
  {
   "cell_type": "code",
   "execution_count": null,
   "metadata": {},
   "outputs": [],
   "source": [
    "load_dotenv()\n",
    "\n",
    "# Variables necesarias para Azure OpenAI\n",
    "api_key = os.getenv(\"AZURE_OPENAI_API_KEY\")\n",
    "api_base = os.getenv(\"AZURE_OPENAI_ENDPOINT\")\n",
    "deployment = os.getenv(\"03_MINI_DEPLOYMENT\")  # nombre del *deployment*, NO del modelo\n",
    "api_version = os.getenv(\"AZURE_OPENAI_API_VERSION\")  # Ajusta según la versión de tu Azure OpenAI\n",
    "\n",
    "\n",
    "# ------------------ 3. Configurar modelo Azure ------------------ #\n",
    "llm = AzureChatOpenAI(\n",
    "    openai_api_key=api_key,\n",
    "    azure_endpoint=api_base,\n",
    "    deployment_name=deployment,\n",
    "    api_version=api_version,\n",
    "    # temperature=0\n",
    ")"
   ]
  },
  {
   "cell_type": "code",
   "execution_count": 15,
   "metadata": {},
   "outputs": [
    {
     "name": "stdout",
     "output_type": "stream",
     "text": [
      "¡Hola! ¿En qué puedo ayudarte hoy?\n"
     ]
    }
   ],
   "source": [
    "response = llm.invoke(\"hola\")\n",
    "print(response.content)"
   ]
  },
  {
   "cell_type": "code",
   "execution_count": 53,
   "metadata": {},
   "outputs": [],
   "source": [
    "# test lectura de ficha\n",
    "\n",
    "from langchain.document_loaders import TextLoader\n",
    "from langchain_core.runnables import Runnable\n",
    "from langchain_core.prompts import ChatPromptTemplate\n",
    "from langchain_core.output_parsers import StrOutputParser, JsonOutputParser\n",
    "from langchain_core.messages import SystemMessage"
   ]
  },
  {
   "cell_type": "code",
   "execution_count": 126,
   "metadata": {},
   "outputs": [],
   "source": [
    "# load files\n",
    "aid_name = \"actuación_conjunta_isciii-cdti\"\n",
    "# aid_name = \"proyectos_de_i_+_d\"\n",
    "# aid_name = \"proyectos_de_i+d_aeroespacial_y_salud\"\n",
    "\n",
    "aid_path = f\"data/cdti/cdti-aids/{aid_name}\"\n",
    "description_path = f\"{aid_path}/{aid_name}_description.md\"\n",
    "card_path = f\"{aid_path}/{aid_name}_card.md\"\n",
    "\n",
    "\n",
    "# description\n",
    "loader = TextLoader(description_path, encoding=\"utf-8\")\n",
    "docs = loader.load()\n",
    "description = docs[0].page_content  # asumimos que es un único documento\n",
    "\n",
    "# card\n",
    "loader = TextLoader(card_path, encoding=\"utf-8\")\n",
    "docs = loader.load()\n",
    "card = docs[0].page_content  # asumimos que es un único documento\n",
    "\n",
    "# join\n",
    "document = description + \"\\n\\n\" + card\n"
   ]
  },
  {
   "cell_type": "code",
   "execution_count": 152,
   "metadata": {},
   "outputs": [],
   "source": [
    "EXTRACTION_SYSTEM_MESSAGE = \"Eres un asistente que extrae información de fichas administrativas en español.\"\n",
    "\n",
    "EXTRACTION_HUMAN_MESSAGE = \"\"\"\n",
    "A continuación tienes el contenido de una ficha técnica de una subvención en formato Markdown.\n",
    "\n",
    "Devuelve un objeto JSON con las siguientes claves extraídas del texto:\n",
    "- \"organismo\": Entidad que da la subvención. Algunos ejemplos son CDTI, SODERCAN, SPRI, etc.\n",
    "- \"nombre\": Título de la ayuda o subvención. Suele ser la primera línea del texto\n",
    "- \"linea\": Modalidades de la subvención. Solo la ayuda llamada \"proyectos de I+D\" tiene 5 lineas de ayudas llamadas modalidades. Devolver una lista de python esas 5 modalidades. Esl resto devolver una lista vacía (\"[]\").\n",
    "- \"fecha_inicio\": Fecha de inicio del plazo para presentar la solicitud, en formato dd/mm/yyyy si es posible. Si es todo el año, devolver el string \"Todo el año\" en fecha inicio y fecha fin.\n",
    "- \"fecha_fin\": Fecha de fin del plazo para presentar la solicitud, en formato dd/mm/yyyy si es posible. Si es todo el año, devolver el string \"Todo el año\" en fecha inicio y fecha fin.\n",
    "- \"objetivo: Objetivo general de la ayuda o actuación. Si existe el parrafo \"Objetivo General de la actuación\", devolver ese texto. En caso contrario, se construye un breve párrafo de objetivo de la ayuda a partir del texto Usa verbos en formato sustantivo (Creación en vez de crear, apoyo en vez de apoyar, etc).\n",
    "- \"beneficiarios\": Beneficiarios de la ayuda o actuación. Si existe el parrafo \"Beneficiarios\", devolver ese texto. En caso contrario, se construye una frase breve de beneficiarios a partir del texto.\n",
    "No expliques nada. Solo responde con un JSON válido.\n",
    "- \"anio\": Año de la convocatoria. Si no hace referencia al año, devolver el año actual (2025).\n",
    "- \"area\": Clasifica la convocatoria en una de las siguientes areas: [I+D, Innovación, Inversión, Internacional]\n",
    "- \"presupuesto_minimo\": Extrae el valor del presupuesto mínimo. Si no existe, devolver \"\".\n",
    "- \"duración_mínima\": Extrae la duración mínima de la ayuda en formato string (\"<duracion> meses\"). Si no existe, devolver \"\".\n",
    "- \"duración_máxima\": Extrae la duración máxima de la ayuda en formato string (\"<duracion> meses\"). Si aparece una fecha, calcula la duración máxima en meses desde la fecha de inicio de la convocatoria. Si no existe, devolver \"\".\n",
    "Contenido:\n",
    "--------------------\n",
    "{document}\n",
    "--------------------\n",
    "\"\"\""
   ]
  },
  {
   "cell_type": "code",
   "execution_count": 153,
   "metadata": {},
   "outputs": [],
   "source": [
    "# 4. Prompt que pide varios campos\n",
    "prompt = ChatPromptTemplate.from_messages([\n",
    "    SystemMessage(content=EXTRACTION_SYSTEM_MESSAGE),\n",
    "    (\"human\", EXTRACTION_HUMAN_MESSAGE)\n",
    "])\n",
    "\n",
    "# 5. Parser JSON para extraer la salida limpia\n",
    "json_parser = JsonOutputParser()\n",
    "\n",
    "# 6. Encadenar todo\n",
    "chain = prompt | llm | json_parser\n",
    "\n"
   ]
  },
  {
   "cell_type": "code",
   "execution_count": 154,
   "metadata": {},
   "outputs": [],
   "source": [
    "# 7. Ejecutar cadena con el documento\n",
    "resultado = chain.invoke({\"document\": document})"
   ]
  },
  {
   "cell_type": "code",
   "execution_count": 155,
   "metadata": {},
   "outputs": [
    {
     "data": {
      "text/plain": [
       "{'organismo': 'CDTI',\n",
       " 'nombre': 'Actuación conjunta ISCIII-CDTI',\n",
       " 'linea': [],\n",
       " 'fecha_inicio': '10/07/2023',\n",
       " 'fecha_fin': '28/07/2023',\n",
       " 'objetivo': 'Impulso del empleo de calidad, mejora de la salud de la población, coordinación de capacidades científicas y empresariales, y fomento del desarrollo de productos de diagnóstico clínico y medicamentos estratégicos en el marco del PERTE de Salud.',\n",
       " 'beneficiarios': 'Empresas.',\n",
       " 'anio': 2023,\n",
       " 'area': 'I+D',\n",
       " 'presupuesto_minimo': '175.000 euros',\n",
       " 'duración_mínima': '12 meses',\n",
       " 'duración_máxima': '30 meses'}"
      ]
     },
     "execution_count": 155,
     "metadata": {},
     "output_type": "execute_result"
    }
   ],
   "source": [
    "resultado\n"
   ]
  },
  {
   "cell_type": "code",
   "execution_count": 102,
   "metadata": {},
   "outputs": [
    {
     "data": {
      "text/plain": [
       "dict"
      ]
     },
     "execution_count": 102,
     "metadata": {},
     "output_type": "execute_result"
    }
   ],
   "source": [
    "type(resultado)"
   ]
  },
  {
   "cell_type": "code",
   "execution_count": 103,
   "metadata": {},
   "outputs": [
    {
     "data": {
      "text/plain": [
       "list"
      ]
     },
     "execution_count": 103,
     "metadata": {},
     "output_type": "execute_result"
    }
   ],
   "source": [
    "type(resultado['linea'])"
   ]
  }
 ],
 "metadata": {
  "kernelspec": {
   "display_name": ".venv",
   "language": "python",
   "name": "python3"
  },
  "language_info": {
   "codemirror_mode": {
    "name": "ipython",
    "version": 3
   },
   "file_extension": ".py",
   "mimetype": "text/x-python",
   "name": "python",
   "nbconvert_exporter": "python",
   "pygments_lexer": "ipython3",
   "version": "3.12.0"
  }
 },
 "nbformat": 4,
 "nbformat_minor": 2
}
