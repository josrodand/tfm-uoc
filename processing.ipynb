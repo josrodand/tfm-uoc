{
 "cells": [
  {
   "cell_type": "code",
   "execution_count": 1,
   "metadata": {},
   "outputs": [],
   "source": [
    "# azure openai from langchain"
   ]
  },
  {
   "cell_type": "code",
   "execution_count": 92,
   "metadata": {},
   "outputs": [],
   "source": [
    "from langchain_openai import AzureChatOpenAI\n",
    "from langchain_openai import AzureOpenAIEmbeddings\n",
    "from dotenv import load_dotenv\n",
    "import os\n",
    "\n",
    "\n"
   ]
  },
  {
   "cell_type": "code",
   "execution_count": 96,
   "metadata": {},
   "outputs": [],
   "source": [
    "load_dotenv()\n",
    "\n",
    "# Variables necesarias para Azure OpenAI\n",
    "api_key = os.getenv(\"AZURE_OPENAI_API_KEY\")\n",
    "api_base = os.getenv(\"AZURE_OPENAI_ENDPOINT\")\n",
    "deployment = os.getenv(\"03_MINI_DEPLOYMENT\")  # nombre del *deployment*, NO del modelo\n",
    "api_version = os.getenv(\"AZURE_OPENAI_API_VERSION\")  # Ajusta según la versión de tu Azure OpenAI\n",
    "\n",
    "\n",
    "# ------------------ 3. Configurar modelo Azure ------------------ #\n",
    "llm = AzureChatOpenAI(\n",
    "    openai_api_key=api_key,\n",
    "    azure_endpoint=api_base,\n",
    "    deployment_name=deployment,\n",
    "    api_version=api_version,\n",
    "    # temperature=0\n",
    ")\n",
    "\n",
    "# embeddings\n",
    "embedding_model = AzureOpenAIEmbeddings(\n",
    "    model=\"text-embedding-3-large\",\n",
    "    azure_endpoint=api_base,\n",
    "    api_key=api_key,\n",
    "    openai_api_version=api_version\n",
    ")\n",
    "\n",
    "\n",
    "\n"
   ]
  },
  {
   "cell_type": "code",
   "execution_count": 4,
   "metadata": {},
   "outputs": [
    {
     "name": "stdout",
     "output_type": "stream",
     "text": [
      "¡Hola! ¿En qué puedo ayudarte hoy?\n"
     ]
    }
   ],
   "source": [
    "response = llm.invoke(\"hola\")\n",
    "print(response.content)"
   ]
  },
  {
   "cell_type": "code",
   "execution_count": 5,
   "metadata": {},
   "outputs": [],
   "source": [
    "# test lectura de ficha\n",
    "\n",
    "from langchain.document_loaders import TextLoader\n",
    "from langchain_core.runnables import Runnable\n",
    "from langchain_core.prompts import ChatPromptTemplate\n",
    "from langchain_core.output_parsers import StrOutputParser, JsonOutputParser\n",
    "from langchain_core.messages import SystemMessage"
   ]
  },
  {
   "cell_type": "code",
   "execution_count": 48,
   "metadata": {},
   "outputs": [],
   "source": [
    "# load files\n",
    "aid_name = \"actuación_conjunta_isciii-cdti\"\n",
    "# aid_name = \"proyectos_de_i_+_d\"\n",
    "# aid_name = \"proyectos_de_i+d_aeroespacial_y_salud\"\n",
    "\n",
    "aid_path = f\"data/cdti/cdti-aids/{aid_name}\"\n",
    "description_path = f\"{aid_path}/{aid_name}_description.md\"\n",
    "card_path = f\"{aid_path}/{aid_name}_card.md\"\n",
    "metadata_path = f\"{aid_path}/{aid_name}_metadata.md\"\n",
    "\n",
    "# description\n",
    "loader = TextLoader(description_path, encoding=\"utf-8\")\n",
    "docs = loader.load()\n",
    "description = docs[0].page_content  # asumimos que es un único documento\n",
    "\n",
    "# card\n",
    "loader = TextLoader(card_path, encoding=\"utf-8\")\n",
    "docs = loader.load()\n",
    "card = docs[0].page_content  # asumimos que es un único documento\n",
    "\n",
    "# metadata\n",
    "loader = TextLoader(metadata_path, encoding=\"utf-8\")\n",
    "docs = loader.load()\n",
    "metadata = docs[0].page_content  # asumimos que es un único documento\n",
    "\n",
    "# join\n",
    "document = description + \"\\n\\n\" + card + \"\\n\\n\" + metadata\n"
   ]
  },
  {
   "cell_type": "code",
   "execution_count": 49,
   "metadata": {},
   "outputs": [],
   "source": [
    "EXTRACTION_SYSTEM_MESSAGE = \"Eres un asistente que extrae información de fichas administrativas en español.\"\n",
    "\n",
    "EXTRACTION_HUMAN_MESSAGE = \"\"\"\n",
    "A continuación tienes el contenido de una ficha técnica de una subvención en formato Markdown.\n",
    "\n",
    "Devuelve un objeto JSON con las siguientes claves extraídas del texto:\n",
    "- \"organismo\": Entidad que da la subvención. Algunos ejemplos son CDTI, SODERCAN, SPRI, etc.\n",
    "- \"nombre\": Título de la ayuda o subvención. Suele ser la primera línea del texto\n",
    "- \"linea\": Modalidades de la subvención. Solo la ayuda llamada \"proyectos de I+D\" tiene 5 lineas de ayudas llamadas modalidades. Devolver una lista de python esas 5 modalidades. Esl resto devolver una lista vacía (\"[]\").\n",
    "- \"fecha_inicio\": Fecha de inicio del plazo para presentar la solicitud, en formato dd/mm/yyyy si es posible. Si es todo el año, devolver el string \"Todo el año\" en fecha inicio y fecha fin.\n",
    "- \"fecha_fin\": Fecha de fin del plazo para presentar la solicitud, en formato dd/mm/yyyy si es posible. Si es todo el año, devolver el string \"Todo el año\" en fecha inicio y fecha fin.\n",
    "- \"objetivo: Objetivo general de la ayuda o actuación. Si existe el parrafo \"Objetivo General de la actuación\", devolver ese texto. En caso contrario, se construye un breve párrafo de objetivo de la ayuda a partir del texto Usa verbos en formato sustantivo (Creación en vez de crear, apoyo en vez de apoyar, etc).\n",
    "- \"beneficiarios\": Beneficiarios de la ayuda o actuación. Si existe el parrafo \"Beneficiarios\", devolver ese texto. En caso contrario, se construye una frase breve de beneficiarios a partir del texto.\n",
    "No expliques nada. Solo responde con un JSON válido.\n",
    "- \"anio\": Año de la convocatoria. Si no hace referencia al año, devolver el año actual (2025).\n",
    "- \"area\": Clasifica la convocatoria en una de las siguientes areas: [I+D, Innovación, Inversión, Internacional]\n",
    "- \"presupuesto_minimo\": Extrae el valor del presupuesto mínimo. Si no existe, devolver \"\".\n",
    "- \"duración_mínima\": Extrae la duración mínima de la ayuda en formato string (\"<duracion> meses\"). Si no existe, devolver \"\".\n",
    "- \"duración_máxima\": Extrae la duración máxima de la ayuda en formato string (\"<duracion> meses\"). Si aparece una fecha, calcula la duración máxima en meses desde la fecha de inicio de la convocatoria. Si no existe, devolver \"\".\n",
    "- \"intensidad_del_prestamo\": Extrae la información sobre la intensidad del préstamo. Suele ser un porcentaje, y se suele encontrar en el apartado \"características de la ayuda\". Devuelve el texto asociado, no solo el valor.\n",
    "- \"tipo_financiacion\": Extrae el tipo de la ayuda. Suele ser un apartado propio. Si no lo encuentras, devuelve un string vacío.\n",
    "- \"region_de_aplicacion\": Busca si la convocatoria tiene restricciones por zona geográfica. si no las tiene, devuelve \"No\".\n",
    "- \"tipo_de_consorcio\": Extrae el tipo de consorcio de la ayuda a partir de la información proporcionada. Si no se encuentra información relativa al tipo de consorcio, devolver un string vacío.\n",
    "- \"link_ficha_tecnica\": Extrae la url del apartado \"aid url\". Si no existe, devolver un string vacío.\n",
    "- \"link_convocatoria\": Extrae la url del apartado \"doc url\". Si no existe, devolver un string vacío.\n",
    "Contenido:\n",
    "--------------------\n",
    "{document}\n",
    "--------------------\n",
    "\"\"\""
   ]
  },
  {
   "cell_type": "code",
   "execution_count": 50,
   "metadata": {},
   "outputs": [],
   "source": [
    "# 4. Prompt que pide varios campos\n",
    "prompt = ChatPromptTemplate.from_messages([\n",
    "    SystemMessage(content=EXTRACTION_SYSTEM_MESSAGE),\n",
    "    (\"human\", EXTRACTION_HUMAN_MESSAGE)\n",
    "])\n",
    "\n",
    "# 5. Parser JSON para extraer la salida limpia\n",
    "json_parser = JsonOutputParser()\n",
    "\n",
    "# 6. Encadenar todo\n",
    "chain = prompt | llm | json_parser\n",
    "\n"
   ]
  },
  {
   "cell_type": "code",
   "execution_count": 51,
   "metadata": {},
   "outputs": [],
   "source": [
    "# 7. Ejecutar cadena con el documento\n",
    "resultado = chain.invoke({\"document\": document})"
   ]
  },
  {
   "cell_type": "code",
   "execution_count": 52,
   "metadata": {},
   "outputs": [
    {
     "data": {
      "text/plain": [
       "{'organismo': 'CDTI',\n",
       " 'nombre': 'Actuación conjunta ISCIII-CDTI',\n",
       " 'linea': [],\n",
       " 'fecha_inicio': '10/07/2023',\n",
       " 'fecha_fin': '28/07/2023',\n",
       " 'objetivo': 'Impulso del empleo de calidad, fortalecimiento de la salud pública y coordinación de capacidades científicas y empresariales para el desarrollo de productos de diagnóstico clínico y medicamentos estratégicos emergentes.',\n",
       " 'beneficiarios': 'Empresas.',\n",
       " 'anio': '2023',\n",
       " 'area': 'I+D',\n",
       " 'presupuesto_minimo': '175.000 euros',\n",
       " 'duración_mínima': '12 meses',\n",
       " 'duración_máxima': '29 meses',\n",
       " 'intensidad_del_prestamo': 'Ayuda de hasta el 90% del presupuesto aprobado, siempre que no se superen los límites de intensidad máxima permitidos por la normativa comunitaria de ayudas de estado.',\n",
       " 'tipo_financiacion': 'Ayuda parcialmente reembolsable.',\n",
       " 'region_de_aplicacion': 'No',\n",
       " 'tipo_de_consorcio': '',\n",
       " 'link_ficha_tecnica': 'https://www.cdti.es/node/180',\n",
       " 'link_convocatoria': 'https://www.cdti.es/sites/default/files/2023-09/ficha_apr_mision_salud_2023.pdf'}"
      ]
     },
     "execution_count": 52,
     "metadata": {},
     "output_type": "execute_result"
    }
   ],
   "source": [
    "resultado\n"
   ]
  },
  {
   "cell_type": "code",
   "execution_count": null,
   "metadata": {},
   "outputs": [],
   "source": [
    "# campos para pdf:\n",
    "# intensidad_de_subvención\n",
    "# forma_y_plazo_de_cobro\n",
    "# minimis\n",
    "# region_de_aplicacion\n",
    "# tipo_de_consorcio\n",
    "# costes_elegibles"
   ]
  },
  {
   "cell_type": "code",
   "execution_count": null,
   "metadata": {},
   "outputs": [],
   "source": [
    "# prueba lectura pdf"
   ]
  },
  {
   "cell_type": "code",
   "execution_count": 84,
   "metadata": {},
   "outputs": [
    {
     "name": "stdout",
     "output_type": "stream",
     "text": [
      "data/cdti/cdti-aids/actuación_conjunta_isciii-cdti/ficha_apr_mision_salud_2023.pdf\n"
     ]
    }
   ],
   "source": [
    "import os\n",
    "\n",
    "def obtener_nombre_pdf(directorio):\n",
    "    for archivo in os.listdir(directorio):\n",
    "        if archivo.endswith(\".pdf\"):\n",
    "            return archivo  # Devuelve el nombre del primer PDF encontrado\n",
    "    return None  # Si no se encuentra ningún PDF\n",
    "\n",
    "\n",
    "aid_name = \"actuación_conjunta_isciii-cdti\"\n",
    "path_aid = f\"data/cdti/cdti-aids/{aid_name}\"\n",
    "\n",
    "\n",
    "pdf_file = obtener_nombre_pdf(path_aid)\n",
    "pdf_path = path_aid + \"/\" + pdf_file\n",
    "print(pdf_path)"
   ]
  },
  {
   "cell_type": "code",
   "execution_count": null,
   "metadata": {},
   "outputs": [],
   "source": [
    "# test 1: rag dinamico leyendo pdf con pypdf2"
   ]
  },
  {
   "cell_type": "code",
   "execution_count": null,
   "metadata": {},
   "outputs": [
    {
     "ename": "ValueError",
     "evalue": "Collection test not found",
     "output_type": "error",
     "traceback": [
      "\u001b[31m---------------------------------------------------------------------------\u001b[39m",
      "\u001b[31mValueError\u001b[39m                                Traceback (most recent call last)",
      "\u001b[36mCell\u001b[39m\u001b[36m \u001b[39m\u001b[32mIn[120]\u001b[39m\u001b[32m, line 20\u001b[39m\n\u001b[32m     12\u001b[39m \u001b[38;5;66;03m#chroma\u001b[39;00m\n\u001b[32m     13\u001b[39m \u001b[38;5;66;03m# vector_store = Chroma.from_documents(\u001b[39;00m\n\u001b[32m     14\u001b[39m \u001b[38;5;66;03m#     documents=chunks,\u001b[39;00m\n\u001b[32m   (...)\u001b[39m\u001b[32m     17\u001b[39m \n\u001b[32m     18\u001b[39m \u001b[38;5;66;03m#qdrant\u001b[39;00m\n\u001b[32m     19\u001b[39m client = QdrantClient(\u001b[33m\"\u001b[39m\u001b[33m:memory:\u001b[39m\u001b[33m\"\u001b[39m)\n\u001b[32m---> \u001b[39m\u001b[32m20\u001b[39m vector_store = \u001b[43mQdrantVectorStore\u001b[49m\u001b[43m(\u001b[49m\n\u001b[32m     21\u001b[39m \u001b[43m    \u001b[49m\u001b[43mclient\u001b[49m\u001b[43m=\u001b[49m\u001b[43mclient\u001b[49m\u001b[43m,\u001b[49m\n\u001b[32m     22\u001b[39m \u001b[43m    \u001b[49m\u001b[43mcollection_name\u001b[49m\u001b[43m=\u001b[49m\u001b[33;43m\"\u001b[39;49m\u001b[33;43mtest\u001b[39;49m\u001b[33;43m\"\u001b[39;49m\u001b[43m,\u001b[49m\n\u001b[32m     23\u001b[39m \u001b[43m    \u001b[49m\u001b[43membedding\u001b[49m\u001b[43m=\u001b[49m\u001b[43membedding_model\u001b[49m\u001b[43m,\u001b[49m\n\u001b[32m     24\u001b[39m \u001b[43m)\u001b[49m\n\u001b[32m     26\u001b[39m retriever = vector_store.as_retriever(\n\u001b[32m     27\u001b[39m     search_type=\u001b[33m\"\u001b[39m\u001b[33msimilarity\u001b[39m\u001b[33m\"\u001b[39m,\n\u001b[32m     28\u001b[39m     search_kwargs={\u001b[33m\"\u001b[39m\u001b[33mk\u001b[39m\u001b[33m\"\u001b[39m: \u001b[32m5\u001b[39m}\n\u001b[32m     29\u001b[39m )\n\u001b[32m     32\u001b[39m prompt = ChatPromptTemplate.from_template(\u001b[33m\"\"\"\u001b[39m\n\u001b[32m     33\u001b[39m \u001b[33mUse the following pieces of context to answer the question at the end.\u001b[39m\n\u001b[32m     34\u001b[39m \u001b[33mIf you don\u001b[39m\u001b[33m'\u001b[39m\u001b[33mt know the answer, say that you don\u001b[39m\u001b[33m'\u001b[39m\u001b[33mt know.\u001b[39m\n\u001b[32m   (...)\u001b[39m\u001b[32m     37\u001b[39m \u001b[33mQuestion: \u001b[39m\u001b[38;5;132;01m{question}\u001b[39;00m\n\u001b[32m     38\u001b[39m \u001b[33m\"\"\"\u001b[39m)\n",
      "\u001b[36mFile \u001b[39m\u001b[32mc:\\Users\\jlrodriguez.andreu\\dev\\formacion\\TFM\\tfm-uoc\\.venv\\Lib\\site-packages\\langchain_qdrant\\qdrant.py:213\u001b[39m, in \u001b[36mQdrantVectorStore.__init__\u001b[39m\u001b[34m(self, client, collection_name, embedding, retrieval_mode, vector_name, content_payload_key, metadata_payload_key, distance, sparse_embedding, sparse_vector_name, validate_embeddings, validate_collection_config)\u001b[39m\n\u001b[32m    210\u001b[39m     \u001b[38;5;28mself\u001b[39m._validate_embeddings(retrieval_mode, embedding, sparse_embedding)\n\u001b[32m    212\u001b[39m \u001b[38;5;28;01mif\u001b[39;00m validate_collection_config:\n\u001b[32m--> \u001b[39m\u001b[32m213\u001b[39m     \u001b[38;5;28;43mself\u001b[39;49m\u001b[43m.\u001b[49m\u001b[43m_validate_collection_config\u001b[49m\u001b[43m(\u001b[49m\n\u001b[32m    214\u001b[39m \u001b[43m        \u001b[49m\u001b[43mclient\u001b[49m\u001b[43m,\u001b[49m\n\u001b[32m    215\u001b[39m \u001b[43m        \u001b[49m\u001b[43mcollection_name\u001b[49m\u001b[43m,\u001b[49m\n\u001b[32m    216\u001b[39m \u001b[43m        \u001b[49m\u001b[43mretrieval_mode\u001b[49m\u001b[43m,\u001b[49m\n\u001b[32m    217\u001b[39m \u001b[43m        \u001b[49m\u001b[43mvector_name\u001b[49m\u001b[43m,\u001b[49m\n\u001b[32m    218\u001b[39m \u001b[43m        \u001b[49m\u001b[43msparse_vector_name\u001b[49m\u001b[43m,\u001b[49m\n\u001b[32m    219\u001b[39m \u001b[43m        \u001b[49m\u001b[43mdistance\u001b[49m\u001b[43m,\u001b[49m\n\u001b[32m    220\u001b[39m \u001b[43m        \u001b[49m\u001b[43membedding\u001b[49m\u001b[43m,\u001b[49m\n\u001b[32m    221\u001b[39m \u001b[43m    \u001b[49m\u001b[43m)\u001b[49m\n\u001b[32m    223\u001b[39m \u001b[38;5;28mself\u001b[39m._client = client\n\u001b[32m    224\u001b[39m \u001b[38;5;28mself\u001b[39m.collection_name = collection_name\n",
      "\u001b[36mFile \u001b[39m\u001b[32mc:\\Users\\jlrodriguez.andreu\\dev\\formacion\\TFM\\tfm-uoc\\.venv\\Lib\\site-packages\\langchain_qdrant\\qdrant.py:1050\u001b[39m, in \u001b[36mQdrantVectorStore._validate_collection_config\u001b[39m\u001b[34m(cls, client, collection_name, retrieval_mode, vector_name, sparse_vector_name, distance, embedding)\u001b[39m\n\u001b[32m   1038\u001b[39m \u001b[38;5;129m@classmethod\u001b[39m\n\u001b[32m   1039\u001b[39m \u001b[38;5;28;01mdef\u001b[39;00m\u001b[38;5;250m \u001b[39m\u001b[34m_validate_collection_config\u001b[39m(\n\u001b[32m   1040\u001b[39m     \u001b[38;5;28mcls\u001b[39m: Type[QdrantVectorStore],\n\u001b[32m   (...)\u001b[39m\u001b[32m   1047\u001b[39m     embedding: Optional[Embeddings],\n\u001b[32m   1048\u001b[39m ) -> \u001b[38;5;28;01mNone\u001b[39;00m:\n\u001b[32m   1049\u001b[39m     \u001b[38;5;28;01mif\u001b[39;00m retrieval_mode == RetrievalMode.DENSE:\n\u001b[32m-> \u001b[39m\u001b[32m1050\u001b[39m         \u001b[38;5;28;43mcls\u001b[39;49m\u001b[43m.\u001b[49m\u001b[43m_validate_collection_for_dense\u001b[49m\u001b[43m(\u001b[49m\n\u001b[32m   1051\u001b[39m \u001b[43m            \u001b[49m\u001b[43mclient\u001b[49m\u001b[43m,\u001b[49m\u001b[43m \u001b[49m\u001b[43mcollection_name\u001b[49m\u001b[43m,\u001b[49m\u001b[43m \u001b[49m\u001b[43mvector_name\u001b[49m\u001b[43m,\u001b[49m\u001b[43m \u001b[49m\u001b[43mdistance\u001b[49m\u001b[43m,\u001b[49m\u001b[43m \u001b[49m\u001b[43membedding\u001b[49m\n\u001b[32m   1052\u001b[39m \u001b[43m        \u001b[49m\u001b[43m)\u001b[49m\n\u001b[32m   1054\u001b[39m     \u001b[38;5;28;01melif\u001b[39;00m retrieval_mode == RetrievalMode.SPARSE:\n\u001b[32m   1055\u001b[39m         \u001b[38;5;28mcls\u001b[39m._validate_collection_for_sparse(\n\u001b[32m   1056\u001b[39m             client, collection_name, sparse_vector_name\n\u001b[32m   1057\u001b[39m         )\n",
      "\u001b[36mFile \u001b[39m\u001b[32mc:\\Users\\jlrodriguez.andreu\\dev\\formacion\\TFM\\tfm-uoc\\.venv\\Lib\\site-packages\\langchain_qdrant\\qdrant.py:1076\u001b[39m, in \u001b[36mQdrantVectorStore._validate_collection_for_dense\u001b[39m\u001b[34m(cls, client, collection_name, vector_name, distance, dense_embeddings)\u001b[39m\n\u001b[32m   1067\u001b[39m \u001b[38;5;129m@classmethod\u001b[39m\n\u001b[32m   1068\u001b[39m \u001b[38;5;28;01mdef\u001b[39;00m\u001b[38;5;250m \u001b[39m\u001b[34m_validate_collection_for_dense\u001b[39m(\n\u001b[32m   1069\u001b[39m     \u001b[38;5;28mcls\u001b[39m: Type[QdrantVectorStore],\n\u001b[32m   (...)\u001b[39m\u001b[32m   1074\u001b[39m     dense_embeddings: Union[Embeddings, List[\u001b[38;5;28mfloat\u001b[39m], \u001b[38;5;28;01mNone\u001b[39;00m],\n\u001b[32m   1075\u001b[39m ) -> \u001b[38;5;28;01mNone\u001b[39;00m:\n\u001b[32m-> \u001b[39m\u001b[32m1076\u001b[39m     collection_info = \u001b[43mclient\u001b[49m\u001b[43m.\u001b[49m\u001b[43mget_collection\u001b[49m\u001b[43m(\u001b[49m\u001b[43mcollection_name\u001b[49m\u001b[43m=\u001b[49m\u001b[43mcollection_name\u001b[49m\u001b[43m)\u001b[49m\n\u001b[32m   1077\u001b[39m     vector_config = collection_info.config.params.vectors\n\u001b[32m   1079\u001b[39m     \u001b[38;5;28;01mif\u001b[39;00m \u001b[38;5;28misinstance\u001b[39m(vector_config, Dict):\n\u001b[32m   1080\u001b[39m         \u001b[38;5;66;03m# vector_config is a Dict[str, VectorParams]\u001b[39;00m\n",
      "\u001b[36mFile \u001b[39m\u001b[32mc:\\Users\\jlrodriguez.andreu\\dev\\formacion\\TFM\\tfm-uoc\\.venv\\Lib\\site-packages\\qdrant_client\\qdrant_client.py:2153\u001b[39m, in \u001b[36mQdrantClient.get_collection\u001b[39m\u001b[34m(self, collection_name, **kwargs)\u001b[39m\n\u001b[32m   2143\u001b[39m \u001b[38;5;250m\u001b[39m\u001b[33;03m\"\"\"Get detailed information about specified existing collection\u001b[39;00m\n\u001b[32m   2144\u001b[39m \n\u001b[32m   2145\u001b[39m \u001b[33;03mArgs:\u001b[39;00m\n\u001b[32m   (...)\u001b[39m\u001b[32m   2149\u001b[39m \u001b[33;03m    Detailed information about the collection\u001b[39;00m\n\u001b[32m   2150\u001b[39m \u001b[33;03m\"\"\"\u001b[39;00m\n\u001b[32m   2151\u001b[39m \u001b[38;5;28;01massert\u001b[39;00m \u001b[38;5;28mlen\u001b[39m(kwargs) == \u001b[32m0\u001b[39m, \u001b[33mf\u001b[39m\u001b[33m\"\u001b[39m\u001b[33mUnknown arguments: \u001b[39m\u001b[38;5;132;01m{\u001b[39;00m\u001b[38;5;28mlist\u001b[39m(kwargs.keys())\u001b[38;5;132;01m}\u001b[39;00m\u001b[33m\"\u001b[39m\n\u001b[32m-> \u001b[39m\u001b[32m2153\u001b[39m \u001b[38;5;28;01mreturn\u001b[39;00m \u001b[38;5;28;43mself\u001b[39;49m\u001b[43m.\u001b[49m\u001b[43m_client\u001b[49m\u001b[43m.\u001b[49m\u001b[43mget_collection\u001b[49m\u001b[43m(\u001b[49m\u001b[43mcollection_name\u001b[49m\u001b[43m=\u001b[49m\u001b[43mcollection_name\u001b[49m\u001b[43m,\u001b[49m\u001b[43m \u001b[49m\u001b[43m*\u001b[49m\u001b[43m*\u001b[49m\u001b[43mkwargs\u001b[49m\u001b[43m)\u001b[49m\n",
      "\u001b[36mFile \u001b[39m\u001b[32mc:\\Users\\jlrodriguez.andreu\\dev\\formacion\\TFM\\tfm-uoc\\.venv\\Lib\\site-packages\\qdrant_client\\local\\qdrant_local.py:947\u001b[39m, in \u001b[36mQdrantLocal.get_collection\u001b[39m\u001b[34m(self, collection_name, **kwargs)\u001b[39m\n\u001b[32m    946\u001b[39m \u001b[38;5;28;01mdef\u001b[39;00m\u001b[38;5;250m \u001b[39m\u001b[34mget_collection\u001b[39m(\u001b[38;5;28mself\u001b[39m, collection_name: \u001b[38;5;28mstr\u001b[39m, **kwargs: Any) -> types.CollectionInfo:\n\u001b[32m--> \u001b[39m\u001b[32m947\u001b[39m     collection = \u001b[38;5;28;43mself\u001b[39;49m\u001b[43m.\u001b[49m\u001b[43m_get_collection\u001b[49m\u001b[43m(\u001b[49m\u001b[43mcollection_name\u001b[49m\u001b[43m)\u001b[49m\n\u001b[32m    948\u001b[39m     \u001b[38;5;28;01mreturn\u001b[39;00m collection.info()\n",
      "\u001b[36mFile \u001b[39m\u001b[32mc:\\Users\\jlrodriguez.andreu\\dev\\formacion\\TFM\\tfm-uoc\\.venv\\Lib\\site-packages\\qdrant_client\\local\\qdrant_local.py:173\u001b[39m, in \u001b[36mQdrantLocal._get_collection\u001b[39m\u001b[34m(self, collection_name)\u001b[39m\n\u001b[32m    171\u001b[39m \u001b[38;5;28;01mif\u001b[39;00m collection_name \u001b[38;5;129;01min\u001b[39;00m \u001b[38;5;28mself\u001b[39m.aliases:\n\u001b[32m    172\u001b[39m     \u001b[38;5;28;01mreturn\u001b[39;00m \u001b[38;5;28mself\u001b[39m.collections[\u001b[38;5;28mself\u001b[39m.aliases[collection_name]]\n\u001b[32m--> \u001b[39m\u001b[32m173\u001b[39m \u001b[38;5;28;01mraise\u001b[39;00m \u001b[38;5;167;01mValueError\u001b[39;00m(\u001b[33mf\u001b[39m\u001b[33m\"\u001b[39m\u001b[33mCollection \u001b[39m\u001b[38;5;132;01m{\u001b[39;00mcollection_name\u001b[38;5;132;01m}\u001b[39;00m\u001b[33m not found\u001b[39m\u001b[33m\"\u001b[39m)\n",
      "\u001b[31mValueError\u001b[39m: Collection test not found"
     ]
    }
   ],
   "source": [
    "from langchain_community.document_loaders import PyPDFLoader\n",
    "from langchain_text_splitters import RecursiveCharacterTextSplitter\n",
    "from langchain_chroma import Chroma\n",
    "from langchain_qdrant import QdrantVectorStore\n",
    "from qdrant_client import QdrantClient\n",
    "\n",
    "loader = PyPDFLoader(pdf_path)\n",
    "documents = loader.load()\n",
    "splitter = RecursiveCharacterTextSplitter(chunk_size=1000, chunk_overlap=200)\n",
    "chunks = splitter.split_documents(documents)\n",
    "\n",
    "#chroma\n",
    "vector_store = Chroma.from_documents(\n",
    "    documents=chunks,\n",
    "    embedding=embedding_model\n",
    ")\n",
    "\n",
    "#qdrant\n",
    "# client = QdrantClient(\":memory:\")\n",
    "# vector_store = QdrantVectorStore(\n",
    "#     client=client,\n",
    "#     collection_name=\"test\",\n",
    "#     embedding=embedding_model,\n",
    "# )\n",
    "\n",
    "retriever = vector_store.as_retriever(\n",
    "    search_type=\"similarity\",\n",
    "    search_kwargs={\"k\": 5}\n",
    ")\n",
    "\n",
    "\n",
    "prompt = ChatPromptTemplate.from_template(\"\"\"\n",
    "Use the following pieces of context to answer the question at the end.\n",
    "If you don't know the answer, say that you don't know.\n",
    "Always answer in spanish.\n",
    "Context: {context}\n",
    "Question: {question}\n",
    "\"\"\")\n",
    "\n",
    "\n",
    "from langchain_core.runnables import RunnablePassthrough\n",
    "from langchain_core.output_parsers import StrOutputParser\n",
    "\n",
    "chain = (\n",
    "    {\"context\": retriever,\n",
    "    \"question\": RunnablePassthrough()}\n",
    "    | prompt\n",
    "    | llm\n",
    "    | StrOutputParser()\n",
    ")"
   ]
  },
  {
   "cell_type": "code",
   "execution_count": null,
   "metadata": {},
   "outputs": [
    {
     "name": "stdout",
     "output_type": "stream",
     "text": [
      "• Investigación Industrial  \n",
      " – Pequeña Empresa: 70%  \n",
      " – Mediana Empresa: 60%  \n",
      " – Gran Empresa: 50%  \n",
      "  • Requisito: Colaboración efectiva (entre empresas, incluyendo al menos una PYME, o entre empresa y organismo de investigación con al menos el 10% de costes subvencionables y derecho a publicar resultados)\n",
      "\n",
      "• Amplia difusión de los resultados del proyecto  \n",
      " – Pequeña Empresa: 80%  \n",
      " – Mediana Empresa: 75%  \n",
      " – Gran Empresa: 65%\n",
      "\n",
      "• Desarrollo experimental  \n",
      " – Pequeña Empresa: 45%  \n",
      " – Mediana Empresa: 35%  \n",
      " – Gran Empresa: 25%  \n",
      "  • Requisito: Colaboración efectiva (entre empresas, incluyendo al menos una PYME, o entre empresa y organismos con condiciones similares a las indicadas)\n"
     ]
    }
   ],
   "source": [
    "# campos para pdf:\n",
    "# intensidad_de_subvención\n",
    "# forma_y_plazo_de_cobro\n",
    "# minimis\n",
    "# region_de_aplicacion\n",
    "# tipo_de_consorcio\n",
    "# costes_elegibles\n",
    "\n",
    "aid_intensity_prompt = \"Busca información sobre la intensidad de subvención y devuelve el resultado de forma esquemática. Responde directamente, sin añadir texto introductorio o de finalización explicativos.\"\n",
    "intensidad_de_subvencion = chain.invoke(aid_intensity_prompt)\n",
    "print(intensidad_de_subvencion)\n"
   ]
  },
  {
   "cell_type": "code",
   "execution_count": 105,
   "metadata": {},
   "outputs": [
    {
     "name": "stdout",
     "output_type": "stream",
     "text": [
      "• Formas de cobro:\n",
      "  - Se podrá abonar mediante un anticipo, abonado en el momento de la formalización del contrato de préstamo.\n",
      "  - El pago está condicionado a que el beneficiario esté al corriente en el cumplimiento de las obligaciones tributarias, de la Seguridad Social y de reembolso de ayudas o préstamos previos.\n",
      "\n",
      "• Plazos:\n",
      "  - El contrato de préstamo debe formalizarse en un plazo máximo de tres meses a partir de la comunicación de aprobación de la ayuda.\n",
      "  - Si la formalización no se realiza en dicho plazo por causas imputables a la beneficiaria, la concesión de la ayuda se considerará revocada.\n",
      "  - Con solicitud debidamente justificada, se podrá autorizar una prórroga adicional máxima de un mes para la formalización del contrato.\n"
     ]
    }
   ],
   "source": [
    "payment_method_prompt = \"Busca información sobre las formas y plazos de cobro de la subvención y devuelve el resultado de forma esquemática. Responde directamente, sin añadir texto introductorio o de finalización explicativos.\"\n",
    "forma_y_plazo_de_cobro = chain.invoke(payment_method_prompt)\n",
    "print(forma_y_plazo_de_cobro)"
   ]
  },
  {
   "cell_type": "code",
   "execution_count": null,
   "metadata": {},
   "outputs": [
    {
     "name": "stdout",
     "output_type": "stream",
     "text": [
      "No\n"
     ]
    }
   ],
   "source": [
    "payment_method_prompt = \"Busca si la subvención aparece información sobre disponibilidad de minimis. Responde únicamente 'Si' o 'No'.\"\n",
    "minimis = chain.invoke(payment_method_prompt)\n",
    "print(minimis)"
   ]
  },
  {
   "cell_type": "code",
   "execution_count": 116,
   "metadata": {},
   "outputs": [
    {
     "name": "stdout",
     "output_type": "stream",
     "text": [
      "• No se especifica en los documentos una región geográfica concreta en la que deba estar ubicada la empresa candidata.  \n",
      "• Únicamente se establece la necesidad de incluir el domicilio fiscal del solicitante y la ubicación del proyecto en la solicitud de ayuda.\n"
     ]
    }
   ],
   "source": [
    "application_region_prompt = \"Busca información sobre la región de aplicación de la subvención, donde tiene que estar localizada geográficamente la empresa candidata, y devuelve el resultado de forma esquemática. Responde directamente, sin añadir texto introductorio o de finalización explicativos.\"\n",
    "region_de_aplicacion = chain.invoke(application_region_prompt)\n",
    "print(region_de_aplicacion)"
   ]
  },
  {
   "cell_type": "code",
   "execution_count": 117,
   "metadata": {},
   "outputs": [
    {
     "name": "stdout",
     "output_type": "stream",
     "text": [
      "El consorcio se puede conformar con una empresa y hasta un máximo de 6 entidades participantes en total (incluyendo centros y organismos de investigación). Si participan varias empresas, una de ellas actuará como coordinadora.\n"
     ]
    }
   ],
   "source": [
    "consortium_type_prompt = \"Busca información sobre el tipo de consorcio de la subvención (numero de empresas aceptables o colaboradoras) y devuelve el resultado de forma concisa. Responde directamente, sin añadir texto introductorio o de finalización explicativos.\"\n",
    "tipo_de_consorcio = chain.invoke(consortium_type_prompt)\n",
    "print(tipo_de_consorcio)"
   ]
  },
  {
   "cell_type": "code",
   "execution_count": 119,
   "metadata": {},
   "outputs": [
    {
     "name": "stdout",
     "output_type": "stream",
     "text": [
      "• Gastos de personal:  \n",
      "  - Investigadores, técnicos y personal auxiliar dedicados al proyecto.\n",
      "\n",
      "• Costes de instrumental y material:  \n",
      "  - Costes de adquisición y, en su caso, la amortización proporcional al periodo de uso en el proyecto.\n",
      "\n",
      "• Investigación contractual, conocimientos y patentes:  \n",
      "  - Adquiridas u obtenidas por licencia de fuentes externas a precios de mercado.\n",
      "\n",
      "• Consultoría y servicios equivalentes:  \n",
      "  - Destinados de manera exclusiva al proyecto (excluidas las actividades asociadas a la solicitud).\n",
      "\n",
      "• Gastos generales suplementarios:  \n",
      "  - Directamente derivados del proyecto de investigación.\n",
      "\n",
      "• Otros gastos de explotación:  \n",
      "  - Incluyen costes de material, suministros y productos directamente derivados del proyecto.\n",
      "\n",
      "• Gasto derivado del informe del auditor:  \n",
      "  - Límite máximo de 2.000 euros por beneficiario e hito.\n",
      "\n",
      "• Leasing:  \n",
      "  - Elegible si el activo se queda en la empresa, tratándose como amortización;  \n",
      "  - Se excluye el renting por considerarse un alquiler de gastos generales.\n",
      "\n",
      "• Exclusiones generales:  \n",
      "  - No se financia el Impuesto sobre el Valor Añadido ni impuestos equivalentes.  \n",
      "  - No son elegibles gastos de homologación o marcado CE por no considerarse actividades de I+D.\n"
     ]
    }
   ],
   "source": [
    "eligible_costs_prompt = \"Busca información sobre los costes elegibles de la subvención y devuelve el resultado de forma esquemática. Responde directamente, sin añadir texto introductorio o de finalización explicativos.\"\n",
    "costes_elegibles = chain.invoke(eligible_costs_prompt)\n",
    "print(costes_elegibles)"
   ]
  },
  {
   "cell_type": "code",
   "execution_count": null,
   "metadata": {},
   "outputs": [],
   "source": []
  },
  {
   "cell_type": "code",
   "execution_count": null,
   "metadata": {},
   "outputs": [],
   "source": []
  },
  {
   "cell_type": "code",
   "execution_count": null,
   "metadata": {},
   "outputs": [],
   "source": []
  },
  {
   "cell_type": "code",
   "execution_count": 80,
   "metadata": {},
   "outputs": [],
   "source": [
    "import pdfplumber\n",
    "\n",
    "def page_elements_ordered_by_top(page):\n",
    "    # Extraer bloques de texto (usamos extract_words con joins)\n",
    "    words = page.extract_words(use_text_flow=True, keep_blank_chars=True)\n",
    "    text_blocks = []\n",
    "\n",
    "    if words:\n",
    "        block = \"\"\n",
    "        last_bottom = None\n",
    "        for w in words:\n",
    "            if last_bottom and abs(w['top'] - last_bottom) > 10:\n",
    "                if block.strip():\n",
    "                    text_blocks.append({\"top\": last_bottom, \"type\": \"text\", \"content\": block.strip()})\n",
    "                block = \"\"\n",
    "            block += w['text'] + \" \"\n",
    "            last_bottom = w['bottom']\n",
    "        if block.strip():\n",
    "            text_blocks.append({\"top\": last_bottom, \"type\": \"text\", \"content\": block.strip()})\n",
    "\n",
    "    # Extraer tablas\n",
    "    tables = page.extract_tables()\n",
    "    table_blocks = []\n",
    "    for table in tables:\n",
    "        if table:\n",
    "            # Estimamos la posición vertical usando el primer valor visible de la tabla\n",
    "            table_blocks.append({\"top\": page.bbox[1] + 1, \"type\": \"table\", \"content\": table})\n",
    "\n",
    "    # Combinar y ordenar por posición\n",
    "    return sorted(text_blocks + table_blocks, key=lambda x: x[\"top\"])\n",
    "\n",
    "def pdf_to_markdown_structured(pdf_path):\n",
    "    markdown_output = \"\"\n",
    "\n",
    "    with pdfplumber.open(pdf_path) as pdf:\n",
    "        for i, page in enumerate(pdf.pages):\n",
    "            markdown_output += f\"\\n\\n## Página {i + 1}\\n\\n\"\n",
    "            elements = page_elements_ordered_by_top(page)\n",
    "\n",
    "            for element in elements:\n",
    "                if element[\"type\"] == \"text\":\n",
    "                    markdown_output += element[\"content\"] + \"\\n\\n\"\n",
    "                elif element[\"type\"] == \"table\":\n",
    "                    table = element[\"content\"]\n",
    "                    headers = table[0]\n",
    "                    markdown_output += \"| \" + \" | \".join(headers) + \" |\\n\"\n",
    "                    markdown_output += \"| \" + \" | \".join([\"---\"] * len(headers)) + \" |\\n\"\n",
    "                    for row in table[1:]:\n",
    "                        markdown_output += \"| \" + \" | \".join(row or [\"\"] * len(headers)) + \" |\\n\"\n",
    "                    markdown_output += \"\\n\"\n",
    "\n",
    "    return markdown_output"
   ]
  },
  {
   "cell_type": "code",
   "execution_count": null,
   "metadata": {},
   "outputs": [],
   "source": []
  },
  {
   "cell_type": "code",
   "execution_count": 81,
   "metadata": {},
   "outputs": [],
   "source": [
    "import os\n",
    "\n",
    "def obtener_nombre_pdf(directorio):\n",
    "    for archivo in os.listdir(directorio):\n",
    "        if archivo.endswith(\".pdf\"):\n",
    "            return archivo  # Devuelve el nombre del primer PDF encontrado\n",
    "    return None  # Si no se encuentra ningún PDF"
   ]
  },
  {
   "cell_type": "code",
   "execution_count": 82,
   "metadata": {},
   "outputs": [
    {
     "name": "stdout",
     "output_type": "stream",
     "text": [
      "data/cdti/cdti-aids/actuación_conjunta_isciii-cdti/ficha_apr_mision_salud_2023.pdf\n"
     ]
    }
   ],
   "source": [
    "aid_name = \"actuación_conjunta_isciii-cdti\"\n",
    "path_aid = f\"data/cdti/cdti-aids/{aid_name}\"\n",
    "\n",
    "\n",
    "pdf_file = obtener_nombre_pdf(path_aid)\n",
    "pdf_path = path_aid + \"/\" + pdf_file\n",
    "print(pdf_path)"
   ]
  },
  {
   "cell_type": "code",
   "execution_count": 83,
   "metadata": {},
   "outputs": [
    {
     "name": "stderr",
     "output_type": "stream",
     "text": [
      "CropBox missing from /Page, defaulting to MediaBox\n",
      "CropBox missing from /Page, defaulting to MediaBox\n",
      "CropBox missing from /Page, defaulting to MediaBox\n",
      "CropBox missing from /Page, defaulting to MediaBox\n",
      "CropBox missing from /Page, defaulting to MediaBox\n",
      "CropBox missing from /Page, defaulting to MediaBox\n",
      "CropBox missing from /Page, defaulting to MediaBox\n",
      "CropBox missing from /Page, defaulting to MediaBox\n",
      "CropBox missing from /Page, defaulting to MediaBox\n",
      "CropBox missing from /Page, defaulting to MediaBox\n",
      "CropBox missing from /Page, defaulting to MediaBox\n",
      "CropBox missing from /Page, defaulting to MediaBox\n",
      "CropBox missing from /Page, defaulting to MediaBox\n",
      "CropBox missing from /Page, defaulting to MediaBox\n",
      "CropBox missing from /Page, defaulting to MediaBox\n",
      "CropBox missing from /Page, defaulting to MediaBox\n",
      "CropBox missing from /Page, defaulting to MediaBox\n",
      "CropBox missing from /Page, defaulting to MediaBox\n",
      "CropBox missing from /Page, defaulting to MediaBox\n",
      "CropBox missing from /Page, defaulting to MediaBox\n",
      "CropBox missing from /Page, defaulting to MediaBox\n",
      "CropBox missing from /Page, defaulting to MediaBox\n",
      "CropBox missing from /Page, defaulting to MediaBox\n",
      "CropBox missing from /Page, defaulting to MediaBox\n",
      "CropBox missing from /Page, defaulting to MediaBox\n",
      "CropBox missing from /Page, defaulting to MediaBox\n",
      "CropBox missing from /Page, defaulting to MediaBox\n",
      "CropBox missing from /Page, defaulting to MediaBox\n",
      "CropBox missing from /Page, defaulting to MediaBox\n",
      "CropBox missing from /Page, defaulting to MediaBox\n",
      "CropBox missing from /Page, defaulting to MediaBox\n",
      "CropBox missing from /Page, defaulting to MediaBox\n",
      "CropBox missing from /Page, defaulting to MediaBox\n",
      "CropBox missing from /Page, defaulting to MediaBox\n",
      "CropBox missing from /Page, defaulting to MediaBox\n",
      "CropBox missing from /Page, defaulting to MediaBox\n",
      "CropBox missing from /Page, defaulting to MediaBox\n",
      "CropBox missing from /Page, defaulting to MediaBox\n",
      "CropBox missing from /Page, defaulting to MediaBox\n",
      "CropBox missing from /Page, defaulting to MediaBox\n",
      "CropBox missing from /Page, defaulting to MediaBox\n",
      "CropBox missing from /Page, defaulting to MediaBox\n",
      "CropBox missing from /Page, defaulting to MediaBox\n",
      "CropBox missing from /Page, defaulting to MediaBox\n",
      "CropBox missing from /Page, defaulting to MediaBox\n",
      "CropBox missing from /Page, defaulting to MediaBox\n",
      "CropBox missing from /Page, defaulting to MediaBox\n",
      "CropBox missing from /Page, defaulting to MediaBox\n",
      "CropBox missing from /Page, defaulting to MediaBox\n",
      "CropBox missing from /Page, defaulting to MediaBox\n",
      "CropBox missing from /Page, defaulting to MediaBox\n",
      "CropBox missing from /Page, defaulting to MediaBox\n",
      "CropBox missing from /Page, defaulting to MediaBox\n",
      "CropBox missing from /Page, defaulting to MediaBox\n"
     ]
    },
    {
     "name": "stdout",
     "output_type": "stream",
     "text": [
      "✅ Markdown generado en 'salida.md'\n"
     ]
    }
   ],
   "source": [
    "\n",
    "\n",
    "markdown = pdf_to_markdown_structured(pdf_path)\n",
    "with open(\"salida.md\", \"w\", encoding=\"utf-8\") as f:\n",
    "    f.write(markdown)\n",
    "print(\"✅ Markdown generado en 'salida.md'\")"
   ]
  },
  {
   "cell_type": "code",
   "execution_count": null,
   "metadata": {},
   "outputs": [],
   "source": []
  },
  {
   "cell_type": "code",
   "execution_count": null,
   "metadata": {},
   "outputs": [],
   "source": []
  }
 ],
 "metadata": {
  "kernelspec": {
   "display_name": ".venv",
   "language": "python",
   "name": "python3"
  },
  "language_info": {
   "codemirror_mode": {
    "name": "ipython",
    "version": 3
   },
   "file_extension": ".py",
   "mimetype": "text/x-python",
   "name": "python",
   "nbconvert_exporter": "python",
   "pygments_lexer": "ipython3",
   "version": "3.12.0"
  }
 },
 "nbformat": 4,
 "nbformat_minor": 2
}
